{
 "cells": [
  {
   "cell_type": "markdown",
   "metadata": {
    "deletable": true,
    "editable": true,
    "slideshow": {
     "slide_type": "slide"
    }
   },
   "source": [
    "# Автоматическая обработка текстов\n",
    "\n",
    "## Екатерина Черняк\n",
    "\n",
    "### дАДИИ ФКН НИУ ВШЭ\n",
    "\n",
    "### echernyak@hse.ru"
   ]
  },
  {
   "cell_type": "markdown",
   "metadata": {
    "deletable": true,
    "editable": true,
    "slideshow": {
     "slide_type": "slide"
    }
   },
   "source": [
    "# Введение"
   ]
  },
  {
   "cell_type": "markdown",
   "metadata": {
    "deletable": true,
    "editable": true,
    "slideshow": {
     "slide_type": "subslide"
    }
   },
   "source": [
    "## Краткая история \n",
    "\n",
    "1. 7 января 1954. Джорджтаунский эксперимент по машинному переводу с русского на английский; \n",
    "1. 1957 г.,  Ноам Хомский ввел \"универсальную грамматику\";\n",
    "1. 1961 г., Начинается сбор Брауновского корпуса;\n",
    "1. конец 1960-х гг., ELIZA –- программа, ведущая психотерапевтические разговоры;\n",
    "1. 1975 г.,  Солтон ввел векторную модель (Vector Space Model, VSM);\n",
    "1. до 1980–х. Методы решения задач, основанные на правилах;\n",
    "1. после 1980–х гг., Методы решения задач, основанные на машинном обучении и корпусной лингвистике;\n",
    "1. 1998  г., Понте и Крофт вводят языковую модель (Language Model, LM);\n",
    "1. конец 1990–х  гг., Вероятностные тематические модели (LSI, pLSI, LDA, и т.д.);\n",
    "1. 1999   г., Опубликован учебник Маннинга и Щютце \"Основы статистической автоматической обработки текстов\" (\"Foundations of Statistical Natural Language Processing\");\n",
    "1. 2009  г.. Опубликован учебник Берда, Кляйна и Лопера \"Автоматическая обработка текстов на Python\" (\"Natural Language Processing with Python); \n",
    "1. Mikolov, Tomas и др. \"Efficient estimation of word representations in vector space\"."
   ]
  },
  {
   "cell_type": "markdown",
   "metadata": {
    "deletable": true,
    "editable": true,
    "slideshow": {
     "slide_type": "subslide"
    }
   },
   "source": [
    "## Основные задачи\n",
    "* Машинный перевод\n",
    "* Классификация текстов\n",
    "    * Фильтрация спама\n",
    "    * По тональности\n",
    "    * По теме или жанру\n",
    "* Кластеризация текстов\n",
    "* Извлечение информации\n",
    "    * Фактов и событий\n",
    "    * Именованных сущностей\n",
    "* Вопросно-ответные системы\n",
    "* Суммаризация текстов\n",
    "* Генерация текстов\n",
    "* Распознавание речи\n",
    "* Проверка правописания\n",
    "* Оптическое распознавание символов\n",
    "* Пользовательские эксперименты и оценка точности и качества методов"
   ]
  },
  {
   "cell_type": "markdown",
   "metadata": {
    "deletable": true,
    "editable": true,
    "slideshow": {
     "slide_type": "subslide"
    }
   },
   "source": [
    "## Основные техники \n",
    "* Уровень символов:\n",
    "    * Токенизация: разбиение текста на слова\n",
    "    * Разбиение текста на предложения\n",
    "* Уровень слов – морфология:\n",
    "    * Разметка частей речи\n",
    "    * Снятие морфологической неоднозначности\n",
    "* Уровень предложений – синтаксис:\n",
    "    * Выделенние именных или глагольных групп (chunking)\n",
    "    * Выделенние семантических ролей\n",
    "    * Деревья составляющих и зависимостей\n",
    "* Уровень смысла – семантика и дискурс:\n",
    "    * Разрешение кореферентных связей\n",
    "    * Анализ дискурсивных связей\n",
    "    * Выделение синонимов\n",
    "    * Анализ аргументативных связей"
   ]
  },
  {
   "cell_type": "markdown",
   "metadata": {
    "deletable": true,
    "editable": true,
    "slideshow": {
     "slide_type": "subslide"
    }
   },
   "source": [
    "## Основные проблемы\n",
    "* Неоднозначность\n",
    "    * Лексическая неоднозначность: *орган, парить, рожки, атлас*\n",
    "    * Морфологическая неоднозначность: *Хранение денег в банке. Что делают белки в клетке?*\n",
    "    * Синтаксическая неоднозначность: *Мужу изменять нельзя. Его удивил простой солдат.*\n",
    "* Неологизмы: *печеньки, заинстаграммить, репостнуть, расшарить, затащить, килорубли*\n",
    "* Разные варианты написания: *Россия, Российская Федерация, РФ*\n",
    "* Нестандартное написание: *каг дила?*"
   ]
  },
  {
   "cell_type": "markdown",
   "metadata": {
    "deletable": true,
    "editable": true,
    "slideshow": {
     "slide_type": "subslide"
    }
   },
   "source": [
    "### Синтаксическая неоднозначность \n",
    "![синтаксическая неоднозначность](http://78.media.tumblr.com/d6552ff51881937371c94dc18865d711/tumblr_mo1nl6Nt9n1rwewyjo1_400.jpg)\n",
    "\n",
    "\n",
    "* I saw the man. The man was on the hill. I was using a telescope.\n",
    "* I saw the man. I was on the hill. I was using a telescope.\n",
    "* I saw the man. The man was on the hill. The hill had a telescope.\n",
    "* I saw the man. I was on the hill. The hill had a telescope.\n",
    "* I saw the man. The man was on the hill. I saw him using a telescope."
   ]
  },
  {
   "cell_type": "markdown",
   "metadata": {
    "deletable": true,
    "editable": true,
    "slideshow": {
     "slide_type": "slide"
    }
   },
   "source": [
    "# План\n",
    "\n",
    "1. Морфология. Синтаксис. Извлечение ключевых слов и словосочетаний.\n",
    "2. Векторная модель документа и информационный поиск. Векторная модель слова и дистрибутивная семантика. Методы снижения размерности. Тематическое моделирование, word2vec, GloVe\n",
    "3. Классификация документов и классификация последовательностей. Сверточные нейронные сети, условные случайные поля. \n",
    "4. Языковая модель. Нейронная языковая модель. Реккурентные нейронные сети. Извлечение именованных сущностей. "
   ]
  },
  {
   "cell_type": "markdown",
   "metadata": {
    "deletable": true,
    "editable": true,
    "slideshow": {
     "slide_type": "slide"
    }
   },
   "source": [
    "# Токенизация и подсчет количества слов\n"
   ]
  },
  {
   "cell_type": "markdown",
   "metadata": {
    "deletable": true,
    "editable": true,
    "slideshow": {
     "slide_type": "fragment"
    }
   },
   "source": [
    "## Сколько слов в этом предложении?\n",
    "* На дворе трава, на траве дрова, не руби дрова на траве двора.*"
   ]
  },
  {
   "cell_type": "markdown",
   "metadata": {
    "deletable": true,
    "editable": true,
    "slideshow": {
     "slide_type": "fragment"
    }
   },
   "source": [
    "** 12 токенов** : На, дворе, трава, на, траве, дрова, не, руби, дрова, на, траве, двора\n",
    "\n",
    "** 8 - 9 типов** : Н/на, дворе, трава, траве, дрова, не, руби, двора. \n",
    "\n",
    "** 6  лексем** : на, не, двор, трава, дрова, рубить"
   ]
  },
  {
   "cell_type": "markdown",
   "metadata": {
    "deletable": true,
    "editable": true,
    "slideshow": {
     "slide_type": "fragment"
    }
   },
   "source": [
    "\n",
    "### Токен и тип\n",
    "\n",
    "**  Тип **  – уникальное слово из текста\n",
    "\n",
    "** Токен **  – тип и его позиция в тексте\n",
    "\n"
   ]
  },
  {
   "cell_type": "markdown",
   "metadata": {
    "deletable": true,
    "editable": true,
    "slideshow": {
     "slide_type": "subslide"
    }
   },
   "source": [
    "\n",
    "### Обозначения \n",
    "$N$ = число токенов\n",
    "\n",
    "$V$ – словарь (все типы)\n",
    "\n",
    "$|V|$ = количество типов в словаре\n",
    "\n",
    "** Как связаны $N$ и $|V|$?**\n"
   ]
  },
  {
   "cell_type": "markdown",
   "metadata": {
    "deletable": true,
    "editable": true,
    "slideshow": {
     "slide_type": "subslide"
    }
   },
   "source": [
    "### Закон Ципфа\n",
    "\n",
    "\n",
    "В любом достаточно большом тексте ранг типа обратно пропорционален его частоте: $f = \\frac{a}{r}$\n",
    "\n",
    "$f$ – частота типа, $r$  – ранг типа, $a$  – параметр, для славянских языков – около 0.07\n"
   ]
  },
  {
   "cell_type": "markdown",
   "metadata": {
    "deletable": true,
    "editable": true,
    "slideshow": {
     "slide_type": "subslide"
    }
   },
   "source": [
    "### Закон Хипса\n",
    "\n",
    "С увеличением длины текста (количества токенов), количество типов увеличивается в соответствии с законом: $|V| = K*N^b$\n",
    "\n",
    "\n",
    "$N$  –  число токенов, $|V|$  – количество типов в словаре, $K, b$  –  параметры, обычно $K \\in [10,100], b \\in [0.4, 0.6]$"
   ]
  },
  {
   "cell_type": "markdown",
   "metadata": {
    "deletable": true,
    "editable": true,
    "slideshow": {
     "slide_type": "slide"
    }
   },
   "source": [
    "# Анализ новостных сообщений"
   ]
  },
  {
   "cell_type": "markdown",
   "metadata": {
    "deletable": true,
    "editable": true,
    "slideshow": {
     "slide_type": "subslide"
    }
   },
   "source": [
    "Рассмотрим коллекцию новостных сообщений за первую половину 2017 года. Про каждое новостное сообщение известны:\n",
    "* его заголовок и текст\n",
    "* дата его публикации\n",
    "* событие, о котором это новостное сообщение написано \n",
    "* его рубрика "
   ]
  },
  {
   "cell_type": "code",
   "execution_count": 4,
   "metadata": {
    "collapsed": false,
    "deletable": true,
    "editable": true,
    "slideshow": {
     "slide_type": "subslide"
    }
   },
   "outputs": [
    {
     "data": {
      "text/html": [
       "<div>\n",
       "<table border=\"1\" class=\"dataframe\">\n",
       "  <thead>\n",
       "    <tr style=\"text-align: right;\">\n",
       "      <th></th>\n",
       "      <th>text</th>\n",
       "      <th>date</th>\n",
       "      <th>event</th>\n",
       "      <th>class</th>\n",
       "    </tr>\n",
       "  </thead>\n",
       "  <tbody>\n",
       "    <tr>\n",
       "      <th>0</th>\n",
       "      <td>В ПЕТЕРБУРГЕ ПРОШЕЛ МИТИНГ ПРОТИВ ПЕРЕДАЧИ ИС...</td>\n",
       "      <td>2017-01-10</td>\n",
       "      <td>Передача РПЦ Исаакиевского собора</td>\n",
       "      <td>Внутренняя политика РФ</td>\n",
       "    </tr>\n",
       "    <tr>\n",
       "      <th>1</th>\n",
       "      <td>Lenta.co, Москва, 14 января 2017 СИТУАЦИЯ С П...</td>\n",
       "      <td>2017-01-10</td>\n",
       "      <td>Передача РПЦ Исаакиевского собора</td>\n",
       "      <td>Внутренняя политика РФ</td>\n",
       "    </tr>\n",
       "    <tr>\n",
       "      <th>2</th>\n",
       "      <td>Аргументы и Факты (aif.ru), Москва, 14 января...</td>\n",
       "      <td>2017-01-10</td>\n",
       "      <td>Передача РПЦ Исаакиевского собора</td>\n",
       "      <td>Внутренняя политика РФ</td>\n",
       "    </tr>\n",
       "    <tr>\n",
       "      <th>3</th>\n",
       "      <td>Google Новости ТОП, Москва, 14 января 2017 АК...</td>\n",
       "      <td>2017-01-10</td>\n",
       "      <td>Передача РПЦ Исаакиевского собора</td>\n",
       "      <td>Внутренняя политика РФ</td>\n",
       "    </tr>\n",
       "    <tr>\n",
       "      <th>4</th>\n",
       "      <td>Газета.Ru, Москва, 13 января 2017 В МОСКОВСКО...</td>\n",
       "      <td>2017-01-10</td>\n",
       "      <td>Передача РПЦ Исаакиевского собора</td>\n",
       "      <td>Внутренняя политика РФ</td>\n",
       "    </tr>\n",
       "  </tbody>\n",
       "</table>\n",
       "</div>"
      ],
      "text/plain": [
       "                                                text        date  \\\n",
       "0   В ПЕТЕРБУРГЕ ПРОШЕЛ МИТИНГ ПРОТИВ ПЕРЕДАЧИ ИС...  2017-01-10   \n",
       "1   Lenta.co, Москва, 14 января 2017 СИТУАЦИЯ С П...  2017-01-10   \n",
       "2   Аргументы и Факты (aif.ru), Москва, 14 января...  2017-01-10   \n",
       "3   Google Новости ТОП, Москва, 14 января 2017 АК...  2017-01-10   \n",
       "4   Газета.Ru, Москва, 13 января 2017 В МОСКОВСКО...  2017-01-10   \n",
       "\n",
       "                                event                   class  \n",
       "0  Передача РПЦ Исаакиевского собора   Внутренняя политика РФ  \n",
       "1  Передача РПЦ Исаакиевского собора   Внутренняя политика РФ  \n",
       "2  Передача РПЦ Исаакиевского собора   Внутренняя политика РФ  \n",
       "3  Передача РПЦ Исаакиевского собора   Внутренняя политика РФ  \n",
       "4  Передача РПЦ Исаакиевского собора   Внутренняя политика РФ  "
      ]
     },
     "execution_count": 4,
     "metadata": {},
     "output_type": "execute_result"
    }
   ],
   "source": [
    "import pandas as pd\n",
    "\n",
    "df = pd.read_csv('../data/news.csv')\n",
    "df.head()"
   ]
  },
  {
   "cell_type": "markdown",
   "metadata": {
    "deletable": true,
    "editable": true,
    "slideshow": {
     "slide_type": "subslide"
    }
   },
   "source": [
    "## Предварительный анализ коллекции"
   ]
  },
  {
   "cell_type": "markdown",
   "metadata": {
    "deletable": true,
    "editable": true,
    "slideshow": {
     "slide_type": "fragment"
    }
   },
   "source": [
    "### Средняя длина текстов"
   ]
  },
  {
   "cell_type": "code",
   "execution_count": 6,
   "metadata": {
    "collapsed": false,
    "deletable": true,
    "editable": true,
    "slideshow": {
     "slide_type": "fragment"
    }
   },
   "outputs": [
    {
     "data": {
      "text/plain": [
       "count      1930.000000\n",
       "mean       3798.322798\n",
       "std        7865.936695\n",
       "min          31.000000\n",
       "25%        1215.250000\n",
       "50%        1918.000000\n",
       "75%        4044.000000\n",
       "max      185698.000000\n",
       "Name: text, dtype: float64"
      ]
     },
     "execution_count": 6,
     "metadata": {},
     "output_type": "execute_result"
    }
   ],
   "source": [
    "len_data = df.text.apply(len)\n",
    "len_data.describe()"
   ]
  },
  {
   "cell_type": "markdown",
   "metadata": {
    "deletable": true,
    "editable": true,
    "slideshow": {
     "slide_type": "subslide"
    }
   },
   "source": [
    "### Количество текстов о разных событиях"
   ]
  },
  {
   "cell_type": "code",
   "execution_count": 7,
   "metadata": {
    "collapsed": false,
    "deletable": true,
    "editable": true,
    "slideshow": {
     "slide_type": "fragment"
    }
   },
   "outputs": [
    {
     "data": {
      "text/html": [
       "\n",
       "    <div class=\"bk-root\">\n",
       "        <a href=\"http://bokeh.pydata.org\" target=\"_blank\" class=\"bk-logo bk-logo-small bk-logo-notebook\"></a>\n",
       "        <span id=\"98c63888-f3ce-41ae-a82e-7ad08ef1e7d0\">Loading BokehJS ...</span>\n",
       "    </div>"
      ]
     },
     "metadata": {},
     "output_type": "display_data"
    },
    {
     "data": {
      "application/javascript": [
       "\n",
       "(function(global) {\n",
       "  function now() {\n",
       "    return new Date();\n",
       "  }\n",
       "\n",
       "  var force = true;\n",
       "\n",
       "  if (typeof (window._bokeh_onload_callbacks) === \"undefined\" || force === true) {\n",
       "    window._bokeh_onload_callbacks = [];\n",
       "    window._bokeh_is_loading = undefined;\n",
       "  }\n",
       "\n",
       "\n",
       "  \n",
       "  if (typeof (window._bokeh_timeout) === \"undefined\" || force === true) {\n",
       "    window._bokeh_timeout = Date.now() + 5000;\n",
       "    window._bokeh_failed_load = false;\n",
       "  }\n",
       "\n",
       "  var NB_LOAD_WARNING = {'data': {'text/html':\n",
       "     \"<div style='background-color: #fdd'>\\n\"+\n",
       "     \"<p>\\n\"+\n",
       "     \"BokehJS does not appear to have successfully loaded. If loading BokehJS from CDN, this \\n\"+\n",
       "     \"may be due to a slow or bad network connection. Possible fixes:\\n\"+\n",
       "     \"</p>\\n\"+\n",
       "     \"<ul>\\n\"+\n",
       "     \"<li>re-rerun `output_notebook()` to attempt to load from CDN again, or</li>\\n\"+\n",
       "     \"<li>use INLINE resources instead, as so:</li>\\n\"+\n",
       "     \"</ul>\\n\"+\n",
       "     \"<code>\\n\"+\n",
       "     \"from bokeh.resources import INLINE\\n\"+\n",
       "     \"output_notebook(resources=INLINE)\\n\"+\n",
       "     \"</code>\\n\"+\n",
       "     \"</div>\"}};\n",
       "\n",
       "  function display_loaded() {\n",
       "    if (window.Bokeh !== undefined) {\n",
       "      document.getElementById(\"98c63888-f3ce-41ae-a82e-7ad08ef1e7d0\").textContent = \"BokehJS successfully loaded.\";\n",
       "    } else if (Date.now() < window._bokeh_timeout) {\n",
       "      setTimeout(display_loaded, 100)\n",
       "    }\n",
       "  }\n",
       "\n",
       "  function run_callbacks() {\n",
       "    window._bokeh_onload_callbacks.forEach(function(callback) { callback() });\n",
       "    delete window._bokeh_onload_callbacks\n",
       "    console.info(\"Bokeh: all callbacks have finished\");\n",
       "  }\n",
       "\n",
       "  function load_libs(js_urls, callback) {\n",
       "    window._bokeh_onload_callbacks.push(callback);\n",
       "    if (window._bokeh_is_loading > 0) {\n",
       "      console.log(\"Bokeh: BokehJS is being loaded, scheduling callback at\", now());\n",
       "      return null;\n",
       "    }\n",
       "    if (js_urls == null || js_urls.length === 0) {\n",
       "      run_callbacks();\n",
       "      return null;\n",
       "    }\n",
       "    console.log(\"Bokeh: BokehJS not loaded, scheduling load and callback at\", now());\n",
       "    window._bokeh_is_loading = js_urls.length;\n",
       "    for (var i = 0; i < js_urls.length; i++) {\n",
       "      var url = js_urls[i];\n",
       "      var s = document.createElement('script');\n",
       "      s.src = url;\n",
       "      s.async = false;\n",
       "      s.onreadystatechange = s.onload = function() {\n",
       "        window._bokeh_is_loading--;\n",
       "        if (window._bokeh_is_loading === 0) {\n",
       "          console.log(\"Bokeh: all BokehJS libraries loaded\");\n",
       "          run_callbacks()\n",
       "        }\n",
       "      };\n",
       "      s.onerror = function() {\n",
       "        console.warn(\"failed to load library \" + url);\n",
       "      };\n",
       "      console.log(\"Bokeh: injecting script tag for BokehJS library: \", url);\n",
       "      document.getElementsByTagName(\"head\")[0].appendChild(s);\n",
       "    }\n",
       "  };var element = document.getElementById(\"98c63888-f3ce-41ae-a82e-7ad08ef1e7d0\");\n",
       "  if (element == null) {\n",
       "    console.log(\"Bokeh: ERROR: autoload.js configured with elementid '98c63888-f3ce-41ae-a82e-7ad08ef1e7d0' but no matching script tag was found. \")\n",
       "    return false;\n",
       "  }\n",
       "\n",
       "  var js_urls = [\"https://cdn.pydata.org/bokeh/release/bokeh-0.12.4.min.js\", \"https://cdn.pydata.org/bokeh/release/bokeh-widgets-0.12.4.min.js\"];\n",
       "\n",
       "  var inline_js = [\n",
       "    function(Bokeh) {\n",
       "      Bokeh.set_log_level(\"info\");\n",
       "    },\n",
       "    \n",
       "    function(Bokeh) {\n",
       "      \n",
       "      document.getElementById(\"98c63888-f3ce-41ae-a82e-7ad08ef1e7d0\").textContent = \"BokehJS is loading...\";\n",
       "    },\n",
       "    function(Bokeh) {\n",
       "      console.log(\"Bokeh: injecting CSS: https://cdn.pydata.org/bokeh/release/bokeh-0.12.4.min.css\");\n",
       "      Bokeh.embed.inject_css(\"https://cdn.pydata.org/bokeh/release/bokeh-0.12.4.min.css\");\n",
       "      console.log(\"Bokeh: injecting CSS: https://cdn.pydata.org/bokeh/release/bokeh-widgets-0.12.4.min.css\");\n",
       "      Bokeh.embed.inject_css(\"https://cdn.pydata.org/bokeh/release/bokeh-widgets-0.12.4.min.css\");\n",
       "    }\n",
       "  ];\n",
       "\n",
       "  function run_inline_js() {\n",
       "    \n",
       "    if ((window.Bokeh !== undefined) || (force === true)) {\n",
       "      for (var i = 0; i < inline_js.length; i++) {\n",
       "        inline_js[i](window.Bokeh);\n",
       "      }if (force === true) {\n",
       "        display_loaded();\n",
       "      }} else if (Date.now() < window._bokeh_timeout) {\n",
       "      setTimeout(run_inline_js, 100);\n",
       "    } else if (!window._bokeh_failed_load) {\n",
       "      console.log(\"Bokeh: BokehJS failed to load within specified timeout.\");\n",
       "      window._bokeh_failed_load = true;\n",
       "    } else if (force !== true) {\n",
       "      var cell = $(document.getElementById(\"98c63888-f3ce-41ae-a82e-7ad08ef1e7d0\")).parents('.cell').data().cell;\n",
       "      cell.output_area.append_execute_result(NB_LOAD_WARNING)\n",
       "    }\n",
       "\n",
       "  }\n",
       "\n",
       "  if (window._bokeh_is_loading === 0) {\n",
       "    console.log(\"Bokeh: BokehJS loaded, going straight to plotting\");\n",
       "    run_inline_js();\n",
       "  } else {\n",
       "    load_libs(js_urls, function() {\n",
       "      console.log(\"Bokeh: BokehJS plotting callback run at\", now());\n",
       "      run_inline_js();\n",
       "    });\n",
       "  }\n",
       "}(this));"
      ]
     },
     "metadata": {},
     "output_type": "display_data"
    },
    {
     "data": {
      "text/html": [
       "\n",
       "\n",
       "    <div class=\"bk-root\">\n",
       "        <div class=\"bk-plotdiv\" id=\"2a12a199-4f6b-46cc-91d4-a6d5d5f229da\"></div>\n",
       "    </div>\n",
       "<script type=\"text/javascript\">\n",
       "  \n",
       "  (function(global) {\n",
       "    function now() {\n",
       "      return new Date();\n",
       "    }\n",
       "  \n",
       "    var force = false;\n",
       "  \n",
       "    if (typeof (window._bokeh_onload_callbacks) === \"undefined\" || force === true) {\n",
       "      window._bokeh_onload_callbacks = [];\n",
       "      window._bokeh_is_loading = undefined;\n",
       "    }\n",
       "  \n",
       "  \n",
       "    \n",
       "    if (typeof (window._bokeh_timeout) === \"undefined\" || force === true) {\n",
       "      window._bokeh_timeout = Date.now() + 0;\n",
       "      window._bokeh_failed_load = false;\n",
       "    }\n",
       "  \n",
       "    var NB_LOAD_WARNING = {'data': {'text/html':\n",
       "       \"<div style='background-color: #fdd'>\\n\"+\n",
       "       \"<p>\\n\"+\n",
       "       \"BokehJS does not appear to have successfully loaded. If loading BokehJS from CDN, this \\n\"+\n",
       "       \"may be due to a slow or bad network connection. Possible fixes:\\n\"+\n",
       "       \"</p>\\n\"+\n",
       "       \"<ul>\\n\"+\n",
       "       \"<li>re-rerun `output_notebook()` to attempt to load from CDN again, or</li>\\n\"+\n",
       "       \"<li>use INLINE resources instead, as so:</li>\\n\"+\n",
       "       \"</ul>\\n\"+\n",
       "       \"<code>\\n\"+\n",
       "       \"from bokeh.resources import INLINE\\n\"+\n",
       "       \"output_notebook(resources=INLINE)\\n\"+\n",
       "       \"</code>\\n\"+\n",
       "       \"</div>\"}};\n",
       "  \n",
       "    function display_loaded() {\n",
       "      if (window.Bokeh !== undefined) {\n",
       "        document.getElementById(\"2a12a199-4f6b-46cc-91d4-a6d5d5f229da\").textContent = \"BokehJS successfully loaded.\";\n",
       "      } else if (Date.now() < window._bokeh_timeout) {\n",
       "        setTimeout(display_loaded, 100)\n",
       "      }\n",
       "    }\n",
       "  \n",
       "    function run_callbacks() {\n",
       "      window._bokeh_onload_callbacks.forEach(function(callback) { callback() });\n",
       "      delete window._bokeh_onload_callbacks\n",
       "      console.info(\"Bokeh: all callbacks have finished\");\n",
       "    }\n",
       "  \n",
       "    function load_libs(js_urls, callback) {\n",
       "      window._bokeh_onload_callbacks.push(callback);\n",
       "      if (window._bokeh_is_loading > 0) {\n",
       "        console.log(\"Bokeh: BokehJS is being loaded, scheduling callback at\", now());\n",
       "        return null;\n",
       "      }\n",
       "      if (js_urls == null || js_urls.length === 0) {\n",
       "        run_callbacks();\n",
       "        return null;\n",
       "      }\n",
       "      console.log(\"Bokeh: BokehJS not loaded, scheduling load and callback at\", now());\n",
       "      window._bokeh_is_loading = js_urls.length;\n",
       "      for (var i = 0; i < js_urls.length; i++) {\n",
       "        var url = js_urls[i];\n",
       "        var s = document.createElement('script');\n",
       "        s.src = url;\n",
       "        s.async = false;\n",
       "        s.onreadystatechange = s.onload = function() {\n",
       "          window._bokeh_is_loading--;\n",
       "          if (window._bokeh_is_loading === 0) {\n",
       "            console.log(\"Bokeh: all BokehJS libraries loaded\");\n",
       "            run_callbacks()\n",
       "          }\n",
       "        };\n",
       "        s.onerror = function() {\n",
       "          console.warn(\"failed to load library \" + url);\n",
       "        };\n",
       "        console.log(\"Bokeh: injecting script tag for BokehJS library: \", url);\n",
       "        document.getElementsByTagName(\"head\")[0].appendChild(s);\n",
       "      }\n",
       "    };var element = document.getElementById(\"2a12a199-4f6b-46cc-91d4-a6d5d5f229da\");\n",
       "    if (element == null) {\n",
       "      console.log(\"Bokeh: ERROR: autoload.js configured with elementid '2a12a199-4f6b-46cc-91d4-a6d5d5f229da' but no matching script tag was found. \")\n",
       "      return false;\n",
       "    }\n",
       "  \n",
       "    var js_urls = [];\n",
       "  \n",
       "    var inline_js = [\n",
       "      function(Bokeh) {\n",
       "        (function() {\n",
       "          var fn = function() {\n",
       "            var docs_json = {\"a2d12555-fc6e-4537-897f-5ae8150acdd7\":{\"roots\":{\"references\":[{\"attributes\":{},\"id\":\"745a43b0-f0d3-4f8e-a639-28c47ccede98\",\"type\":\"BasicTicker\"},{\"attributes\":{\"callback\":null,\"column_names\":[\"x\",\"y\",\"width\",\"height\",\"color\",\"fill_alpha\",\"line_color\",\"line_alpha\",\"label\"],\"data\":{\"chart_index\":[{\"index\":\"\\u0423\\u043c\\u0435\\u0440 \\u0414\\u044d\\u0432\\u0438\\u0434 \\u0420\\u043e\\u043a\\u0444\\u0435\\u043b\\u043b\\u0435\\u0440\"}],\"color\":[\"#f22c40\"],\"fill_alpha\":[0.8],\"height\":[41.0],\"index\":[\"\\u0423\\u043c\\u0435\\u0440 \\u0414\\u044d\\u0432\\u0438\\u0434 \\u0420\\u043e\\u043a\\u0444\\u0435\\u043b\\u043b\\u0435\\u0440\"],\"label\":[{\"index\":\"\\u0423\\u043c\\u0435\\u0440 \\u0414\\u044d\\u0432\\u0438\\u0434 \\u0420\\u043e\\u043a\\u0444\\u0435\\u043b\\u043b\\u0435\\u0440\"}],\"line_alpha\":[1.0],\"line_color\":[\"white\"],\"width\":[0.8],\"x\":[\"\\u0423\\u043c\\u0435\\u0440 \\u0414\\u044d\\u0432\\u0438\\u0434 \\u0420\\u043e\\u043a\\u0444\\u0435\\u043b\\u043b\\u0435\\u0440\"],\"y\":[20.5]}},\"id\":\"7ab3a646-bf7e-487e-a386-5fcf263e76f6\",\"type\":\"ColumnDataSource\"},{\"attributes\":{\"callback\":null,\"column_names\":[\"x\",\"y\",\"width\",\"height\",\"color\",\"fill_alpha\",\"line_color\",\"line_alpha\",\"label\"],\"data\":{\"chart_index\":[{\"index\":\"\\u0414\\u043e\\u043d\\u0430\\u043b\\u044c\\u0434 \\u0422\\u0440\\u0430\\u043c\\u043f  \\u2013 \\u043f\\u0440\\u0435\\u0437\\u0438\\u0434\\u0435\\u043d\\u0442 \\u0421\\u0428\\u0410\"}],\"color\":[\"#f22c40\"],\"fill_alpha\":[0.8],\"height\":[51.0],\"index\":[\"\\u0414\\u043e\\u043d\\u0430\\u043b\\u044c\\u0434 \\u0422\\u0440\\u0430\\u043c\\u043f  \\u2013 \\u043f\\u0440\\u0435\\u0437\\u0438\\u0434\\u0435\\u043d\\u0442 \\u0421\\u0428\\u0410\"],\"label\":[{\"index\":\"\\u0414\\u043e\\u043d\\u0430\\u043b\\u044c\\u0434 \\u0422\\u0440\\u0430\\u043c\\u043f  \\u2013 \\u043f\\u0440\\u0435\\u0437\\u0438\\u0434\\u0435\\u043d\\u0442 \\u0421\\u0428\\u0410\"}],\"line_alpha\":[1.0],\"line_color\":[\"white\"],\"width\":[0.8],\"x\":[\"\\u0414\\u043e\\u043d\\u0430\\u043b\\u044c\\u0434 \\u0422\\u0440\\u0430\\u043c\\u043f  \\u2013 \\u043f\\u0440\\u0435\\u0437\\u0438\\u0434\\u0435\\u043d\\u0442 \\u0421\\u0428\\u0410\"],\"y\":[25.5]}},\"id\":\"adf55da6-d9cf-4bd8-a2cf-e2de7eb1bdde\",\"type\":\"ColumnDataSource\"},{\"attributes\":{\"data_source\":{\"id\":\"adf55da6-d9cf-4bd8-a2cf-e2de7eb1bdde\",\"type\":\"ColumnDataSource\"},\"glyph\":{\"id\":\"45931825-0fe0-49db-ab49-de66afe7af12\",\"type\":\"Rect\"},\"hover_glyph\":null,\"nonselection_glyph\":null,\"selection_glyph\":null},\"id\":\"39bab4c3-0d97-46b1-baaf-40eb109b1e73\",\"type\":\"GlyphRenderer\"},{\"attributes\":{\"fill_alpha\":{\"field\":\"fill_alpha\"},\"fill_color\":{\"field\":\"color\"},\"height\":{\"field\":\"height\",\"units\":\"data\"},\"line_color\":{\"field\":\"line_color\"},\"width\":{\"field\":\"width\",\"units\":\"data\"},\"x\":{\"field\":\"x\"},\"y\":{\"field\":\"y\"}},\"id\":\"02bcd8b3-a94e-4793-8a7b-903767e953b5\",\"type\":\"Rect\"},{\"attributes\":{\"callback\":null,\"column_names\":[\"x\",\"y\",\"width\",\"height\",\"color\",\"fill_alpha\",\"line_color\",\"line_alpha\",\"label\"],\"data\":{\"chart_index\":[{\"index\":\"\\u0424\\u0438\\u043b\\u044c\\u043c \\u043f\\u0440\\u043e \\u041f\\u0443\\u0442\\u0438\\u043d\\u0430 \\u043d\\u0430 CNN\"}],\"color\":[\"#f22c40\"],\"fill_alpha\":[0.8],\"height\":[2.0],\"index\":[\"\\u0424\\u0438\\u043b\\u044c\\u043c \\u043f\\u0440\\u043e \\u041f\\u0443\\u0442\\u0438\\u043d\\u0430 \\u043d\\u0430 CNN\"],\"label\":[{\"index\":\"\\u0424\\u0438\\u043b\\u044c\\u043c \\u043f\\u0440\\u043e \\u041f\\u0443\\u0442\\u0438\\u043d\\u0430 \\u043d\\u0430 CNN\"}],\"line_alpha\":[1.0],\"line_color\":[\"white\"],\"width\":[0.8],\"x\":[\"\\u0424\\u0438\\u043b\\u044c\\u043c \\u043f\\u0440\\u043e \\u041f\\u0443\\u0442\\u0438\\u043d\\u0430 \\u043d\\u0430 CNN\"],\"y\":[1.0]}},\"id\":\"8a11bcaa-052f-42b4-9fca-913ce585fcf5\",\"type\":\"ColumnDataSource\"},{\"attributes\":{\"data_source\":{\"id\":\"8a11bcaa-052f-42b4-9fca-913ce585fcf5\",\"type\":\"ColumnDataSource\"},\"glyph\":{\"id\":\"d33461bc-b55b-4d22-9dec-7674f211fd92\",\"type\":\"Rect\"},\"hover_glyph\":null,\"nonselection_glyph\":null,\"selection_glyph\":null},\"id\":\"4d2ed3cc-9b49-4fd6-a097-4547794a2bb8\",\"type\":\"GlyphRenderer\"},{\"attributes\":{\"dimension\":1,\"plot\":{\"id\":\"2622f101-af39-4d38-b0a4-09c60386d880\",\"subtype\":\"Chart\",\"type\":\"Plot\"},\"ticker\":{\"id\":\"745a43b0-f0d3-4f8e-a639-28c47ccede98\",\"type\":\"BasicTicker\"}},\"id\":\"25dcb423-ba94-486f-8fe6-d92bb3f35fd3\",\"type\":\"Grid\"},{\"attributes\":{\"callback\":null,\"column_names\":[\"x\",\"y\",\"width\",\"height\",\"color\",\"fill_alpha\",\"line_color\",\"line_alpha\",\"label\"],\"data\":{\"chart_index\":[{\"index\":\"SpaceX \\u0437\\u0430\\u043f\\u0443\\u0441\\u0442\\u0438\\u043b\\u0430 \\u0438 \\u043f\\u043e\\u0441\\u0430\\u0434\\u0438\\u043b\\u0430 \\u0440\\u0430\\u043a\\u0435\\u0442\\u0443\"}],\"color\":[\"#f22c40\"],\"fill_alpha\":[0.8],\"height\":[49.0],\"index\":[\"SpaceX \\u0437\\u0430\\u043f\\u0443\\u0441\\u0442\\u0438\\u043b\\u0430 \\u0438 \\u043f\\u043e\\u0441\\u0430\\u0434\\u0438\\u043b\\u0430 \\u0440\\u0430\\u043a\\u0435\\u0442\\u0443\"],\"label\":[{\"index\":\"SpaceX \\u0437\\u0430\\u043f\\u0443\\u0441\\u0442\\u0438\\u043b\\u0430 \\u0438 \\u043f\\u043e\\u0441\\u0430\\u0434\\u0438\\u043b\\u0430 \\u0440\\u0430\\u043a\\u0435\\u0442\\u0443\"}],\"line_alpha\":[1.0],\"line_color\":[\"white\"],\"width\":[0.8],\"x\":[\"SpaceX \\u0437\\u0430\\u043f\\u0443\\u0441\\u0442\\u0438\\u043b\\u0430 \\u0438 \\u043f\\u043e\\u0441\\u0430\\u0434\\u0438\\u043b\\u0430 \\u0440\\u0430\\u043a\\u0435\\u0442\\u0443\"],\"y\":[24.5]}},\"id\":\"77acc69e-53e2-4591-98bb-a3fea04ee421\",\"type\":\"ColumnDataSource\"},{\"attributes\":{\"data_source\":{\"id\":\"77acc69e-53e2-4591-98bb-a3fea04ee421\",\"type\":\"ColumnDataSource\"},\"glyph\":{\"id\":\"02bcd8b3-a94e-4793-8a7b-903767e953b5\",\"type\":\"Rect\"},\"hover_glyph\":null,\"nonselection_glyph\":null,\"selection_glyph\":null},\"id\":\"e89ebaad-4e03-4c5a-bbd7-19ae53d27e1a\",\"type\":\"GlyphRenderer\"},{\"attributes\":{\"fill_alpha\":{\"field\":\"fill_alpha\"},\"fill_color\":{\"field\":\"color\"},\"height\":{\"field\":\"height\",\"units\":\"data\"},\"line_color\":{\"field\":\"line_color\"},\"width\":{\"field\":\"width\",\"units\":\"data\"},\"x\":{\"field\":\"x\"},\"y\":{\"field\":\"y\"}},\"id\":\"1fc2a387-6721-4b8d-b5ef-d9b832631e61\",\"type\":\"Rect\"},{\"attributes\":{\"data_source\":{\"id\":\"7ab3a646-bf7e-487e-a386-5fcf263e76f6\",\"type\":\"ColumnDataSource\"},\"glyph\":{\"id\":\"8315933d-bdb2-47b2-a680-5a68126a395d\",\"type\":\"Rect\"},\"hover_glyph\":null,\"nonselection_glyph\":null,\"selection_glyph\":null},\"id\":\"f496cdf8-c27c-4c40-8ea8-8267c6255327\",\"type\":\"GlyphRenderer\"},{\"attributes\":{\"fill_alpha\":{\"field\":\"fill_alpha\"},\"fill_color\":{\"field\":\"color\"},\"height\":{\"field\":\"height\",\"units\":\"data\"},\"line_color\":{\"field\":\"line_color\"},\"width\":{\"field\":\"width\",\"units\":\"data\"},\"x\":{\"field\":\"x\"},\"y\":{\"field\":\"y\"}},\"id\":\"1946b71d-a2e9-44bf-a537-b4e78c196ade\",\"type\":\"Rect\"},{\"attributes\":{\"callback\":null,\"column_names\":[\"x\",\"y\",\"width\",\"height\",\"color\",\"fill_alpha\",\"line_color\",\"line_alpha\",\"label\"],\"data\":{\"chart_index\":[{\"index\":\"\\u0422\\u0438\\u043b\\u043b\\u0435\\u0440\\u0441\\u043e\\u043d \\u0432\\u0441\\u0442\\u0440\\u0435\\u0447\\u0430\\u0435\\u0442\\u0441\\u044f \\u0441 \\u041f\\u0443\\u0442\\u0438\\u043d\\u044b\\u043c\"}],\"color\":[\"#f22c40\"],\"fill_alpha\":[0.8],\"height\":[24.0],\"index\":[\"\\u0422\\u0438\\u043b\\u043b\\u0435\\u0440\\u0441\\u043e\\u043d \\u0432\\u0441\\u0442\\u0440\\u0435\\u0447\\u0430\\u0435\\u0442\\u0441\\u044f \\u0441 \\u041f\\u0443\\u0442\\u0438\\u043d\\u044b\\u043c\"],\"label\":[{\"index\":\"\\u0422\\u0438\\u043b\\u043b\\u0435\\u0440\\u0441\\u043e\\u043d \\u0432\\u0441\\u0442\\u0440\\u0435\\u0447\\u0430\\u0435\\u0442\\u0441\\u044f \\u0441 \\u041f\\u0443\\u0442\\u0438\\u043d\\u044b\\u043c\"}],\"line_alpha\":[1.0],\"line_color\":[\"white\"],\"width\":[0.8],\"x\":[\"\\u0422\\u0438\\u043b\\u043b\\u0435\\u0440\\u0441\\u043e\\u043d \\u0432\\u0441\\u0442\\u0440\\u0435\\u0447\\u0430\\u0435\\u0442\\u0441\\u044f \\u0441 \\u041f\\u0443\\u0442\\u0438\\u043d\\u044b\\u043c\"],\"y\":[12.0]}},\"id\":\"8483e0c0-8dd0-478e-b9c8-3fe0973d97db\",\"type\":\"ColumnDataSource\"},{\"attributes\":{\"formatter\":{\"id\":\"e5f439b2-35a5-40a2-a27e-3629c0e48050\",\"type\":\"CategoricalTickFormatter\"},\"major_label_orientation\":1.2707963267948965,\"plot\":{\"id\":\"2622f101-af39-4d38-b0a4-09c60386d880\",\"subtype\":\"Chart\",\"type\":\"Plot\"},\"ticker\":{\"id\":\"552e724f-83f6-42cd-a08d-68ef3ed188c4\",\"type\":\"CategoricalTicker\"}},\"id\":\"837b9f35-30a1-4b2c-b145-69232ea677e3\",\"type\":\"CategoricalAxis\"},{\"attributes\":{\"data_source\":{\"id\":\"31761206-6e5b-4a47-8f53-919094499fdc\",\"type\":\"ColumnDataSource\"},\"glyph\":{\"id\":\"1fc2a387-6721-4b8d-b5ef-d9b832631e61\",\"type\":\"Rect\"},\"hover_glyph\":null,\"nonselection_glyph\":null,\"selection_glyph\":null},\"id\":\"84fe403b-a36a-4372-92f2-d4945c652b5a\",\"type\":\"GlyphRenderer\"},{\"attributes\":{\"axis_label\":\"Sum( Event )\",\"formatter\":{\"id\":\"ae905ef9-daa4-4d0b-bbdd-a1f7b07d5e43\",\"type\":\"BasicTickFormatter\"},\"plot\":{\"id\":\"2622f101-af39-4d38-b0a4-09c60386d880\",\"subtype\":\"Chart\",\"type\":\"Plot\"},\"ticker\":{\"id\":\"745a43b0-f0d3-4f8e-a639-28c47ccede98\",\"type\":\"BasicTicker\"}},\"id\":\"7497365d-9f55-4e6a-86a7-522a6da5c4a5\",\"type\":\"LinearAxis\"},{\"attributes\":{},\"id\":\"e5f439b2-35a5-40a2-a27e-3629c0e48050\",\"type\":\"CategoricalTickFormatter\"},{\"attributes\":{},\"id\":\"552e724f-83f6-42cd-a08d-68ef3ed188c4\",\"type\":\"CategoricalTicker\"},{\"attributes\":{\"callback\":null,\"column_names\":[\"x\",\"y\",\"width\",\"height\",\"color\",\"fill_alpha\",\"line_color\",\"line_alpha\",\"label\"],\"data\":{\"chart_index\":[{\"index\":\"\\u042e\\u043b\\u0438\\u044e \\u0421\\u0430\\u043c\\u043e\\u0439\\u043b\\u043e\\u0432\\u0443 \\u043d\\u0435 \\u043f\\u0443\\u0441\\u0442\\u0438\\u043b\\u0438 \\u043d\\u0430 \\u0415\\u0432\\u0440\\u043e\\u0432\\u0438\\u0434\\u0435\\u043d\\u0438\\u0435\"}],\"color\":[\"#f22c40\"],\"fill_alpha\":[0.8],\"height\":[27.0],\"index\":[\"\\u042e\\u043b\\u0438\\u044e \\u0421\\u0430\\u043c\\u043e\\u0439\\u043b\\u043e\\u0432\\u0443 \\u043d\\u0435 \\u043f\\u0443\\u0441\\u0442\\u0438\\u043b\\u0438 \\u043d\\u0430 \\u0415\\u0432\\u0440\\u043e\\u0432\\u0438\\u0434\\u0435\\u043d\\u0438\\u0435\"],\"label\":[{\"index\":\"\\u042e\\u043b\\u0438\\u044e \\u0421\\u0430\\u043c\\u043e\\u0439\\u043b\\u043e\\u0432\\u0443 \\u043d\\u0435 \\u043f\\u0443\\u0441\\u0442\\u0438\\u043b\\u0438 \\u043d\\u0430 \\u0415\\u0432\\u0440\\u043e\\u0432\\u0438\\u0434\\u0435\\u043d\\u0438\\u0435\"}],\"line_alpha\":[1.0],\"line_color\":[\"white\"],\"width\":[0.8],\"x\":[\"\\u042e\\u043b\\u0438\\u044e \\u0421\\u0430\\u043c\\u043e\\u0439\\u043b\\u043e\\u0432\\u0443 \\u043d\\u0435 \\u043f\\u0443\\u0441\\u0442\\u0438\\u043b\\u0438 \\u043d\\u0430 \\u0415\\u0432\\u0440\\u043e\\u0432\\u0438\\u0434\\u0435\\u043d\\u0438\\u0435\"],\"y\":[13.5]}},\"id\":\"f548033f-a33f-47ee-9bc1-4f06ef7fe914\",\"type\":\"ColumnDataSource\"},{\"attributes\":{\"callback\":null,\"column_names\":[\"x\",\"y\",\"width\",\"height\",\"color\",\"fill_alpha\",\"line_color\",\"line_alpha\",\"label\"],\"data\":{\"chart_index\":[{\"index\":\"\\u041c\\u0438\\u0442\\u0438\\u043d\\u0433 \\u043f\\u0440\\u043e\\u0442\\u0438\\u0432 \\u0420\\u0435\\u043d\\u043e\\u0432\\u0430\\u0446\\u0438\\u0438 \\u0432 \\u041c\\u043e\\u0441\\u043a\\u0432\\u0435\"}],\"color\":[\"#f22c40\"],\"fill_alpha\":[0.8],\"height\":[8.0],\"index\":[\"\\u041c\\u0438\\u0442\\u0438\\u043d\\u0433 \\u043f\\u0440\\u043e\\u0442\\u0438\\u0432 \\u0420\\u0435\\u043d\\u043e\\u0432\\u0430\\u0446\\u0438\\u0438 \\u0432 \\u041c\\u043e\\u0441\\u043a\\u0432\\u0435\"],\"label\":[{\"index\":\"\\u041c\\u0438\\u0442\\u0438\\u043d\\u0433 \\u043f\\u0440\\u043e\\u0442\\u0438\\u0432 \\u0420\\u0435\\u043d\\u043e\\u0432\\u0430\\u0446\\u0438\\u0438 \\u0432 \\u041c\\u043e\\u0441\\u043a\\u0432\\u0435\"}],\"line_alpha\":[1.0],\"line_color\":[\"white\"],\"width\":[0.8],\"x\":[\"\\u041c\\u0438\\u0442\\u0438\\u043d\\u0433 \\u043f\\u0440\\u043e\\u0442\\u0438\\u0432 \\u0420\\u0435\\u043d\\u043e\\u0432\\u0430\\u0446\\u0438\\u0438 \\u0432 \\u041c\\u043e\\u0441\\u043a\\u0432\\u0435\"],\"y\":[4.0]}},\"id\":\"a6c41a2e-a510-4c8e-92ee-13e1dfe9acf1\",\"type\":\"ColumnDataSource\"},{\"attributes\":{\"data_source\":{\"id\":\"f548033f-a33f-47ee-9bc1-4f06ef7fe914\",\"type\":\"ColumnDataSource\"},\"glyph\":{\"id\":\"1946b71d-a2e9-44bf-a537-b4e78c196ade\",\"type\":\"Rect\"},\"hover_glyph\":null,\"nonselection_glyph\":null,\"selection_glyph\":null},\"id\":\"fb0b9fb0-1f2b-4cac-98b5-99f8fc8e535b\",\"type\":\"GlyphRenderer\"},{\"attributes\":{\"fill_alpha\":{\"field\":\"fill_alpha\"},\"fill_color\":{\"field\":\"color\"},\"height\":{\"field\":\"height\",\"units\":\"data\"},\"line_color\":{\"field\":\"line_color\"},\"width\":{\"field\":\"width\",\"units\":\"data\"},\"x\":{\"field\":\"x\"},\"y\":{\"field\":\"y\"}},\"id\":\"e58605a3-303f-444f-9602-4cbde4bc5df7\",\"type\":\"Rect\"},{\"attributes\":{\"callback\":null,\"column_names\":[\"x\",\"y\",\"width\",\"height\",\"color\",\"fill_alpha\",\"line_color\",\"line_alpha\",\"label\"],\"data\":{\"chart_index\":[{\"index\":\"\\u041d\\u0435\\u0441\\u0430\\u043d\\u043a\\u0446\\u0438\\u043e\\u043d\\u0438\\u0440\\u043e\\u0432\\u0430\\u043d\\u043d\\u044b\\u0435 \\u0430\\u043a\\u0446\\u0438\\u0438 \\u0432 \\u041c\\u043e\\u0441\\u043a\\u0432\\u0435\"}],\"color\":[\"#f22c40\"],\"fill_alpha\":[0.8],\"height\":[7.0],\"index\":[\"\\u041d\\u0435\\u0441\\u0430\\u043d\\u043a\\u0446\\u0438\\u043e\\u043d\\u0438\\u0440\\u043e\\u0432\\u0430\\u043d\\u043d\\u044b\\u0435 \\u0430\\u043a\\u0446\\u0438\\u0438 \\u0432 \\u041c\\u043e\\u0441\\u043a\\u0432\\u0435\"],\"label\":[{\"index\":\"\\u041d\\u0435\\u0441\\u0430\\u043d\\u043a\\u0446\\u0438\\u043e\\u043d\\u0438\\u0440\\u043e\\u0432\\u0430\\u043d\\u043d\\u044b\\u0435 \\u0430\\u043a\\u0446\\u0438\\u0438 \\u0432 \\u041c\\u043e\\u0441\\u043a\\u0432\\u0435\"}],\"line_alpha\":[1.0],\"line_color\":[\"white\"],\"width\":[0.8],\"x\":[\"\\u041d\\u0435\\u0441\\u0430\\u043d\\u043a\\u0446\\u0438\\u043e\\u043d\\u0438\\u0440\\u043e\\u0432\\u0430\\u043d\\u043d\\u044b\\u0435 \\u0430\\u043a\\u0446\\u0438\\u0438 \\u0432 \\u041c\\u043e\\u0441\\u043a\\u0432\\u0435\"],\"y\":[3.5]}},\"id\":\"6fe22534-43e5-406f-99e2-11f0d37ad81a\",\"type\":\"ColumnDataSource\"},{\"attributes\":{\"data_source\":{\"id\":\"8917226f-c305-475d-985b-ca6e146fb8e8\",\"type\":\"ColumnDataSource\"},\"glyph\":{\"id\":\"9eaa2104-480b-414e-b0e6-39a848ae585c\",\"type\":\"Rect\"},\"hover_glyph\":null,\"nonselection_glyph\":null,\"selection_glyph\":null},\"id\":\"1a4d8478-68e5-450e-a1a0-b967e0618114\",\"type\":\"GlyphRenderer\"},{\"attributes\":{\"data_source\":{\"id\":\"8483e0c0-8dd0-478e-b9c8-3fe0973d97db\",\"type\":\"ColumnDataSource\"},\"glyph\":{\"id\":\"e58605a3-303f-444f-9602-4cbde4bc5df7\",\"type\":\"Rect\"},\"hover_glyph\":null,\"nonselection_glyph\":null,\"selection_glyph\":null},\"id\":\"24ced2a7-a17d-4155-a728-4ceede14b93f\",\"type\":\"GlyphRenderer\"},{\"attributes\":{\"fill_alpha\":{\"field\":\"fill_alpha\"},\"fill_color\":{\"field\":\"color\"},\"height\":{\"field\":\"height\",\"units\":\"data\"},\"line_color\":{\"field\":\"line_color\"},\"width\":{\"field\":\"width\",\"units\":\"data\"},\"x\":{\"field\":\"x\"},\"y\":{\"field\":\"y\"}},\"id\":\"31d7f8c7-0315-41a7-b7b3-9a0788a1fc67\",\"type\":\"Rect\"},{\"attributes\":{\"fill_alpha\":{\"field\":\"fill_alpha\"},\"fill_color\":{\"field\":\"color\"},\"height\":{\"field\":\"height\",\"units\":\"data\"},\"line_color\":{\"field\":\"line_color\"},\"width\":{\"field\":\"width\",\"units\":\"data\"},\"x\":{\"field\":\"x\"},\"y\":{\"field\":\"y\"}},\"id\":\"9eaa2104-480b-414e-b0e6-39a848ae585c\",\"type\":\"Rect\"},{\"attributes\":{\"plot\":{\"id\":\"2622f101-af39-4d38-b0a4-09c60386d880\",\"subtype\":\"Chart\",\"type\":\"Plot\"}},\"id\":\"f341d13d-a0b6-42c4-a283-72d23efb67f2\",\"type\":\"WheelZoomTool\"},{\"attributes\":{\"fill_alpha\":{\"field\":\"fill_alpha\"},\"fill_color\":{\"field\":\"color\"},\"height\":{\"field\":\"height\",\"units\":\"data\"},\"line_color\":{\"field\":\"line_color\"},\"width\":{\"field\":\"width\",\"units\":\"data\"},\"x\":{\"field\":\"x\"},\"y\":{\"field\":\"y\"}},\"id\":\"d33461bc-b55b-4d22-9dec-7674f211fd92\",\"type\":\"Rect\"},{\"attributes\":{\"data_source\":{\"id\":\"a6c41a2e-a510-4c8e-92ee-13e1dfe9acf1\",\"type\":\"ColumnDataSource\"},\"glyph\":{\"id\":\"31d7f8c7-0315-41a7-b7b3-9a0788a1fc67\",\"type\":\"Rect\"},\"hover_glyph\":null,\"nonselection_glyph\":null,\"selection_glyph\":null},\"id\":\"46ae1407-71ac-4a60-b041-437a22a3f22d\",\"type\":\"GlyphRenderer\"},{\"attributes\":{\"overlay\":{\"id\":\"c52514c3-2e2a-4ce2-8d1e-e98fedac8f7c\",\"type\":\"BoxAnnotation\"},\"plot\":{\"id\":\"2622f101-af39-4d38-b0a4-09c60386d880\",\"subtype\":\"Chart\",\"type\":\"Plot\"}},\"id\":\"5c77e60d-44a7-40a4-b433-71be1aa301a5\",\"type\":\"BoxZoomTool\"},{\"attributes\":{\"fill_alpha\":{\"field\":\"fill_alpha\"},\"fill_color\":{\"field\":\"color\"},\"height\":{\"field\":\"height\",\"units\":\"data\"},\"line_color\":{\"field\":\"line_color\"},\"width\":{\"field\":\"width\",\"units\":\"data\"},\"x\":{\"field\":\"x\"},\"y\":{\"field\":\"y\"}},\"id\":\"13d557ae-d711-40fc-81bf-2a7ddf1880b5\",\"type\":\"Rect\"},{\"attributes\":{},\"id\":\"f914b49d-5ff9-4dfc-82e1-290245ca6c68\",\"type\":\"ToolEvents\"},{\"attributes\":{\"below\":[{\"id\":\"837b9f35-30a1-4b2c-b145-69232ea677e3\",\"type\":\"CategoricalAxis\"}],\"css_classes\":null,\"height\":600,\"left\":[{\"id\":\"7497365d-9f55-4e6a-86a7-522a6da5c4a5\",\"type\":\"LinearAxis\"}],\"renderers\":[{\"id\":\"c52514c3-2e2a-4ce2-8d1e-e98fedac8f7c\",\"type\":\"BoxAnnotation\"},{\"id\":\"0774788a-b05a-44ec-9b80-5f67702e1fd5\",\"type\":\"GlyphRenderer\"},{\"id\":\"40b71fb8-323c-4093-9b1c-a51f2eedf848\",\"type\":\"GlyphRenderer\"},{\"id\":\"45227a4e-b7af-4803-9a50-f1eb2fe5d57a\",\"type\":\"GlyphRenderer\"},{\"id\":\"08a8eb2c-8b32-4d7a-ae2e-c5c128d119d5\",\"type\":\"GlyphRenderer\"},{\"id\":\"84a3d8b2-dcf2-4003-8c99-7caa9218b4db\",\"type\":\"GlyphRenderer\"},{\"id\":\"5b827b68-0971-442a-8951-13fcfdaed296\",\"type\":\"GlyphRenderer\"},{\"id\":\"a05dae4b-a70c-4e20-b82f-25c19f49faf4\",\"type\":\"GlyphRenderer\"},{\"id\":\"8c92751e-9792-435b-8705-6bcfc5db949e\",\"type\":\"GlyphRenderer\"},{\"id\":\"c205f932-e6d5-4ac8-bf0e-d8827501a215\",\"type\":\"GlyphRenderer\"},{\"id\":\"96e858c9-91d6-4865-a16f-96fe95e95a4e\",\"type\":\"GlyphRenderer\"},{\"id\":\"9d18c375-5296-4b2d-af66-ea1c34847dcb\",\"type\":\"GlyphRenderer\"},{\"id\":\"f372da1b-5572-4348-a046-e9b4d32d1993\",\"type\":\"GlyphRenderer\"},{\"id\":\"dd1162d8-a64d-4c8f-81aa-f00c497e4955\",\"type\":\"GlyphRenderer\"},{\"id\":\"49ddf4e6-3283-4721-86f6-720339d01db0\",\"type\":\"GlyphRenderer\"},{\"id\":\"95e9c111-48ef-49db-be74-7a64befe3ebb\",\"type\":\"GlyphRenderer\"},{\"id\":\"4003af38-1ff4-405d-ac05-22dd4c74b1e1\",\"type\":\"GlyphRenderer\"},{\"id\":\"df5f2cc2-1bc3-4548-9e58-4661d01f3d20\",\"type\":\"GlyphRenderer\"},{\"id\":\"dcd2309a-475a-48aa-af67-d9356599e604\",\"type\":\"GlyphRenderer\"},{\"id\":\"39bab4c3-0d97-46b1-baaf-40eb109b1e73\",\"type\":\"GlyphRenderer\"},{\"id\":\"e89ebaad-4e03-4c5a-bbd7-19ae53d27e1a\",\"type\":\"GlyphRenderer\"},{\"id\":\"84fe403b-a36a-4372-92f2-d4945c652b5a\",\"type\":\"GlyphRenderer\"},{\"id\":\"f496cdf8-c27c-4c40-8ea8-8267c6255327\",\"type\":\"GlyphRenderer\"},{\"id\":\"fb0b9fb0-1f2b-4cac-98b5-99f8fc8e535b\",\"type\":\"GlyphRenderer\"},{\"id\":\"24ced2a7-a17d-4155-a728-4ceede14b93f\",\"type\":\"GlyphRenderer\"},{\"id\":\"46ae1407-71ac-4a60-b041-437a22a3f22d\",\"type\":\"GlyphRenderer\"},{\"id\":\"77fb0969-5dbc-44ef-bc12-2263528921b1\",\"type\":\"GlyphRenderer\"},{\"id\":\"4d2ed3cc-9b49-4fd6-a097-4547794a2bb8\",\"type\":\"GlyphRenderer\"},{\"id\":\"1a4d8478-68e5-450e-a1a0-b967e0618114\",\"type\":\"GlyphRenderer\"},{\"id\":\"837b9f35-30a1-4b2c-b145-69232ea677e3\",\"type\":\"CategoricalAxis\"},{\"id\":\"7497365d-9f55-4e6a-86a7-522a6da5c4a5\",\"type\":\"LinearAxis\"},{\"id\":\"25dcb423-ba94-486f-8fe6-d92bb3f35fd3\",\"type\":\"Grid\"}],\"title\":{\"id\":\"e1de46a6-9b37-45c6-9389-cb25b401e0c6\",\"type\":\"Title\"},\"tool_events\":{\"id\":\"f914b49d-5ff9-4dfc-82e1-290245ca6c68\",\"type\":\"ToolEvents\"},\"toolbar\":{\"id\":\"e08a5d38-5808-442d-b0cc-f45887bb3b3a\",\"type\":\"Toolbar\"},\"width\":1000,\"x_mapper_type\":\"auto\",\"x_range\":{\"id\":\"5b32a6ce-c12a-4eeb-9f2d-ad8c0b588f7c\",\"type\":\"FactorRange\"},\"y_mapper_type\":\"auto\",\"y_range\":{\"id\":\"260f92f2-9672-44db-a592-d347be576160\",\"type\":\"Range1d\"}},\"id\":\"2622f101-af39-4d38-b0a4-09c60386d880\",\"subtype\":\"Chart\",\"type\":\"Plot\"},{\"attributes\":{\"callback\":null,\"column_names\":[\"x\",\"y\",\"width\",\"height\",\"color\",\"fill_alpha\",\"line_color\",\"line_alpha\",\"label\"],\"data\":{\"chart_index\":[{\"index\":\"\\u041e\\u0442\\u0447\\u0435\\u0442 \\u043e\\u0431 \\u0438\\u0442\\u043e\\u0433\\u0430\\u0445 \\u0440\\u0430\\u0431\\u043e\\u0442\\u044b \\u043f\\u0440\\u0430\\u0432\\u0438\\u0442\\u0435\\u043b\\u044c\\u0441\\u0442\\u0432\\u0430 \\u0437\\u0430 2016 \\u0433\\u043e\\u0434\"}],\"color\":[\"#f22c40\"],\"fill_alpha\":[0.8],\"height\":[2.0],\"index\":[\"\\u041e\\u0442\\u0447\\u0435\\u0442 \\u043e\\u0431 \\u0438\\u0442\\u043e\\u0433\\u0430\\u0445 \\u0440\\u0430\\u0431\\u043e\\u0442\\u044b \\u043f\\u0440\\u0430\\u0432\\u0438\\u0442\\u0435\\u043b\\u044c\\u0441\\u0442\\u0432\\u0430 \\u0437\\u0430 2016 \\u0433\\u043e\\u0434\"],\"label\":[{\"index\":\"\\u041e\\u0442\\u0447\\u0435\\u0442 \\u043e\\u0431 \\u0438\\u0442\\u043e\\u0433\\u0430\\u0445 \\u0440\\u0430\\u0431\\u043e\\u0442\\u044b \\u043f\\u0440\\u0430\\u0432\\u0438\\u0442\\u0435\\u043b\\u044c\\u0441\\u0442\\u0432\\u0430 \\u0437\\u0430 2016 \\u0433\\u043e\\u0434\"}],\"line_alpha\":[1.0],\"line_color\":[\"white\"],\"width\":[0.8],\"x\":[\"\\u041e\\u0442\\u0447\\u0435\\u0442 \\u043e\\u0431 \\u0438\\u0442\\u043e\\u0433\\u0430\\u0445 \\u0440\\u0430\\u0431\\u043e\\u0442\\u044b \\u043f\\u0440\\u0430\\u0432\\u0438\\u0442\\u0435\\u043b\\u044c\\u0441\\u0442\\u0432\\u0430 \\u0437\\u0430 2016 \\u0433\\u043e\\u0434\"],\"y\":[1.0]}},\"id\":\"8917226f-c305-475d-985b-ca6e146fb8e8\",\"type\":\"ColumnDataSource\"},{\"attributes\":{\"plot\":null,\"text\":null},\"id\":\"e1de46a6-9b37-45c6-9389-cb25b401e0c6\",\"type\":\"Title\"},{\"attributes\":{\"active_drag\":\"auto\",\"active_scroll\":\"auto\",\"active_tap\":\"auto\",\"tools\":[{\"id\":\"91f4301c-2ad3-45d6-9121-bc8b18956918\",\"type\":\"PanTool\"},{\"id\":\"f341d13d-a0b6-42c4-a283-72d23efb67f2\",\"type\":\"WheelZoomTool\"},{\"id\":\"5c77e60d-44a7-40a4-b433-71be1aa301a5\",\"type\":\"BoxZoomTool\"},{\"id\":\"43fa9655-252b-480f-ab6e-4888179f22c4\",\"type\":\"SaveTool\"},{\"id\":\"9a94221b-5a70-42f8-aa3b-2d7204535e9c\",\"type\":\"ResetTool\"},{\"id\":\"0ef7b713-9e85-4da9-b32a-cbf13dbca3b5\",\"type\":\"HelpTool\"}]},\"id\":\"e08a5d38-5808-442d-b0cc-f45887bb3b3a\",\"type\":\"Toolbar\"},{\"attributes\":{\"data_source\":{\"id\":\"6fe22534-43e5-406f-99e2-11f0d37ad81a\",\"type\":\"ColumnDataSource\"},\"glyph\":{\"id\":\"13d557ae-d711-40fc-81bf-2a7ddf1880b5\",\"type\":\"Rect\"},\"hover_glyph\":null,\"nonselection_glyph\":null,\"selection_glyph\":null},\"id\":\"77fb0969-5dbc-44ef-bc12-2263528921b1\",\"type\":\"GlyphRenderer\"},{\"attributes\":{\"callback\":null,\"factors\":[\"SpaceX \\u0437\\u0430\\u043f\\u0443\\u0441\\u0442\\u0438\\u043b\\u0430 \\u0438 \\u043f\\u043e\\u0441\\u0430\\u0434\\u0438\\u043b\\u0430 \\u0440\\u0430\\u043a\\u0435\\u0442\\u0443\",\"\\u0410\\u043a\\u0446\\u0438\\u0438 \\u043f\\u0440\\u043e\\u0442\\u0435\\u0441\\u0442\\u0430 12 \\u0438\\u044e\\u043d\\u044f\",\"\\u0413\\u043e\\u0440\\u044f\\u0447\\u0430\\u044f \\u043b\\u0438\\u043d\\u0438\\u044f \\u041f\\u0440\\u0435\\u0437\\u0438\\u0434\\u0435\\u043d\\u0442\\u0430 \\u041f\\u0443\\u0442\\u0438\\u043d\\u0430\",\"\\u0414\\u043e\\u043d\\u0430\\u043b\\u044c\\u0434 \\u0422\\u0440\\u0430\\u043c\\u043f  \\u2013 \\u043f\\u0440\\u0435\\u0437\\u0438\\u0434\\u0435\\u043d\\u0442 \\u0421\\u0428\\u0410\",\"\\u0415\\u0434\\u0438\\u043d\\u044b\\u0439 \\u0434\\u0435\\u043d\\u044c \\u0433\\u043e\\u043b\\u043e\\u0441\\u043e\\u0432\\u0430\\u043d\\u0438\\u044f\",\"\\u0417\\u0430\\u043a\\u043e\\u043d\\u043e\\u043f\\u0440\\u043e\\u0435\\u043a\\u0442 \\u043e \\u043a\\u0443\\u0440\\u043e\\u0440\\u0442\\u043d\\u044b\\u0445 \\u0441\\u0431\\u043e\\u0440\\u0430\\u0445\",\"\\u041a\\u0443\\u0431\\u043e\\u043a \\u043a\\u043e\\u043d\\u0444\\u0435\\u0434\\u0435\\u0440\\u0430\\u0446\\u0438\\u0438 FiFA\",\"\\u041c\\u0438\\u0442\\u0438\\u043d\\u0433 \\u0432 \\u041c\\u043e\\u0441\\u043a\\u0432\\u0435 \\u043f\\u0440\\u043e\\u0442\\u0438\\u0432 \\u043a\\u043e\\u0440\\u0440\\u0443\\u043f\\u0446\\u0438\\u0438\",\"\\u041c\\u0438\\u0442\\u0438\\u043d\\u0433 \\u043f\\u0440\\u043e\\u0442\\u0438\\u0432 \\u0420\\u0435\\u043d\\u043e\\u0432\\u0430\\u0446\\u0438\\u0438 \\u0432 \\u041c\\u043e\\u0441\\u043a\\u0432\\u0435\",\"\\u041d\\u0435\\u0441\\u0430\\u043d\\u043a\\u0446\\u0438\\u043e\\u043d\\u0438\\u0440\\u043e\\u0432\\u0430\\u043d\\u043d\\u044b\\u0435 \\u0430\\u043a\\u0446\\u0438\\u0438 \\u0432 \\u041c\\u043e\\u0441\\u043a\\u0432\\u0435\",\"\\u041e\\u0442\\u0447\\u0435\\u0442 \\u043e\\u0431 \\u0438\\u0442\\u043e\\u0433\\u0430\\u0445 \\u0440\\u0430\\u0431\\u043e\\u0442\\u044b \\u043f\\u0440\\u0430\\u0432\\u0438\\u0442\\u0435\\u043b\\u044c\\u0441\\u0442\\u0432\\u0430 \\u0437\\u0430 2016 \\u0433\\u043e\\u0434\",\"\\u041f\\u0430\\u0440\\u043b\\u0430\\u043c\\u0435\\u043d\\u0442\\u0441\\u043a\\u0438\\u0435 \\u0432\\u044b\\u0431\\u043e\\u0440\\u044b \\u0432 \\u0412\\u0435\\u043b\\u0438\\u043a\\u043e\\u0431\\u0440\\u0438\\u0442\\u0430\\u043d\\u0438\\u0438\",\"\\u041f\\u0435\\u0440\\u0435\\u0434\\u0430\\u0447\\u0430 \\u0420\\u041f\\u0426 \\u0418\\u0441\\u0430\\u0430\\u043a\\u0438\\u0435\\u0432\\u0441\\u043a\\u043e\\u0433\\u043e \\u0441\\u043e\\u0431\\u043e\\u0440\\u0430 \",\"\\u041f\\u043e\\u0431\\u0435\\u0434\\u0430 \\u041c\\u0430\\u043a\\u0440\\u043e\\u043d\\u0430 \\u0432\\u043e \\u0424\\u0440\\u0430\\u043d\\u0446\\u0438\\u0438\",\"\\u041f\\u0443\\u0442\\u0438\\u043d \\u0438 \\u041c\\u0435\\u0440\\u043a\\u0435\\u043b\\u044c \\u0432 \\u0421\\u043e\\u0447\\u0438\",\"\\u0421\\u0430\\u043c\\u043c\\u0438\\u0442 G20\",\"\\u0422\\u0435\\u0440\\u0430\\u043a\\u0442 \\u0432 \\u0411\\u0430\\u0440\\u0441\\u0435\\u043b\\u043e\\u043d\\u0435\",\"\\u0422\\u0435\\u0440\\u0430\\u043a\\u0442 \\u0432 \\u041b\\u043e\\u043d\\u0434\\u043e\\u043d\\u0435\",\"\\u0422\\u0438\\u043b\\u043b\\u0435\\u0440\\u0441\\u043e\\u043d \\u0432\\u0441\\u0442\\u0440\\u0435\\u0447\\u0430\\u0435\\u0442\\u0441\\u044f \\u0441 \\u041f\\u0443\\u0442\\u0438\\u043d\\u044b\\u043c\",\"\\u0423\\u0431\\u0438\\u0442 \\u0414\\u0435\\u043d\\u0438\\u0441 \\u0412\\u043e\\u0440\\u043e\\u043d\\u0435\\u043d\\u043a\\u043e\\u0432\",\"\\u0423\\u043c\\u0435\\u0440 \\u0412\\u0438\\u0442\\u0430\\u043b\\u0438\\u0439 \\u0427\\u0443\\u0440\\u043a\\u0438\\u043d\",\"\\u0423\\u043c\\u0435\\u0440 \\u0414\\u044d\\u0432\\u0438\\u0434 \\u0420\\u043e\\u043a\\u0444\\u0435\\u043b\\u043b\\u0435\\u0440\",\"\\u0423\\u043c\\u0435\\u0440 \\u0415\\u0432\\u0433\\u0435\\u043d\\u0438\\u0439 \\u0415\\u0432\\u0442\\u0443\\u0448\\u0435\\u043d\\u043a\\u043e\",\"\\u0423\\u0440\\u0430\\u0433\\u0430\\u043d \\u0432 \\u041c\\u043e\\u0441\\u043a\\u0432\\u0435\",\"\\u0424\\u0438\\u043b\\u044c\\u043c \\u043f\\u0440\\u043e \\u041f\\u0443\\u0442\\u0438\\u043d\\u0430 \\u043d\\u0430 CNN\",\"\\u0424\\u0438\\u043b\\u044c\\u043c \\u201c\\u041e\\u043d \\u0432\\u0430\\u043c \\u043d\\u0435 \\u0414\\u0438\\u043c\\u043e\\u043d\\u201d\",\"\\u0427\\u0435\\u043c\\u043f\\u0438\\u043e\\u043d\\u0430\\u0442 \\u043c\\u0438\\u0440\\u0430 \\u043f\\u043e \\u0445\\u043e\\u043a\\u043a\\u0435\\u044e\",\"\\u042e\\u043b\\u0438\\u044e \\u0421\\u0430\\u043c\\u043e\\u0439\\u043b\\u043e\\u0432\\u0443 \\u043d\\u0435 \\u043f\\u0443\\u0441\\u0442\\u0438\\u043b\\u0438 \\u043d\\u0430 \\u0415\\u0432\\u0440\\u043e\\u0432\\u0438\\u0434\\u0435\\u043d\\u0438\\u0435\"]},\"id\":\"5b32a6ce-c12a-4eeb-9f2d-ad8c0b588f7c\",\"type\":\"FactorRange\"},{\"attributes\":{\"fill_alpha\":{\"field\":\"fill_alpha\"},\"fill_color\":{\"field\":\"color\"},\"height\":{\"field\":\"height\",\"units\":\"data\"},\"line_color\":{\"field\":\"line_color\"},\"width\":{\"field\":\"width\",\"units\":\"data\"},\"x\":{\"field\":\"x\"},\"y\":{\"field\":\"y\"}},\"id\":\"fa4f69b1-8daf-4aaa-a045-b124afae26ef\",\"type\":\"Rect\"},{\"attributes\":{\"bottom_units\":\"screen\",\"fill_alpha\":{\"value\":0.5},\"fill_color\":{\"value\":\"lightgrey\"},\"left_units\":\"screen\",\"level\":\"overlay\",\"line_alpha\":{\"value\":1.0},\"line_color\":{\"value\":\"black\"},\"line_dash\":[4,4],\"line_width\":{\"value\":2},\"plot\":null,\"render_mode\":\"css\",\"right_units\":\"screen\",\"top_units\":\"screen\"},\"id\":\"c52514c3-2e2a-4ce2-8d1e-e98fedac8f7c\",\"type\":\"BoxAnnotation\"},{\"attributes\":{\"callback\":null,\"column_names\":[\"x\",\"y\",\"width\",\"height\",\"color\",\"fill_alpha\",\"line_color\",\"line_alpha\",\"label\"],\"data\":{\"chart_index\":[{\"index\":\"\\u0421\\u0430\\u043c\\u043c\\u0438\\u0442 G20\"}],\"color\":[\"#f22c40\"],\"fill_alpha\":[0.8],\"height\":[100.0],\"index\":[\"\\u0421\\u0430\\u043c\\u043c\\u0438\\u0442 G20\"],\"label\":[{\"index\":\"\\u0421\\u0430\\u043c\\u043c\\u0438\\u0442 G20\"}],\"line_alpha\":[1.0],\"line_color\":[\"white\"],\"width\":[0.8],\"x\":[\"\\u0421\\u0430\\u043c\\u043c\\u0438\\u0442 G20\"],\"y\":[50.0]}},\"id\":\"250a28fb-76a2-4dee-9d80-c89284622a81\",\"type\":\"ColumnDataSource\"},{\"attributes\":{\"plot\":{\"id\":\"2622f101-af39-4d38-b0a4-09c60386d880\",\"subtype\":\"Chart\",\"type\":\"Plot\"}},\"id\":\"91f4301c-2ad3-45d6-9121-bc8b18956918\",\"type\":\"PanTool\"},{\"attributes\":{\"data_source\":{\"id\":\"fd9185e0-8552-4251-af9f-d705172eb6e5\",\"type\":\"ColumnDataSource\"},\"glyph\":{\"id\":\"72657357-dc2a-4ab0-bb68-00c79893220e\",\"type\":\"Rect\"},\"hover_glyph\":null,\"nonselection_glyph\":null,\"selection_glyph\":null},\"id\":\"9d18c375-5296-4b2d-af66-ea1c34847dcb\",\"type\":\"GlyphRenderer\"},{\"attributes\":{\"callback\":null,\"column_names\":[\"x\",\"y\",\"width\",\"height\",\"color\",\"fill_alpha\",\"line_color\",\"line_alpha\",\"label\"],\"data\":{\"chart_index\":[{\"index\":\"\\u0417\\u0430\\u043a\\u043e\\u043d\\u043e\\u043f\\u0440\\u043e\\u0435\\u043a\\u0442 \\u043e \\u043a\\u0443\\u0440\\u043e\\u0440\\u0442\\u043d\\u044b\\u0445 \\u0441\\u0431\\u043e\\u0440\\u0430\\u0445\"}],\"color\":[\"#f22c40\"],\"fill_alpha\":[0.8],\"height\":[100.0],\"index\":[\"\\u0417\\u0430\\u043a\\u043e\\u043d\\u043e\\u043f\\u0440\\u043e\\u0435\\u043a\\u0442 \\u043e \\u043a\\u0443\\u0440\\u043e\\u0440\\u0442\\u043d\\u044b\\u0445 \\u0441\\u0431\\u043e\\u0440\\u0430\\u0445\"],\"label\":[{\"index\":\"\\u0417\\u0430\\u043a\\u043e\\u043d\\u043e\\u043f\\u0440\\u043e\\u0435\\u043a\\u0442 \\u043e \\u043a\\u0443\\u0440\\u043e\\u0440\\u0442\\u043d\\u044b\\u0445 \\u0441\\u0431\\u043e\\u0440\\u0430\\u0445\"}],\"line_alpha\":[1.0],\"line_color\":[\"white\"],\"width\":[0.8],\"x\":[\"\\u0417\\u0430\\u043a\\u043e\\u043d\\u043e\\u043f\\u0440\\u043e\\u0435\\u043a\\u0442 \\u043e \\u043a\\u0443\\u0440\\u043e\\u0440\\u0442\\u043d\\u044b\\u0445 \\u0441\\u0431\\u043e\\u0440\\u0430\\u0445\"],\"y\":[50.0]}},\"id\":\"e9d9f10a-9131-4cbd-9935-5b6588787fb2\",\"type\":\"ColumnDataSource\"},{\"attributes\":{\"plot\":{\"id\":\"2622f101-af39-4d38-b0a4-09c60386d880\",\"subtype\":\"Chart\",\"type\":\"Plot\"}},\"id\":\"43fa9655-252b-480f-ab6e-4888179f22c4\",\"type\":\"SaveTool\"},{\"attributes\":{\"fill_alpha\":{\"field\":\"fill_alpha\"},\"fill_color\":{\"field\":\"color\"},\"height\":{\"field\":\"height\",\"units\":\"data\"},\"line_color\":{\"field\":\"line_color\"},\"width\":{\"field\":\"width\",\"units\":\"data\"},\"x\":{\"field\":\"x\"},\"y\":{\"field\":\"y\"}},\"id\":\"72657357-dc2a-4ab0-bb68-00c79893220e\",\"type\":\"Rect\"},{\"attributes\":{\"plot\":{\"id\":\"2622f101-af39-4d38-b0a4-09c60386d880\",\"subtype\":\"Chart\",\"type\":\"Plot\"}},\"id\":\"9a94221b-5a70-42f8-aa3b-2d7204535e9c\",\"type\":\"ResetTool\"},{\"attributes\":{\"fill_alpha\":{\"field\":\"fill_alpha\"},\"fill_color\":{\"field\":\"color\"},\"height\":{\"field\":\"height\",\"units\":\"data\"},\"line_color\":{\"field\":\"line_color\"},\"width\":{\"field\":\"width\",\"units\":\"data\"},\"x\":{\"field\":\"x\"},\"y\":{\"field\":\"y\"}},\"id\":\"7bd319ca-b407-4150-896c-7361d7873189\",\"type\":\"Rect\"},{\"attributes\":{\"plot\":{\"id\":\"2622f101-af39-4d38-b0a4-09c60386d880\",\"subtype\":\"Chart\",\"type\":\"Plot\"}},\"id\":\"0ef7b713-9e85-4da9-b32a-cbf13dbca3b5\",\"type\":\"HelpTool\"},{\"attributes\":{},\"id\":\"ae905ef9-daa4-4d0b-bbdd-a1f7b07d5e43\",\"type\":\"BasicTickFormatter\"},{\"attributes\":{\"callback\":null,\"end\":107.1},\"id\":\"260f92f2-9672-44db-a592-d347be576160\",\"type\":\"Range1d\"},{\"attributes\":{\"callback\":null,\"column_names\":[\"x\",\"y\",\"width\",\"height\",\"color\",\"fill_alpha\",\"line_color\",\"line_alpha\",\"label\"],\"data\":{\"chart_index\":[{\"index\":\"\\u0422\\u0435\\u0440\\u0430\\u043a\\u0442 \\u0432 \\u0411\\u0430\\u0440\\u0441\\u0435\\u043b\\u043e\\u043d\\u0435\"}],\"color\":[\"#f22c40\"],\"fill_alpha\":[0.8],\"height\":[100.0],\"index\":[\"\\u0422\\u0435\\u0440\\u0430\\u043a\\u0442 \\u0432 \\u0411\\u0430\\u0440\\u0441\\u0435\\u043b\\u043e\\u043d\\u0435\"],\"label\":[{\"index\":\"\\u0422\\u0435\\u0440\\u0430\\u043a\\u0442 \\u0432 \\u0411\\u0430\\u0440\\u0441\\u0435\\u043b\\u043e\\u043d\\u0435\"}],\"line_alpha\":[1.0],\"line_color\":[\"white\"],\"width\":[0.8],\"x\":[\"\\u0422\\u0435\\u0440\\u0430\\u043a\\u0442 \\u0432 \\u0411\\u0430\\u0440\\u0441\\u0435\\u043b\\u043e\\u043d\\u0435\"],\"y\":[50.0]}},\"id\":\"bcd14b86-5b82-4ee5-9c86-a55f9fd48e69\",\"type\":\"ColumnDataSource\"},{\"attributes\":{\"fill_alpha\":{\"field\":\"fill_alpha\"},\"fill_color\":{\"field\":\"color\"},\"height\":{\"field\":\"height\",\"units\":\"data\"},\"line_color\":{\"field\":\"line_color\"},\"width\":{\"field\":\"width\",\"units\":\"data\"},\"x\":{\"field\":\"x\"},\"y\":{\"field\":\"y\"}},\"id\":\"5e0b7fc9-f6cc-42f7-bedf-9c815c4830f9\",\"type\":\"Rect\"},{\"attributes\":{\"data_source\":{\"id\":\"e9d9f10a-9131-4cbd-9935-5b6588787fb2\",\"type\":\"ColumnDataSource\"},\"glyph\":{\"id\":\"fa4f69b1-8daf-4aaa-a045-b124afae26ef\",\"type\":\"Rect\"},\"hover_glyph\":null,\"nonselection_glyph\":null,\"selection_glyph\":null},\"id\":\"08a8eb2c-8b32-4d7a-ae2e-c5c128d119d5\",\"type\":\"GlyphRenderer\"},{\"attributes\":{\"callback\":null,\"column_names\":[\"x\",\"y\",\"width\",\"height\",\"color\",\"fill_alpha\",\"line_color\",\"line_alpha\",\"label\"],\"data\":{\"chart_index\":[{\"index\":\"\\u041c\\u0438\\u0442\\u0438\\u043d\\u0433 \\u0432 \\u041c\\u043e\\u0441\\u043a\\u0432\\u0435 \\u043f\\u0440\\u043e\\u0442\\u0438\\u0432 \\u043a\\u043e\\u0440\\u0440\\u0443\\u043f\\u0446\\u0438\\u0438\"}],\"color\":[\"#f22c40\"],\"fill_alpha\":[0.8],\"height\":[100.0],\"index\":[\"\\u041c\\u0438\\u0442\\u0438\\u043d\\u0433 \\u0432 \\u041c\\u043e\\u0441\\u043a\\u0432\\u0435 \\u043f\\u0440\\u043e\\u0442\\u0438\\u0432 \\u043a\\u043e\\u0440\\u0440\\u0443\\u043f\\u0446\\u0438\\u0438\"],\"label\":[{\"index\":\"\\u041c\\u0438\\u0442\\u0438\\u043d\\u0433 \\u0432 \\u041c\\u043e\\u0441\\u043a\\u0432\\u0435 \\u043f\\u0440\\u043e\\u0442\\u0438\\u0432 \\u043a\\u043e\\u0440\\u0440\\u0443\\u043f\\u0446\\u0438\\u0438\"}],\"line_alpha\":[1.0],\"line_color\":[\"white\"],\"width\":[0.8],\"x\":[\"\\u041c\\u0438\\u0442\\u0438\\u043d\\u0433 \\u0432 \\u041c\\u043e\\u0441\\u043a\\u0432\\u0435 \\u043f\\u0440\\u043e\\u0442\\u0438\\u0432 \\u043a\\u043e\\u0440\\u0440\\u0443\\u043f\\u0446\\u0438\\u0438\"],\"y\":[50.0]}},\"id\":\"f49bf4ca-a752-43e6-94db-fe034cb7664a\",\"type\":\"ColumnDataSource\"},{\"attributes\":{\"fill_alpha\":{\"field\":\"fill_alpha\"},\"fill_color\":{\"field\":\"color\"},\"height\":{\"field\":\"height\",\"units\":\"data\"},\"line_color\":{\"field\":\"line_color\"},\"width\":{\"field\":\"width\",\"units\":\"data\"},\"x\":{\"field\":\"x\"},\"y\":{\"field\":\"y\"}},\"id\":\"c592c1e8-19fc-4936-9892-22b283472d51\",\"type\":\"Rect\"},{\"attributes\":{\"callback\":null,\"column_names\":[\"x\",\"y\",\"width\",\"height\",\"color\",\"fill_alpha\",\"line_color\",\"line_alpha\",\"label\"],\"data\":{\"chart_index\":[{\"index\":\"\\u0423\\u043c\\u0435\\u0440 \\u0412\\u0438\\u0442\\u0430\\u043b\\u0438\\u0439 \\u0427\\u0443\\u0440\\u043a\\u0438\\u043d\"}],\"color\":[\"#f22c40\"],\"fill_alpha\":[0.8],\"height\":[84.0],\"index\":[\"\\u0423\\u043c\\u0435\\u0440 \\u0412\\u0438\\u0442\\u0430\\u043b\\u0438\\u0439 \\u0427\\u0443\\u0440\\u043a\\u0438\\u043d\"],\"label\":[{\"index\":\"\\u0423\\u043c\\u0435\\u0440 \\u0412\\u0438\\u0442\\u0430\\u043b\\u0438\\u0439 \\u0427\\u0443\\u0440\\u043a\\u0438\\u043d\"}],\"line_alpha\":[1.0],\"line_color\":[\"white\"],\"width\":[0.8],\"x\":[\"\\u0423\\u043c\\u0435\\u0440 \\u0412\\u0438\\u0442\\u0430\\u043b\\u0438\\u0439 \\u0427\\u0443\\u0440\\u043a\\u0438\\u043d\"],\"y\":[42.0]}},\"id\":\"48b8e9fd-7dbe-4c2b-b16e-fcee7d4d32e2\",\"type\":\"ColumnDataSource\"},{\"attributes\":{\"fill_alpha\":{\"field\":\"fill_alpha\"},\"fill_color\":{\"field\":\"color\"},\"height\":{\"field\":\"height\",\"units\":\"data\"},\"line_color\":{\"field\":\"line_color\"},\"width\":{\"field\":\"width\",\"units\":\"data\"},\"x\":{\"field\":\"x\"},\"y\":{\"field\":\"y\"}},\"id\":\"1c93fd0c-a612-4f9d-a6b5-3fdc3ed9e19e\",\"type\":\"Rect\"},{\"attributes\":{\"data_source\":{\"id\":\"f49bf4ca-a752-43e6-94db-fe034cb7664a\",\"type\":\"ColumnDataSource\"},\"glyph\":{\"id\":\"7bd319ca-b407-4150-896c-7361d7873189\",\"type\":\"Rect\"},\"hover_glyph\":null,\"nonselection_glyph\":null,\"selection_glyph\":null},\"id\":\"f372da1b-5572-4348-a046-e9b4d32d1993\",\"type\":\"GlyphRenderer\"},{\"attributes\":{\"fill_alpha\":{\"field\":\"fill_alpha\"},\"fill_color\":{\"field\":\"color\"},\"height\":{\"field\":\"height\",\"units\":\"data\"},\"line_color\":{\"field\":\"line_color\"},\"width\":{\"field\":\"width\",\"units\":\"data\"},\"x\":{\"field\":\"x\"},\"y\":{\"field\":\"y\"}},\"id\":\"7eabc994-2ec3-4e4e-a6c6-bdbc6b47968c\",\"type\":\"Rect\"},{\"attributes\":{\"callback\":null,\"column_names\":[\"x\",\"y\",\"width\",\"height\",\"color\",\"fill_alpha\",\"line_color\",\"line_alpha\",\"label\"],\"data\":{\"chart_index\":[{\"index\":\"\\u0423\\u0440\\u0430\\u0433\\u0430\\u043d \\u0432 \\u041c\\u043e\\u0441\\u043a\\u0432\\u0435\"}],\"color\":[\"#f22c40\"],\"fill_alpha\":[0.8],\"height\":[100.0],\"index\":[\"\\u0423\\u0440\\u0430\\u0433\\u0430\\u043d \\u0432 \\u041c\\u043e\\u0441\\u043a\\u0432\\u0435\"],\"label\":[{\"index\":\"\\u0423\\u0440\\u0430\\u0433\\u0430\\u043d \\u0432 \\u041c\\u043e\\u0441\\u043a\\u0432\\u0435\"}],\"line_alpha\":[1.0],\"line_color\":[\"white\"],\"width\":[0.8],\"x\":[\"\\u0423\\u0440\\u0430\\u0433\\u0430\\u043d \\u0432 \\u041c\\u043e\\u0441\\u043a\\u0432\\u0435\"],\"y\":[50.0]}},\"id\":\"567b710d-4724-44ae-80ab-7e21aeb945c8\",\"type\":\"ColumnDataSource\"},{\"attributes\":{\"callback\":null,\"column_names\":[\"x\",\"y\",\"width\",\"height\",\"color\",\"fill_alpha\",\"line_color\",\"line_alpha\",\"label\"],\"data\":{\"chart_index\":[{\"index\":\"\\u041a\\u0443\\u0431\\u043e\\u043a \\u043a\\u043e\\u043d\\u0444\\u0435\\u0434\\u0435\\u0440\\u0430\\u0446\\u0438\\u0438 FiFA\"}],\"color\":[\"#f22c40\"],\"fill_alpha\":[0.8],\"height\":[100.0],\"index\":[\"\\u041a\\u0443\\u0431\\u043e\\u043a \\u043a\\u043e\\u043d\\u0444\\u0435\\u0434\\u0435\\u0440\\u0430\\u0446\\u0438\\u0438 FiFA\"],\"label\":[{\"index\":\"\\u041a\\u0443\\u0431\\u043e\\u043a \\u043a\\u043e\\u043d\\u0444\\u0435\\u0434\\u0435\\u0440\\u0430\\u0446\\u0438\\u0438 FiFA\"}],\"line_alpha\":[1.0],\"line_color\":[\"white\"],\"width\":[0.8],\"x\":[\"\\u041a\\u0443\\u0431\\u043e\\u043a \\u043a\\u043e\\u043d\\u0444\\u0435\\u0434\\u0435\\u0440\\u0430\\u0446\\u0438\\u0438 FiFA\"],\"y\":[50.0]}},\"id\":\"3cab7e20-d294-4204-b9ff-6297f98acace\",\"type\":\"ColumnDataSource\"},{\"attributes\":{\"data_source\":{\"id\":\"567b710d-4724-44ae-80ab-7e21aeb945c8\",\"type\":\"ColumnDataSource\"},\"glyph\":{\"id\":\"1c93fd0c-a612-4f9d-a6b5-3fdc3ed9e19e\",\"type\":\"Rect\"},\"hover_glyph\":null,\"nonselection_glyph\":null,\"selection_glyph\":null},\"id\":\"84a3d8b2-dcf2-4003-8c99-7caa9218b4db\",\"type\":\"GlyphRenderer\"},{\"attributes\":{\"callback\":null,\"column_names\":[\"x\",\"y\",\"width\",\"height\",\"color\",\"fill_alpha\",\"line_color\",\"line_alpha\",\"label\"],\"data\":{\"chart_index\":[{\"index\":\"\\u0413\\u043e\\u0440\\u044f\\u0447\\u0430\\u044f \\u043b\\u0438\\u043d\\u0438\\u044f \\u041f\\u0440\\u0435\\u0437\\u0438\\u0434\\u0435\\u043d\\u0442\\u0430 \\u041f\\u0443\\u0442\\u0438\\u043d\\u0430\"}],\"color\":[\"#f22c40\"],\"fill_alpha\":[0.8],\"height\":[62.0],\"index\":[\"\\u0413\\u043e\\u0440\\u044f\\u0447\\u0430\\u044f \\u043b\\u0438\\u043d\\u0438\\u044f \\u041f\\u0440\\u0435\\u0437\\u0438\\u0434\\u0435\\u043d\\u0442\\u0430 \\u041f\\u0443\\u0442\\u0438\\u043d\\u0430\"],\"label\":[{\"index\":\"\\u0413\\u043e\\u0440\\u044f\\u0447\\u0430\\u044f \\u043b\\u0438\\u043d\\u0438\\u044f \\u041f\\u0440\\u0435\\u0437\\u0438\\u0434\\u0435\\u043d\\u0442\\u0430 \\u041f\\u0443\\u0442\\u0438\\u043d\\u0430\"}],\"line_alpha\":[1.0],\"line_color\":[\"white\"],\"width\":[0.8],\"x\":[\"\\u0413\\u043e\\u0440\\u044f\\u0447\\u0430\\u044f \\u043b\\u0438\\u043d\\u0438\\u044f \\u041f\\u0440\\u0435\\u0437\\u0438\\u0434\\u0435\\u043d\\u0442\\u0430 \\u041f\\u0443\\u0442\\u0438\\u043d\\u0430\"],\"y\":[31.0]}},\"id\":\"bd813283-82b5-453b-9feb-cda72b63e32c\",\"type\":\"ColumnDataSource\"},{\"attributes\":{\"fill_alpha\":{\"field\":\"fill_alpha\"},\"fill_color\":{\"field\":\"color\"},\"height\":{\"field\":\"height\",\"units\":\"data\"},\"line_color\":{\"field\":\"line_color\"},\"width\":{\"field\":\"width\",\"units\":\"data\"},\"x\":{\"field\":\"x\"},\"y\":{\"field\":\"y\"}},\"id\":\"30910b8b-00ce-4a35-a323-722e7600f384\",\"type\":\"Rect\"},{\"attributes\":{\"data_source\":{\"id\":\"250a28fb-76a2-4dee-9d80-c89284622a81\",\"type\":\"ColumnDataSource\"},\"glyph\":{\"id\":\"7eabc994-2ec3-4e4e-a6c6-bdbc6b47968c\",\"type\":\"Rect\"},\"hover_glyph\":null,\"nonselection_glyph\":null,\"selection_glyph\":null},\"id\":\"dd1162d8-a64d-4c8f-81aa-f00c497e4955\",\"type\":\"GlyphRenderer\"},{\"attributes\":{\"fill_alpha\":{\"field\":\"fill_alpha\"},\"fill_color\":{\"field\":\"color\"},\"height\":{\"field\":\"height\",\"units\":\"data\"},\"line_color\":{\"field\":\"line_color\"},\"width\":{\"field\":\"width\",\"units\":\"data\"},\"x\":{\"field\":\"x\"},\"y\":{\"field\":\"y\"}},\"id\":\"5a85e4d5-2d78-40fe-8529-fc34f7833c91\",\"type\":\"Rect\"},{\"attributes\":{\"fill_alpha\":{\"field\":\"fill_alpha\"},\"fill_color\":{\"field\":\"color\"},\"height\":{\"field\":\"height\",\"units\":\"data\"},\"line_color\":{\"field\":\"line_color\"},\"width\":{\"field\":\"width\",\"units\":\"data\"},\"x\":{\"field\":\"x\"},\"y\":{\"field\":\"y\"}},\"id\":\"be8af443-80bf-48ea-a3e1-f887bf03fe79\",\"type\":\"Rect\"},{\"attributes\":{\"data_source\":{\"id\":\"bcd14b86-5b82-4ee5-9c86-a55f9fd48e69\",\"type\":\"ColumnDataSource\"},\"glyph\":{\"id\":\"30910b8b-00ce-4a35-a323-722e7600f384\",\"type\":\"Rect\"},\"hover_glyph\":null,\"nonselection_glyph\":null,\"selection_glyph\":null},\"id\":\"5b827b68-0971-442a-8951-13fcfdaed296\",\"type\":\"GlyphRenderer\"},{\"attributes\":{\"callback\":null,\"column_names\":[\"x\",\"y\",\"width\",\"height\",\"color\",\"fill_alpha\",\"line_color\",\"line_alpha\",\"label\"],\"data\":{\"chart_index\":[{\"index\":\"\\u041f\\u0430\\u0440\\u043b\\u0430\\u043c\\u0435\\u043d\\u0442\\u0441\\u043a\\u0438\\u0435 \\u0432\\u044b\\u0431\\u043e\\u0440\\u044b \\u0432 \\u0412\\u0435\\u043b\\u0438\\u043a\\u043e\\u0431\\u0440\\u0438\\u0442\\u0430\\u043d\\u0438\\u0438\"}],\"color\":[\"#f22c40\"],\"fill_alpha\":[0.8],\"height\":[82.0],\"index\":[\"\\u041f\\u0430\\u0440\\u043b\\u0430\\u043c\\u0435\\u043d\\u0442\\u0441\\u043a\\u0438\\u0435 \\u0432\\u044b\\u0431\\u043e\\u0440\\u044b \\u0432 \\u0412\\u0435\\u043b\\u0438\\u043a\\u043e\\u0431\\u0440\\u0438\\u0442\\u0430\\u043d\\u0438\\u0438\"],\"label\":[{\"index\":\"\\u041f\\u0430\\u0440\\u043b\\u0430\\u043c\\u0435\\u043d\\u0442\\u0441\\u043a\\u0438\\u0435 \\u0432\\u044b\\u0431\\u043e\\u0440\\u044b \\u0432 \\u0412\\u0435\\u043b\\u0438\\u043a\\u043e\\u0431\\u0440\\u0438\\u0442\\u0430\\u043d\\u0438\\u0438\"}],\"line_alpha\":[1.0],\"line_color\":[\"white\"],\"width\":[0.8],\"x\":[\"\\u041f\\u0430\\u0440\\u043b\\u0430\\u043c\\u0435\\u043d\\u0442\\u0441\\u043a\\u0438\\u0435 \\u0432\\u044b\\u0431\\u043e\\u0440\\u044b \\u0432 \\u0412\\u0435\\u043b\\u0438\\u043a\\u043e\\u0431\\u0440\\u0438\\u0442\\u0430\\u043d\\u0438\\u0438\"],\"y\":[41.0]}},\"id\":\"c6dce6d0-609c-4b71-90b3-2a81fee5f20f\",\"type\":\"ColumnDataSource\"},{\"attributes\":{\"fill_alpha\":{\"field\":\"fill_alpha\"},\"fill_color\":{\"field\":\"color\"},\"height\":{\"field\":\"height\",\"units\":\"data\"},\"line_color\":{\"field\":\"line_color\"},\"width\":{\"field\":\"width\",\"units\":\"data\"},\"x\":{\"field\":\"x\"},\"y\":{\"field\":\"y\"}},\"id\":\"b536906d-9b25-4fd6-a153-53d08e8a4f85\",\"type\":\"Rect\"},{\"attributes\":{\"callback\":null,\"column_names\":[\"x\",\"y\",\"width\",\"height\",\"color\",\"fill_alpha\",\"line_color\",\"line_alpha\",\"label\"],\"data\":{\"chart_index\":[{\"index\":\"\\u0423\\u043c\\u0435\\u0440 \\u0415\\u0432\\u0433\\u0435\\u043d\\u0438\\u0439 \\u0415\\u0432\\u0442\\u0443\\u0448\\u0435\\u043d\\u043a\\u043e\"}],\"color\":[\"#f22c40\"],\"fill_alpha\":[0.8],\"height\":[100.0],\"index\":[\"\\u0423\\u043c\\u0435\\u0440 \\u0415\\u0432\\u0433\\u0435\\u043d\\u0438\\u0439 \\u0415\\u0432\\u0442\\u0443\\u0448\\u0435\\u043d\\u043a\\u043e\"],\"label\":[{\"index\":\"\\u0423\\u043c\\u0435\\u0440 \\u0415\\u0432\\u0433\\u0435\\u043d\\u0438\\u0439 \\u0415\\u0432\\u0442\\u0443\\u0448\\u0435\\u043d\\u043a\\u043e\"}],\"line_alpha\":[1.0],\"line_color\":[\"white\"],\"width\":[0.8],\"x\":[\"\\u0423\\u043c\\u0435\\u0440 \\u0415\\u0432\\u0433\\u0435\\u043d\\u0438\\u0439 \\u0415\\u0432\\u0442\\u0443\\u0448\\u0435\\u043d\\u043a\\u043e\"],\"y\":[50.0]}},\"id\":\"2d9d050f-e977-4db5-89d2-10097eb06e7f\",\"type\":\"ColumnDataSource\"},{\"attributes\":{\"callback\":null,\"column_names\":[\"x\",\"y\",\"width\",\"height\",\"color\",\"fill_alpha\",\"line_color\",\"line_alpha\",\"label\"],\"data\":{\"chart_index\":[{\"index\":\"\\u041f\\u0443\\u0442\\u0438\\u043d \\u0438 \\u041c\\u0435\\u0440\\u043a\\u0435\\u043b\\u044c \\u0432 \\u0421\\u043e\\u0447\\u0438\"}],\"color\":[\"#f22c40\"],\"fill_alpha\":[0.8],\"height\":[100.0],\"index\":[\"\\u041f\\u0443\\u0442\\u0438\\u043d \\u0438 \\u041c\\u0435\\u0440\\u043a\\u0435\\u043b\\u044c \\u0432 \\u0421\\u043e\\u0447\\u0438\"],\"label\":[{\"index\":\"\\u041f\\u0443\\u0442\\u0438\\u043d \\u0438 \\u041c\\u0435\\u0440\\u043a\\u0435\\u043b\\u044c \\u0432 \\u0421\\u043e\\u0447\\u0438\"}],\"line_alpha\":[1.0],\"line_color\":[\"white\"],\"width\":[0.8],\"x\":[\"\\u041f\\u0443\\u0442\\u0438\\u043d \\u0438 \\u041c\\u0435\\u0440\\u043a\\u0435\\u043b\\u044c \\u0432 \\u0421\\u043e\\u0447\\u0438\"],\"y\":[50.0]}},\"id\":\"7285de5d-d39e-43ef-86c0-ec0f68bca6ef\",\"type\":\"ColumnDataSource\"},{\"attributes\":{\"data_source\":{\"id\":\"48b8e9fd-7dbe-4c2b-b16e-fcee7d4d32e2\",\"type\":\"ColumnDataSource\"},\"glyph\":{\"id\":\"5a85e4d5-2d78-40fe-8529-fc34f7833c91\",\"type\":\"Rect\"},\"hover_glyph\":null,\"nonselection_glyph\":null,\"selection_glyph\":null},\"id\":\"49ddf4e6-3283-4721-86f6-720339d01db0\",\"type\":\"GlyphRenderer\"},{\"attributes\":{\"callback\":null,\"column_names\":[\"x\",\"y\",\"width\",\"height\",\"color\",\"fill_alpha\",\"line_color\",\"line_alpha\",\"label\"],\"data\":{\"chart_index\":[{\"index\":\"\\u0427\\u0435\\u043c\\u043f\\u0438\\u043e\\u043d\\u0430\\u0442 \\u043c\\u0438\\u0440\\u0430 \\u043f\\u043e \\u0445\\u043e\\u043a\\u043a\\u0435\\u044e\"}],\"color\":[\"#f22c40\"],\"fill_alpha\":[0.8],\"height\":[102.0],\"index\":[\"\\u0427\\u0435\\u043c\\u043f\\u0438\\u043e\\u043d\\u0430\\u0442 \\u043c\\u0438\\u0440\\u0430 \\u043f\\u043e \\u0445\\u043e\\u043a\\u043a\\u0435\\u044e\"],\"label\":[{\"index\":\"\\u0427\\u0435\\u043c\\u043f\\u0438\\u043e\\u043d\\u0430\\u0442 \\u043c\\u0438\\u0440\\u0430 \\u043f\\u043e \\u0445\\u043e\\u043a\\u043a\\u0435\\u044e\"}],\"line_alpha\":[1.0],\"line_color\":[\"white\"],\"width\":[0.8],\"x\":[\"\\u0427\\u0435\\u043c\\u043f\\u0438\\u043e\\u043d\\u0430\\u0442 \\u043c\\u0438\\u0440\\u0430 \\u043f\\u043e \\u0445\\u043e\\u043a\\u043a\\u0435\\u044e\"],\"y\":[51.0]}},\"id\":\"a248594d-2d13-4e0a-bafc-61221af40eeb\",\"type\":\"ColumnDataSource\"},{\"attributes\":{\"callback\":null,\"column_names\":[\"x\",\"y\",\"width\",\"height\",\"color\",\"fill_alpha\",\"line_color\",\"line_alpha\",\"label\"],\"data\":{\"chart_index\":[{\"index\":\"\\u0422\\u0435\\u0440\\u0430\\u043a\\u0442 \\u0432 \\u041b\\u043e\\u043d\\u0434\\u043e\\u043d\\u0435\"}],\"color\":[\"#f22c40\"],\"fill_alpha\":[0.8],\"height\":[100.0],\"index\":[\"\\u0422\\u0435\\u0440\\u0430\\u043a\\u0442 \\u0432 \\u041b\\u043e\\u043d\\u0434\\u043e\\u043d\\u0435\"],\"label\":[{\"index\":\"\\u0422\\u0435\\u0440\\u0430\\u043a\\u0442 \\u0432 \\u041b\\u043e\\u043d\\u0434\\u043e\\u043d\\u0435\"}],\"line_alpha\":[1.0],\"line_color\":[\"white\"],\"width\":[0.8],\"x\":[\"\\u0422\\u0435\\u0440\\u0430\\u043a\\u0442 \\u0432 \\u041b\\u043e\\u043d\\u0434\\u043e\\u043d\\u0435\"],\"y\":[50.0]}},\"id\":\"223d1e1c-5ca1-4270-85c0-ac624f30f5e5\",\"type\":\"ColumnDataSource\"},{\"attributes\":{\"callback\":null,\"column_names\":[\"x\",\"y\",\"width\",\"height\",\"color\",\"fill_alpha\",\"line_color\",\"line_alpha\",\"label\"],\"data\":{\"chart_index\":[{\"index\":\"\\u0424\\u0438\\u043b\\u044c\\u043c \\u201c\\u041e\\u043d \\u0432\\u0430\\u043c \\u043d\\u0435 \\u0414\\u0438\\u043c\\u043e\\u043d\\u201d\"}],\"color\":[\"#f22c40\"],\"fill_alpha\":[0.8],\"height\":[62.0],\"index\":[\"\\u0424\\u0438\\u043b\\u044c\\u043c \\u201c\\u041e\\u043d \\u0432\\u0430\\u043c \\u043d\\u0435 \\u0414\\u0438\\u043c\\u043e\\u043d\\u201d\"],\"label\":[{\"index\":\"\\u0424\\u0438\\u043b\\u044c\\u043c \\u201c\\u041e\\u043d \\u0432\\u0430\\u043c \\u043d\\u0435 \\u0414\\u0438\\u043c\\u043e\\u043d\\u201d\"}],\"line_alpha\":[1.0],\"line_color\":[\"white\"],\"width\":[0.8],\"x\":[\"\\u0424\\u0438\\u043b\\u044c\\u043c \\u201c\\u041e\\u043d \\u0432\\u0430\\u043c \\u043d\\u0435 \\u0414\\u0438\\u043c\\u043e\\u043d\\u201d\"],\"y\":[31.0]}},\"id\":\"269eacbe-ebee-40d5-a5dc-9668be5f28b6\",\"type\":\"ColumnDataSource\"},{\"attributes\":{\"fill_alpha\":{\"field\":\"fill_alpha\"},\"fill_color\":{\"field\":\"color\"},\"height\":{\"field\":\"height\",\"units\":\"data\"},\"line_color\":{\"field\":\"line_color\"},\"width\":{\"field\":\"width\",\"units\":\"data\"},\"x\":{\"field\":\"x\"},\"y\":{\"field\":\"y\"}},\"id\":\"e68852ac-1287-4ad3-9e68-6743ef28f19d\",\"type\":\"Rect\"},{\"attributes\":{\"callback\":null,\"column_names\":[\"x\",\"y\",\"width\",\"height\",\"color\",\"fill_alpha\",\"line_color\",\"line_alpha\",\"label\"],\"data\":{\"chart_index\":[{\"index\":\"\\u0423\\u0431\\u0438\\u0442 \\u0414\\u0435\\u043d\\u0438\\u0441 \\u0412\\u043e\\u0440\\u043e\\u043d\\u0435\\u043d\\u043a\\u043e\\u0432\"}],\"color\":[\"#f22c40\"],\"fill_alpha\":[0.8],\"height\":[82.0],\"index\":[\"\\u0423\\u0431\\u0438\\u0442 \\u0414\\u0435\\u043d\\u0438\\u0441 \\u0412\\u043e\\u0440\\u043e\\u043d\\u0435\\u043d\\u043a\\u043e\\u0432\"],\"label\":[{\"index\":\"\\u0423\\u0431\\u0438\\u0442 \\u0414\\u0435\\u043d\\u0438\\u0441 \\u0412\\u043e\\u0440\\u043e\\u043d\\u0435\\u043d\\u043a\\u043e\\u0432\"}],\"line_alpha\":[1.0],\"line_color\":[\"white\"],\"width\":[0.8],\"x\":[\"\\u0423\\u0431\\u0438\\u0442 \\u0414\\u0435\\u043d\\u0438\\u0441 \\u0412\\u043e\\u0440\\u043e\\u043d\\u0435\\u043d\\u043a\\u043e\\u0432\"],\"y\":[41.0]}},\"id\":\"0095c658-f075-4d67-94c0-4882a8edd59e\",\"type\":\"ColumnDataSource\"},{\"attributes\":{\"data_source\":{\"id\":\"3cab7e20-d294-4204-b9ff-6297f98acace\",\"type\":\"ColumnDataSource\"},\"glyph\":{\"id\":\"b536906d-9b25-4fd6-a153-53d08e8a4f85\",\"type\":\"Rect\"},\"hover_glyph\":null,\"nonselection_glyph\":null,\"selection_glyph\":null},\"id\":\"a05dae4b-a70c-4e20-b82f-25c19f49faf4\",\"type\":\"GlyphRenderer\"},{\"attributes\":{\"data_source\":{\"id\":\"c6dce6d0-609c-4b71-90b3-2a81fee5f20f\",\"type\":\"ColumnDataSource\"},\"glyph\":{\"id\":\"be8af443-80bf-48ea-a3e1-f887bf03fe79\",\"type\":\"Rect\"},\"hover_glyph\":null,\"nonselection_glyph\":null,\"selection_glyph\":null},\"id\":\"4003af38-1ff4-405d-ac05-22dd4c74b1e1\",\"type\":\"GlyphRenderer\"},{\"attributes\":{\"fill_alpha\":{\"field\":\"fill_alpha\"},\"fill_color\":{\"field\":\"color\"},\"height\":{\"field\":\"height\",\"units\":\"data\"},\"line_color\":{\"field\":\"line_color\"},\"width\":{\"field\":\"width\",\"units\":\"data\"},\"x\":{\"field\":\"x\"},\"y\":{\"field\":\"y\"}},\"id\":\"8e133ee3-096b-4716-8b74-dc792ce7b914\",\"type\":\"Rect\"},{\"attributes\":{\"fill_alpha\":{\"field\":\"fill_alpha\"},\"fill_color\":{\"field\":\"color\"},\"height\":{\"field\":\"height\",\"units\":\"data\"},\"line_color\":{\"field\":\"line_color\"},\"width\":{\"field\":\"width\",\"units\":\"data\"},\"x\":{\"field\":\"x\"},\"y\":{\"field\":\"y\"}},\"id\":\"0dc30c6d-98ad-4ad1-a3f1-50a377fc38af\",\"type\":\"Rect\"},{\"attributes\":{\"callback\":null,\"column_names\":[\"x\",\"y\",\"width\",\"height\",\"color\",\"fill_alpha\",\"line_color\",\"line_alpha\",\"label\"],\"data\":{\"chart_index\":[{\"index\":\"\\u041f\\u0435\\u0440\\u0435\\u0434\\u0430\\u0447\\u0430 \\u0420\\u041f\\u0426 \\u0418\\u0441\\u0430\\u0430\\u043a\\u0438\\u0435\\u0432\\u0441\\u043a\\u043e\\u0433\\u043e \\u0441\\u043e\\u0431\\u043e\\u0440\\u0430 \"}],\"color\":[\"#f22c40\"],\"fill_alpha\":[0.8],\"height\":[100.0],\"index\":[\"\\u041f\\u0435\\u0440\\u0435\\u0434\\u0430\\u0447\\u0430 \\u0420\\u041f\\u0426 \\u0418\\u0441\\u0430\\u0430\\u043a\\u0438\\u0435\\u0432\\u0441\\u043a\\u043e\\u0433\\u043e \\u0441\\u043e\\u0431\\u043e\\u0440\\u0430 \"],\"label\":[{\"index\":\"\\u041f\\u0435\\u0440\\u0435\\u0434\\u0430\\u0447\\u0430 \\u0420\\u041f\\u0426 \\u0418\\u0441\\u0430\\u0430\\u043a\\u0438\\u0435\\u0432\\u0441\\u043a\\u043e\\u0433\\u043e \\u0441\\u043e\\u0431\\u043e\\u0440\\u0430 \"}],\"line_alpha\":[1.0],\"line_color\":[\"white\"],\"width\":[0.8],\"x\":[\"\\u041f\\u0435\\u0440\\u0435\\u0434\\u0430\\u0447\\u0430 \\u0420\\u041f\\u0426 \\u0418\\u0441\\u0430\\u0430\\u043a\\u0438\\u0435\\u0432\\u0441\\u043a\\u043e\\u0433\\u043e \\u0441\\u043e\\u0431\\u043e\\u0440\\u0430 \"],\"y\":[50.0]}},\"id\":\"2d612529-ca88-4fa0-b531-5e6daaeefde9\",\"type\":\"ColumnDataSource\"},{\"attributes\":{\"data_source\":{\"id\":\"223d1e1c-5ca1-4270-85c0-ac624f30f5e5\",\"type\":\"ColumnDataSource\"},\"glyph\":{\"id\":\"8e133ee3-096b-4716-8b74-dc792ce7b914\",\"type\":\"Rect\"},\"hover_glyph\":null,\"nonselection_glyph\":null,\"selection_glyph\":null},\"id\":\"c205f932-e6d5-4ac8-bf0e-d8827501a215\",\"type\":\"GlyphRenderer\"},{\"attributes\":{\"fill_alpha\":{\"field\":\"fill_alpha\"},\"fill_color\":{\"field\":\"color\"},\"height\":{\"field\":\"height\",\"units\":\"data\"},\"line_color\":{\"field\":\"line_color\"},\"width\":{\"field\":\"width\",\"units\":\"data\"},\"x\":{\"field\":\"x\"},\"y\":{\"field\":\"y\"}},\"id\":\"45931825-0fe0-49db-ab49-de66afe7af12\",\"type\":\"Rect\"},{\"attributes\":{\"fill_alpha\":{\"field\":\"fill_alpha\"},\"fill_color\":{\"field\":\"color\"},\"height\":{\"field\":\"height\",\"units\":\"data\"},\"line_color\":{\"field\":\"line_color\"},\"width\":{\"field\":\"width\",\"units\":\"data\"},\"x\":{\"field\":\"x\"},\"y\":{\"field\":\"y\"}},\"id\":\"c869a6cf-5136-4180-8c90-b8de4f63c718\",\"type\":\"Rect\"},{\"attributes\":{\"data_source\":{\"id\":\"a248594d-2d13-4e0a-bafc-61221af40eeb\",\"type\":\"ColumnDataSource\"},\"glyph\":{\"id\":\"e68852ac-1287-4ad3-9e68-6743ef28f19d\",\"type\":\"Rect\"},\"hover_glyph\":null,\"nonselection_glyph\":null,\"selection_glyph\":null},\"id\":\"0774788a-b05a-44ec-9b80-5f67702e1fd5\",\"type\":\"GlyphRenderer\"},{\"attributes\":{\"data_source\":{\"id\":\"bd813283-82b5-453b-9feb-cda72b63e32c\",\"type\":\"ColumnDataSource\"},\"glyph\":{\"id\":\"0dc30c6d-98ad-4ad1-a3f1-50a377fc38af\",\"type\":\"Rect\"},\"hover_glyph\":null,\"nonselection_glyph\":null,\"selection_glyph\":null},\"id\":\"df5f2cc2-1bc3-4548-9e58-4661d01f3d20\",\"type\":\"GlyphRenderer\"},{\"attributes\":{\"fill_alpha\":{\"field\":\"fill_alpha\"},\"fill_color\":{\"field\":\"color\"},\"height\":{\"field\":\"height\",\"units\":\"data\"},\"line_color\":{\"field\":\"line_color\"},\"width\":{\"field\":\"width\",\"units\":\"data\"},\"x\":{\"field\":\"x\"},\"y\":{\"field\":\"y\"}},\"id\":\"840f5542-29f2-48c4-a363-05e8faf50c71\",\"type\":\"Rect\"},{\"attributes\":{\"data_source\":{\"id\":\"61f2d905-27f2-4e2b-ae39-ddfaee49e036\",\"type\":\"ColumnDataSource\"},\"glyph\":{\"id\":\"c592c1e8-19fc-4936-9892-22b283472d51\",\"type\":\"Rect\"},\"hover_glyph\":null,\"nonselection_glyph\":null,\"selection_glyph\":null},\"id\":\"8c92751e-9792-435b-8705-6bcfc5db949e\",\"type\":\"GlyphRenderer\"},{\"attributes\":{\"data_source\":{\"id\":\"2d9d050f-e977-4db5-89d2-10097eb06e7f\",\"type\":\"ColumnDataSource\"},\"glyph\":{\"id\":\"5e0b7fc9-f6cc-42f7-bedf-9c815c4830f9\",\"type\":\"Rect\"},\"hover_glyph\":null,\"nonselection_glyph\":null,\"selection_glyph\":null},\"id\":\"40b71fb8-323c-4093-9b1c-a51f2eedf848\",\"type\":\"GlyphRenderer\"},{\"attributes\":{\"data_source\":{\"id\":\"0095c658-f075-4d67-94c0-4882a8edd59e\",\"type\":\"ColumnDataSource\"},\"glyph\":{\"id\":\"5f791cbb-23a9-44d4-a67b-1344f2026ff0\",\"type\":\"Rect\"},\"hover_glyph\":null,\"nonselection_glyph\":null,\"selection_glyph\":null},\"id\":\"95e9c111-48ef-49db-be74-7a64befe3ebb\",\"type\":\"GlyphRenderer\"},{\"attributes\":{\"fill_alpha\":{\"field\":\"fill_alpha\"},\"fill_color\":{\"field\":\"color\"},\"height\":{\"field\":\"height\",\"units\":\"data\"},\"line_color\":{\"field\":\"line_color\"},\"width\":{\"field\":\"width\",\"units\":\"data\"},\"x\":{\"field\":\"x\"},\"y\":{\"field\":\"y\"}},\"id\":\"bff4127e-4b98-4546-9d99-b7767afadfb4\",\"type\":\"Rect\"},{\"attributes\":{\"fill_alpha\":{\"field\":\"fill_alpha\"},\"fill_color\":{\"field\":\"color\"},\"height\":{\"field\":\"height\",\"units\":\"data\"},\"line_color\":{\"field\":\"line_color\"},\"width\":{\"field\":\"width\",\"units\":\"data\"},\"x\":{\"field\":\"x\"},\"y\":{\"field\":\"y\"}},\"id\":\"8315933d-bdb2-47b2-a680-5a68126a395d\",\"type\":\"Rect\"},{\"attributes\":{\"data_source\":{\"id\":\"2d612529-ca88-4fa0-b531-5e6daaeefde9\",\"type\":\"ColumnDataSource\"},\"glyph\":{\"id\":\"c869a6cf-5136-4180-8c90-b8de4f63c718\",\"type\":\"Rect\"},\"hover_glyph\":null,\"nonselection_glyph\":null,\"selection_glyph\":null},\"id\":\"96e858c9-91d6-4865-a16f-96fe95e95a4e\",\"type\":\"GlyphRenderer\"},{\"attributes\":{\"callback\":null,\"column_names\":[\"x\",\"y\",\"width\",\"height\",\"color\",\"fill_alpha\",\"line_color\",\"line_alpha\",\"label\"],\"data\":{\"chart_index\":[{\"index\":\"\\u041f\\u043e\\u0431\\u0435\\u0434\\u0430 \\u041c\\u0430\\u043a\\u0440\\u043e\\u043d\\u0430 \\u0432\\u043e \\u0424\\u0440\\u0430\\u043d\\u0446\\u0438\\u0438\"}],\"color\":[\"#f22c40\"],\"fill_alpha\":[0.8],\"height\":[45.0],\"index\":[\"\\u041f\\u043e\\u0431\\u0435\\u0434\\u0430 \\u041c\\u0430\\u043a\\u0440\\u043e\\u043d\\u0430 \\u0432\\u043e \\u0424\\u0440\\u0430\\u043d\\u0446\\u0438\\u0438\"],\"label\":[{\"index\":\"\\u041f\\u043e\\u0431\\u0435\\u0434\\u0430 \\u041c\\u0430\\u043a\\u0440\\u043e\\u043d\\u0430 \\u0432\\u043e \\u0424\\u0440\\u0430\\u043d\\u0446\\u0438\\u0438\"}],\"line_alpha\":[1.0],\"line_color\":[\"white\"],\"width\":[0.8],\"x\":[\"\\u041f\\u043e\\u0431\\u0435\\u0434\\u0430 \\u041c\\u0430\\u043a\\u0440\\u043e\\u043d\\u0430 \\u0432\\u043e \\u0424\\u0440\\u0430\\u043d\\u0446\\u0438\\u0438\"],\"y\":[22.5]}},\"id\":\"31761206-6e5b-4a47-8f53-919094499fdc\",\"type\":\"ColumnDataSource\"},{\"attributes\":{\"callback\":null,\"column_names\":[\"x\",\"y\",\"width\",\"height\",\"color\",\"fill_alpha\",\"line_color\",\"line_alpha\",\"label\"],\"data\":{\"chart_index\":[{\"index\":\"\\u0410\\u043a\\u0446\\u0438\\u0438 \\u043f\\u0440\\u043e\\u0442\\u0435\\u0441\\u0442\\u0430 12 \\u0438\\u044e\\u043d\\u044f\"}],\"color\":[\"#f22c40\"],\"fill_alpha\":[0.8],\"height\":[100.0],\"index\":[\"\\u0410\\u043a\\u0446\\u0438\\u0438 \\u043f\\u0440\\u043e\\u0442\\u0435\\u0441\\u0442\\u0430 12 \\u0438\\u044e\\u043d\\u044f\"],\"label\":[{\"index\":\"\\u0410\\u043a\\u0446\\u0438\\u0438 \\u043f\\u0440\\u043e\\u0442\\u0435\\u0441\\u0442\\u0430 12 \\u0438\\u044e\\u043d\\u044f\"}],\"line_alpha\":[1.0],\"line_color\":[\"white\"],\"width\":[0.8],\"x\":[\"\\u0410\\u043a\\u0446\\u0438\\u0438 \\u043f\\u0440\\u043e\\u0442\\u0435\\u0441\\u0442\\u0430 12 \\u0438\\u044e\\u043d\\u044f\"],\"y\":[50.0]}},\"id\":\"fd9185e0-8552-4251-af9f-d705172eb6e5\",\"type\":\"ColumnDataSource\"},{\"attributes\":{\"data_source\":{\"id\":\"269eacbe-ebee-40d5-a5dc-9668be5f28b6\",\"type\":\"ColumnDataSource\"},\"glyph\":{\"id\":\"840f5542-29f2-48c4-a363-05e8faf50c71\",\"type\":\"Rect\"},\"hover_glyph\":null,\"nonselection_glyph\":null,\"selection_glyph\":null},\"id\":\"dcd2309a-475a-48aa-af67-d9356599e604\",\"type\":\"GlyphRenderer\"},{\"attributes\":{\"callback\":null,\"column_names\":[\"x\",\"y\",\"width\",\"height\",\"color\",\"fill_alpha\",\"line_color\",\"line_alpha\",\"label\"],\"data\":{\"chart_index\":[{\"index\":\"\\u0415\\u0434\\u0438\\u043d\\u044b\\u0439 \\u0434\\u0435\\u043d\\u044c \\u0433\\u043e\\u043b\\u043e\\u0441\\u043e\\u0432\\u0430\\u043d\\u0438\\u044f\"}],\"color\":[\"#f22c40\"],\"fill_alpha\":[0.8],\"height\":[100.0],\"index\":[\"\\u0415\\u0434\\u0438\\u043d\\u044b\\u0439 \\u0434\\u0435\\u043d\\u044c \\u0433\\u043e\\u043b\\u043e\\u0441\\u043e\\u0432\\u0430\\u043d\\u0438\\u044f\"],\"label\":[{\"index\":\"\\u0415\\u0434\\u0438\\u043d\\u044b\\u0439 \\u0434\\u0435\\u043d\\u044c \\u0433\\u043e\\u043b\\u043e\\u0441\\u043e\\u0432\\u0430\\u043d\\u0438\\u044f\"}],\"line_alpha\":[1.0],\"line_color\":[\"white\"],\"width\":[0.8],\"x\":[\"\\u0415\\u0434\\u0438\\u043d\\u044b\\u0439 \\u0434\\u0435\\u043d\\u044c \\u0433\\u043e\\u043b\\u043e\\u0441\\u043e\\u0432\\u0430\\u043d\\u0438\\u044f\"],\"y\":[50.0]}},\"id\":\"61f2d905-27f2-4e2b-ae39-ddfaee49e036\",\"type\":\"ColumnDataSource\"},{\"attributes\":{\"fill_alpha\":{\"field\":\"fill_alpha\"},\"fill_color\":{\"field\":\"color\"},\"height\":{\"field\":\"height\",\"units\":\"data\"},\"line_color\":{\"field\":\"line_color\"},\"width\":{\"field\":\"width\",\"units\":\"data\"},\"x\":{\"field\":\"x\"},\"y\":{\"field\":\"y\"}},\"id\":\"5f791cbb-23a9-44d4-a67b-1344f2026ff0\",\"type\":\"Rect\"},{\"attributes\":{\"data_source\":{\"id\":\"7285de5d-d39e-43ef-86c0-ec0f68bca6ef\",\"type\":\"ColumnDataSource\"},\"glyph\":{\"id\":\"bff4127e-4b98-4546-9d99-b7767afadfb4\",\"type\":\"Rect\"},\"hover_glyph\":null,\"nonselection_glyph\":null,\"selection_glyph\":null},\"id\":\"45227a4e-b7af-4803-9a50-f1eb2fe5d57a\",\"type\":\"GlyphRenderer\"}],\"root_ids\":[\"2622f101-af39-4d38-b0a4-09c60386d880\"]},\"title\":\"Bokeh Application\",\"version\":\"0.12.4\"}};\n",
       "            var render_items = [{\"docid\":\"a2d12555-fc6e-4537-897f-5ae8150acdd7\",\"elementid\":\"2a12a199-4f6b-46cc-91d4-a6d5d5f229da\",\"modelid\":\"2622f101-af39-4d38-b0a4-09c60386d880\"}];\n",
       "            \n",
       "            Bokeh.embed.embed_items(docs_json, render_items);\n",
       "          };\n",
       "          if (document.readyState != \"loading\") fn();\n",
       "          else document.addEventListener(\"DOMContentLoaded\", fn);\n",
       "        })();\n",
       "      },\n",
       "      function(Bokeh) {\n",
       "      }\n",
       "    ];\n",
       "  \n",
       "    function run_inline_js() {\n",
       "      \n",
       "      if ((window.Bokeh !== undefined) || (force === true)) {\n",
       "        for (var i = 0; i < inline_js.length; i++) {\n",
       "          inline_js[i](window.Bokeh);\n",
       "        }if (force === true) {\n",
       "          display_loaded();\n",
       "        }} else if (Date.now() < window._bokeh_timeout) {\n",
       "        setTimeout(run_inline_js, 100);\n",
       "      } else if (!window._bokeh_failed_load) {\n",
       "        console.log(\"Bokeh: BokehJS failed to load within specified timeout.\");\n",
       "        window._bokeh_failed_load = true;\n",
       "      } else if (force !== true) {\n",
       "        var cell = $(document.getElementById(\"2a12a199-4f6b-46cc-91d4-a6d5d5f229da\")).parents('.cell').data().cell;\n",
       "        cell.output_area.append_execute_result(NB_LOAD_WARNING)\n",
       "      }\n",
       "  \n",
       "    }\n",
       "  \n",
       "    if (window._bokeh_is_loading === 0) {\n",
       "      console.log(\"Bokeh: BokehJS loaded, going straight to plotting\");\n",
       "      run_inline_js();\n",
       "    } else {\n",
       "      load_libs(js_urls, function() {\n",
       "        console.log(\"Bokeh: BokehJS plotting callback run at\", now());\n",
       "        run_inline_js();\n",
       "      });\n",
       "    }\n",
       "  }(this));\n",
       "</script>"
      ]
     },
     "metadata": {},
     "output_type": "display_data"
    }
   ],
   "source": [
    "from bokeh.charts import Bar, output_notebook, show, hplot\n",
    "import math\n",
    "output_notebook()\n",
    "\n",
    "counts = df.event.value_counts()\n",
    "\n",
    "bar = Bar(counts,  width=1000, height = 600, legend = False)\n",
    "bar.xaxis.major_label_orientation = math.pi/2-0.3\n",
    "show(bar)"
   ]
  },
  {
   "cell_type": "markdown",
   "metadata": {
    "deletable": true,
    "editable": true,
    "slideshow": {
     "slide_type": "subslide"
    }
   },
   "source": [
    "### Длины текстов (в символах)"
   ]
  },
  {
   "cell_type": "code",
   "execution_count": 100,
   "metadata": {
    "collapsed": false,
    "deletable": true,
    "editable": true,
    "slideshow": {
     "slide_type": "fragment"
    }
   },
   "outputs": [
    {
     "data": {
      "text/html": [
       "\n",
       "\n",
       "    <div class=\"bk-root\">\n",
       "        <div class=\"bk-plotdiv\" id=\"272322d7-ce0d-4919-9f99-d186ae3de790\"></div>\n",
       "    </div>\n",
       "<script type=\"text/javascript\">\n",
       "  \n",
       "  (function(global) {\n",
       "    function now() {\n",
       "      return new Date();\n",
       "    }\n",
       "  \n",
       "    var force = false;\n",
       "  \n",
       "    if (typeof (window._bokeh_onload_callbacks) === \"undefined\" || force === true) {\n",
       "      window._bokeh_onload_callbacks = [];\n",
       "      window._bokeh_is_loading = undefined;\n",
       "    }\n",
       "  \n",
       "  \n",
       "    \n",
       "    if (typeof (window._bokeh_timeout) === \"undefined\" || force === true) {\n",
       "      window._bokeh_timeout = Date.now() + 0;\n",
       "      window._bokeh_failed_load = false;\n",
       "    }\n",
       "  \n",
       "    var NB_LOAD_WARNING = {'data': {'text/html':\n",
       "       \"<div style='background-color: #fdd'>\\n\"+\n",
       "       \"<p>\\n\"+\n",
       "       \"BokehJS does not appear to have successfully loaded. If loading BokehJS from CDN, this \\n\"+\n",
       "       \"may be due to a slow or bad network connection. Possible fixes:\\n\"+\n",
       "       \"</p>\\n\"+\n",
       "       \"<ul>\\n\"+\n",
       "       \"<li>re-rerun `output_notebook()` to attempt to load from CDN again, or</li>\\n\"+\n",
       "       \"<li>use INLINE resources instead, as so:</li>\\n\"+\n",
       "       \"</ul>\\n\"+\n",
       "       \"<code>\\n\"+\n",
       "       \"from bokeh.resources import INLINE\\n\"+\n",
       "       \"output_notebook(resources=INLINE)\\n\"+\n",
       "       \"</code>\\n\"+\n",
       "       \"</div>\"}};\n",
       "  \n",
       "    function display_loaded() {\n",
       "      if (window.Bokeh !== undefined) {\n",
       "        document.getElementById(\"272322d7-ce0d-4919-9f99-d186ae3de790\").textContent = \"BokehJS successfully loaded.\";\n",
       "      } else if (Date.now() < window._bokeh_timeout) {\n",
       "        setTimeout(display_loaded, 100)\n",
       "      }\n",
       "    }\n",
       "  \n",
       "    function run_callbacks() {\n",
       "      window._bokeh_onload_callbacks.forEach(function(callback) { callback() });\n",
       "      delete window._bokeh_onload_callbacks\n",
       "      console.info(\"Bokeh: all callbacks have finished\");\n",
       "    }\n",
       "  \n",
       "    function load_libs(js_urls, callback) {\n",
       "      window._bokeh_onload_callbacks.push(callback);\n",
       "      if (window._bokeh_is_loading > 0) {\n",
       "        console.log(\"Bokeh: BokehJS is being loaded, scheduling callback at\", now());\n",
       "        return null;\n",
       "      }\n",
       "      if (js_urls == null || js_urls.length === 0) {\n",
       "        run_callbacks();\n",
       "        return null;\n",
       "      }\n",
       "      console.log(\"Bokeh: BokehJS not loaded, scheduling load and callback at\", now());\n",
       "      window._bokeh_is_loading = js_urls.length;\n",
       "      for (var i = 0; i < js_urls.length; i++) {\n",
       "        var url = js_urls[i];\n",
       "        var s = document.createElement('script');\n",
       "        s.src = url;\n",
       "        s.async = false;\n",
       "        s.onreadystatechange = s.onload = function() {\n",
       "          window._bokeh_is_loading--;\n",
       "          if (window._bokeh_is_loading === 0) {\n",
       "            console.log(\"Bokeh: all BokehJS libraries loaded\");\n",
       "            run_callbacks()\n",
       "          }\n",
       "        };\n",
       "        s.onerror = function() {\n",
       "          console.warn(\"failed to load library \" + url);\n",
       "        };\n",
       "        console.log(\"Bokeh: injecting script tag for BokehJS library: \", url);\n",
       "        document.getElementsByTagName(\"head\")[0].appendChild(s);\n",
       "      }\n",
       "    };var element = document.getElementById(\"272322d7-ce0d-4919-9f99-d186ae3de790\");\n",
       "    if (element == null) {\n",
       "      console.log(\"Bokeh: ERROR: autoload.js configured with elementid '272322d7-ce0d-4919-9f99-d186ae3de790' but no matching script tag was found. \")\n",
       "      return false;\n",
       "    }\n",
       "  \n",
       "    var js_urls = [];\n",
       "  \n",
       "    var inline_js = [\n",
       "      function(Bokeh) {\n",
       "        (function() {\n",
       "          var fn = function() {\n",
       "            var docs_json = {\"c4d3c201-2bf4-4570-bcf9-054fdcb12ca8\":{\"roots\":{\"references\":[{\"attributes\":{\"data_source\":{\"id\":\"7cbb4edb-0200-4ba9-ace5-f22af11aece2\",\"type\":\"ColumnDataSource\"},\"glyph\":{\"id\":\"095b4a0e-d4d4-4a32-9f6c-bf0ffebc59f7\",\"type\":\"Rect\"},\"hover_glyph\":null,\"nonselection_glyph\":null,\"selection_glyph\":null},\"id\":\"bc9596be-1b88-4789-8bff-5496a3f96aef\",\"type\":\"GlyphRenderer\"},{\"attributes\":{},\"id\":\"b373894a-2166-4d68-97a5-06250a7312ff\",\"type\":\"ToolEvents\"},{\"attributes\":{\"callback\":null,\"column_names\":[\"x\",\"y\",\"width\",\"height\",\"color\",\"fill_alpha\",\"line_color\",\"line_alpha\",\"label\"],\"data\":{\"chart_index\":[\"(8601.689655, 8944.517241]\"],\"color\":[\"#f22c40\"],\"fill_alpha\":[0.8],\"height\":[14.0],\"label\":[\"(8601.689655, 8944.517241]\"],\"line_alpha\":[1.0],\"line_color\":[\"black\"],\"width\":[342.82758620689674],\"x\":[\"8773.103448\"],\"y\":[7.0]}},\"id\":\"91e03e9e-1859-420a-820d-e77a8bc1447d\",\"type\":\"ColumnDataSource\"},{\"attributes\":{\"dimension\":1,\"plot\":{\"id\":\"868f4733-cf09-44a3-b47b-3d5ced1e0bab\",\"subtype\":\"Chart\",\"type\":\"Plot\"},\"ticker\":{\"id\":\"e5cc3609-a7d1-423f-a358-653c608243d7\",\"type\":\"BasicTicker\"}},\"id\":\"57cb6873-13a4-4766-b8b8-363ef8b30fd1\",\"type\":\"Grid\"},{\"attributes\":{\"callback\":null,\"column_names\":[\"x\",\"y\",\"width\",\"height\",\"color\",\"fill_alpha\",\"line_color\",\"line_alpha\",\"label\"],\"data\":{\"chart_index\":[\"(1745.137931, 2087.965517]\"],\"color\":[\"#f22c40\"],\"fill_alpha\":[0.8],\"height\":[164.0],\"label\":[\"(1745.137931, 2087.965517]\"],\"line_alpha\":[1.0],\"line_color\":[\"black\"],\"width\":[342.82758620689674],\"x\":[\"1916.551724\"],\"y\":[82.0]}},\"id\":\"4a3d4173-ce16-4b8c-8b91-71caed7a46e6\",\"type\":\"ColumnDataSource\"},{\"attributes\":{\"callback\":null,\"column_names\":[\"x\",\"y\",\"width\",\"height\",\"color\",\"fill_alpha\",\"line_color\",\"line_alpha\",\"label\"],\"data\":{\"chart_index\":[\"(716.655172, 1059.482759]\"],\"color\":[\"#f22c40\"],\"fill_alpha\":[0.8],\"height\":[216.0],\"label\":[\"(716.655172, 1059.482759]\"],\"line_alpha\":[1.0],\"line_color\":[\"black\"],\"width\":[342.8275862068966],\"x\":[\"888.0689655\"],\"y\":[108.0]}},\"id\":\"dbcfa60d-e989-4175-ad40-87bb29747840\",\"type\":\"ColumnDataSource\"},{\"attributes\":{\"callback\":null,\"column_names\":[\"x\",\"y\",\"width\",\"height\",\"color\",\"fill_alpha\",\"line_color\",\"line_alpha\",\"label\"],\"data\":{\"chart_index\":[\"(8944.517241, 9287.344828]\"],\"color\":[\"#f22c40\"],\"fill_alpha\":[0.8],\"height\":[10.0],\"label\":[\"(8944.517241, 9287.344828]\"],\"line_alpha\":[1.0],\"line_color\":[\"black\"],\"width\":[342.8275862068949],\"x\":[\"9115.9310345\"],\"y\":[5.0]}},\"id\":\"e3723ea6-d727-4628-a2a4-5fe6e654276a\",\"type\":\"ColumnDataSource\"},{\"attributes\":{\"fill_alpha\":{\"field\":\"fill_alpha\"},\"fill_color\":{\"field\":\"color\"},\"height\":{\"field\":\"height\",\"units\":\"data\"},\"line_color\":{\"field\":\"line_color\"},\"width\":{\"field\":\"width\",\"units\":\"data\"},\"x\":{\"field\":\"x\"},\"y\":{\"field\":\"y\"}},\"id\":\"c0a307bc-640f-46bf-8995-9d515c13f4f1\",\"type\":\"Rect\"},{\"attributes\":{\"data_source\":{\"id\":\"dbcfa60d-e989-4175-ad40-87bb29747840\",\"type\":\"ColumnDataSource\"},\"glyph\":{\"id\":\"79efc365-37f2-4fea-b252-d72644fe5db4\",\"type\":\"Rect\"},\"hover_glyph\":null,\"nonselection_glyph\":null,\"selection_glyph\":null},\"id\":\"6eb56929-0f5f-434e-ab8c-6660356592fa\",\"type\":\"GlyphRenderer\"},{\"attributes\":{\"bottom_units\":\"screen\",\"fill_alpha\":{\"value\":0.5},\"fill_color\":{\"value\":\"lightgrey\"},\"left_units\":\"screen\",\"level\":\"overlay\",\"line_alpha\":{\"value\":1.0},\"line_color\":{\"value\":\"black\"},\"line_dash\":[4,4],\"line_width\":{\"value\":2},\"plot\":null,\"render_mode\":\"css\",\"right_units\":\"screen\",\"top_units\":\"screen\"},\"id\":\"627f517c-aa9a-46c6-8870-e82251b56568\",\"type\":\"BoxAnnotation\"},{\"attributes\":{\"fill_alpha\":{\"field\":\"fill_alpha\"},\"fill_color\":{\"field\":\"color\"},\"height\":{\"field\":\"height\",\"units\":\"data\"},\"line_color\":{\"field\":\"line_color\"},\"width\":{\"field\":\"width\",\"units\":\"data\"},\"x\":{\"field\":\"x\"},\"y\":{\"field\":\"y\"}},\"id\":\"b7afbb05-fdd6-4e3d-a4a7-5db3beca9487\",\"type\":\"Rect\"},{\"attributes\":{},\"id\":\"e5cc3609-a7d1-423f-a358-653c608243d7\",\"type\":\"BasicTicker\"},{\"attributes\":{\"plot\":{\"id\":\"868f4733-cf09-44a3-b47b-3d5ced1e0bab\",\"subtype\":\"Chart\",\"type\":\"Plot\"}},\"id\":\"c1fe0f46-416a-4685-942a-9ac6644fd922\",\"type\":\"PanTool\"},{\"attributes\":{},\"id\":\"d6cebb36-1255-4748-b588-ebbd484bae00\",\"type\":\"BasicTickFormatter\"},{\"attributes\":{\"data_source\":{\"id\":\"91e03e9e-1859-420a-820d-e77a8bc1447d\",\"type\":\"ColumnDataSource\"},\"glyph\":{\"id\":\"b7afbb05-fdd6-4e3d-a4a7-5db3beca9487\",\"type\":\"Rect\"},\"hover_glyph\":null,\"nonselection_glyph\":null,\"selection_glyph\":null},\"id\":\"f0a6d09e-a5c8-41e0-bec6-853b2b1852be\",\"type\":\"GlyphRenderer\"},{\"attributes\":{\"plot\":{\"id\":\"868f4733-cf09-44a3-b47b-3d5ced1e0bab\",\"subtype\":\"Chart\",\"type\":\"Plot\"}},\"id\":\"722ad575-7333-4675-980d-d5f720193199\",\"type\":\"SaveTool\"},{\"attributes\":{\"axis_label\":\"Count( Text )\",\"formatter\":{\"id\":\"d6cebb36-1255-4748-b588-ebbd484bae00\",\"type\":\"BasicTickFormatter\"},\"plot\":{\"id\":\"868f4733-cf09-44a3-b47b-3d5ced1e0bab\",\"subtype\":\"Chart\",\"type\":\"Plot\"},\"ticker\":{\"id\":\"e5cc3609-a7d1-423f-a358-653c608243d7\",\"type\":\"BasicTicker\"}},\"id\":\"16b39045-1a6a-4013-ab80-29bc9c35b353\",\"type\":\"LinearAxis\"},{\"attributes\":{\"plot\":{\"id\":\"868f4733-cf09-44a3-b47b-3d5ced1e0bab\",\"subtype\":\"Chart\",\"type\":\"Plot\"}},\"id\":\"94487673-677f-4e8c-8fc8-2d05bfd8323a\",\"type\":\"ResetTool\"},{\"attributes\":{\"plot\":{\"id\":\"868f4733-cf09-44a3-b47b-3d5ced1e0bab\",\"subtype\":\"Chart\",\"type\":\"Plot\"}},\"id\":\"76ce23c8-7efe-48f0-a2b9-efa6c2d78c36\",\"type\":\"HelpTool\"},{\"attributes\":{\"callback\":null,\"column_names\":[\"x\",\"y\",\"width\",\"height\",\"color\",\"fill_alpha\",\"line_color\",\"line_alpha\",\"label\"],\"data\":{\"chart_index\":[\"(1402.310345, 1745.137931]\"],\"color\":[\"#f22c40\"],\"fill_alpha\":[0.8],\"height\":[241.0],\"label\":[\"(1402.310345, 1745.137931]\"],\"line_alpha\":[1.0],\"line_color\":[\"black\"],\"width\":[342.8275862068965],\"x\":[\"1573.724138\"],\"y\":[120.5]}},\"id\":\"47a7a223-92f1-4230-9a07-d09b0a8b4480\",\"type\":\"ColumnDataSource\"},{\"attributes\":{\"fill_alpha\":{\"field\":\"fill_alpha\"},\"fill_color\":{\"field\":\"color\"},\"height\":{\"field\":\"height\",\"units\":\"data\"},\"line_color\":{\"field\":\"line_color\"},\"width\":{\"field\":\"width\",\"units\":\"data\"},\"x\":{\"field\":\"x\"},\"y\":{\"field\":\"y\"}},\"id\":\"de0bb810-b04f-4685-94b9-04e3365a9900\",\"type\":\"Rect\"},{\"attributes\":{\"fill_alpha\":{\"field\":\"fill_alpha\"},\"fill_color\":{\"field\":\"color\"},\"height\":{\"field\":\"height\",\"units\":\"data\"},\"line_color\":{\"field\":\"line_color\"},\"width\":{\"field\":\"width\",\"units\":\"data\"},\"x\":{\"field\":\"x\"},\"y\":{\"field\":\"y\"}},\"id\":\"b8021109-13cb-4165-88b7-2b26e172e5d2\",\"type\":\"Rect\"},{\"attributes\":{\"fill_alpha\":{\"field\":\"fill_alpha\"},\"fill_color\":{\"field\":\"color\"},\"height\":{\"field\":\"height\",\"units\":\"data\"},\"line_color\":{\"field\":\"line_color\"},\"width\":{\"field\":\"width\",\"units\":\"data\"},\"x\":{\"field\":\"x\"},\"y\":{\"field\":\"y\"}},\"id\":\"ff129a01-6f21-435c-b6b4-02101df604fa\",\"type\":\"Rect\"},{\"attributes\":{\"data_source\":{\"id\":\"47a7a223-92f1-4230-9a07-d09b0a8b4480\",\"type\":\"ColumnDataSource\"},\"glyph\":{\"id\":\"b8021109-13cb-4165-88b7-2b26e172e5d2\",\"type\":\"Rect\"},\"hover_glyph\":null,\"nonselection_glyph\":null,\"selection_glyph\":null},\"id\":\"eabbfa78-6fe0-421d-94bd-3838a1c886a1\",\"type\":\"GlyphRenderer\"},{\"attributes\":{\"data_source\":{\"id\":\"5a4d0703-ed73-495a-89a7-3028c514e1bf\",\"type\":\"ColumnDataSource\"},\"glyph\":{\"id\":\"c971b285-9b13-4186-a013-62f32dbd3baa\",\"type\":\"Rect\"},\"hover_glyph\":null,\"nonselection_glyph\":null,\"selection_glyph\":null},\"id\":\"5c360cbf-3aea-4495-a102-d35d2626cabe\",\"type\":\"GlyphRenderer\"},{\"attributes\":{\"axis_label\":\"text\",\"formatter\":{\"id\":\"e25aab56-bd9a-4d8f-a8a1-f4b39babdc8c\",\"type\":\"BasicTickFormatter\"},\"plot\":{\"id\":\"868f4733-cf09-44a3-b47b-3d5ced1e0bab\",\"subtype\":\"Chart\",\"type\":\"Plot\"},\"ticker\":{\"id\":\"16928b69-488b-44f9-921e-ca05e96d75dc\",\"type\":\"BasicTicker\"}},\"id\":\"6503c0a8-fdf8-4ac0-a270-1d46067dfa13\",\"type\":\"LinearAxis\"},{\"attributes\":{\"callback\":null,\"column_names\":[\"x\",\"y\",\"width\",\"height\",\"color\",\"fill_alpha\",\"line_color\",\"line_alpha\",\"label\"],\"data\":{\"chart_index\":[\"(4487.758621, 4830.586207]\"],\"color\":[\"#f22c40\"],\"fill_alpha\":[0.8],\"height\":[43.0],\"label\":[\"(4487.758621, 4830.586207]\"],\"line_alpha\":[1.0],\"line_color\":[\"black\"],\"width\":[342.82758620689583],\"x\":[\"4659.172414000001\"],\"y\":[21.5]}},\"id\":\"c53a683f-8f70-458e-b1dc-0eae7b1d1ef4\",\"type\":\"ColumnDataSource\"},{\"attributes\":{\"data_source\":{\"id\":\"e3723ea6-d727-4628-a2a4-5fe6e654276a\",\"type\":\"ColumnDataSource\"},\"glyph\":{\"id\":\"ff129a01-6f21-435c-b6b4-02101df604fa\",\"type\":\"Rect\"},\"hover_glyph\":null,\"nonselection_glyph\":null,\"selection_glyph\":null},\"id\":\"1405d1df-8d6d-4a55-a259-c150288b397c\",\"type\":\"GlyphRenderer\"},{\"attributes\":{\"callback\":null,\"column_names\":[\"x\",\"y\",\"width\",\"height\",\"color\",\"fill_alpha\",\"line_color\",\"line_alpha\",\"label\"],\"data\":{\"chart_index\":[\"(2087.965517, 2430.793103]\"],\"color\":[\"#f22c40\"],\"fill_alpha\":[0.8],\"height\":[129.0],\"label\":[\"(2087.965517, 2430.793103]\"],\"line_alpha\":[1.0],\"line_color\":[\"black\"],\"width\":[342.8275862068963],\"x\":[\"2259.3793100000003\"],\"y\":[64.5]}},\"id\":\"9ef6eefc-06b7-471a-90ed-98822c84cdad\",\"type\":\"ColumnDataSource\"},{\"attributes\":{},\"id\":\"16928b69-488b-44f9-921e-ca05e96d75dc\",\"type\":\"BasicTicker\"},{\"attributes\":{\"fill_alpha\":{\"field\":\"fill_alpha\"},\"fill_color\":{\"field\":\"color\"},\"height\":{\"field\":\"height\",\"units\":\"data\"},\"line_color\":{\"field\":\"line_color\"},\"width\":{\"field\":\"width\",\"units\":\"data\"},\"x\":{\"field\":\"x\"},\"y\":{\"field\":\"y\"}},\"id\":\"3ce60fc8-8780-413c-aefc-215d9abe754d\",\"type\":\"Rect\"},{\"attributes\":{\"data_source\":{\"id\":\"4a3d4173-ce16-4b8c-8b91-71caed7a46e6\",\"type\":\"ColumnDataSource\"},\"glyph\":{\"id\":\"3ce60fc8-8780-413c-aefc-215d9abe754d\",\"type\":\"Rect\"},\"hover_glyph\":null,\"nonselection_glyph\":null,\"selection_glyph\":null},\"id\":\"e52d6782-3231-47f6-9501-e8194be0555e\",\"type\":\"GlyphRenderer\"},{\"attributes\":{},\"id\":\"e25aab56-bd9a-4d8f-a8a1-f4b39babdc8c\",\"type\":\"BasicTickFormatter\"},{\"attributes\":{\"data_source\":{\"id\":\"4e5e1f52-1a3d-4c17-b8b2-925f2f07ace8\",\"type\":\"ColumnDataSource\"},\"glyph\":{\"id\":\"c31966ea-bc18-4712-900f-9b6beeaaeff4\",\"type\":\"Rect\"},\"hover_glyph\":null,\"nonselection_glyph\":null,\"selection_glyph\":null},\"id\":\"1c121ae4-e6ae-426e-9320-82b10cc70443\",\"type\":\"GlyphRenderer\"},{\"attributes\":{\"callback\":null,\"column_names\":[\"x\",\"y\",\"width\",\"height\",\"color\",\"fill_alpha\",\"line_color\",\"line_alpha\",\"label\"],\"data\":{\"chart_index\":[\"(2430.793103, 2773.620690]\"],\"color\":[\"#f22c40\"],\"fill_alpha\":[0.8],\"height\":[74.0],\"label\":[\"(2430.793103, 2773.620690]\"],\"line_alpha\":[1.0],\"line_color\":[\"black\"],\"width\":[342.82758620689674],\"x\":[\"2602.2068965\"],\"y\":[37.0]}},\"id\":\"75dd7c04-134a-4aba-9751-307f6f869fcc\",\"type\":\"ColumnDataSource\"},{\"attributes\":{\"fill_alpha\":{\"field\":\"fill_alpha\"},\"fill_color\":{\"field\":\"color\"},\"height\":{\"field\":\"height\",\"units\":\"data\"},\"line_color\":{\"field\":\"line_color\"},\"width\":{\"field\":\"width\",\"units\":\"data\"},\"x\":{\"field\":\"x\"},\"y\":{\"field\":\"y\"}},\"id\":\"be31d4c1-a372-42ab-b02a-a154bca3ee3e\",\"type\":\"Rect\"},{\"attributes\":{\"data_source\":{\"id\":\"9ef6eefc-06b7-471a-90ed-98822c84cdad\",\"type\":\"ColumnDataSource\"},\"glyph\":{\"id\":\"be31d4c1-a372-42ab-b02a-a154bca3ee3e\",\"type\":\"Rect\"},\"hover_glyph\":null,\"nonselection_glyph\":null,\"selection_glyph\":null},\"id\":\"34c2b865-4932-4b43-a255-1effa46d22e3\",\"type\":\"GlyphRenderer\"},{\"attributes\":{\"callback\":null,\"column_names\":[\"x\",\"y\",\"width\",\"height\",\"color\",\"fill_alpha\",\"line_color\",\"line_alpha\",\"label\"],\"data\":{\"chart_index\":[\"(2773.620690, 3116.448276]\"],\"color\":[\"#f22c40\"],\"fill_alpha\":[0.8],\"height\":[74.0],\"label\":[\"(2773.620690, 3116.448276]\"],\"line_alpha\":[1.0],\"line_color\":[\"black\"],\"width\":[342.82758620689674],\"x\":[\"2945.0344830000004\"],\"y\":[37.0]}},\"id\":\"5a06265b-8bac-47ce-95b4-3522bb38b0f7\",\"type\":\"ColumnDataSource\"},{\"attributes\":{\"fill_alpha\":{\"field\":\"fill_alpha\"},\"fill_color\":{\"field\":\"color\"},\"height\":{\"field\":\"height\",\"units\":\"data\"},\"line_color\":{\"field\":\"line_color\"},\"width\":{\"field\":\"width\",\"units\":\"data\"},\"x\":{\"field\":\"x\"},\"y\":{\"field\":\"y\"}},\"id\":\"b12ea0c3-667c-4f39-b002-0dc5b8388ace\",\"type\":\"Rect\"},{\"attributes\":{\"callback\":null,\"column_names\":[\"x\",\"y\",\"width\",\"height\",\"color\",\"fill_alpha\",\"line_color\",\"line_alpha\",\"label\"],\"data\":{\"chart_index\":[\"(9630.172414, 9973.000000]\"],\"color\":[\"#f22c40\"],\"fill_alpha\":[0.8],\"height\":[10.0],\"label\":[\"(9630.172414, 9973.000000]\"],\"line_alpha\":[1.0],\"line_color\":[\"black\"],\"width\":[342.82758620689674],\"x\":[\"9801.586207\"],\"y\":[5.0]}},\"id\":\"5a4d0703-ed73-495a-89a7-3028c514e1bf\",\"type\":\"ColumnDataSource\"},{\"attributes\":{\"data_source\":{\"id\":\"75dd7c04-134a-4aba-9751-307f6f869fcc\",\"type\":\"ColumnDataSource\"},\"glyph\":{\"id\":\"b12ea0c3-667c-4f39-b002-0dc5b8388ace\",\"type\":\"Rect\"},\"hover_glyph\":null,\"nonselection_glyph\":null,\"selection_glyph\":null},\"id\":\"23cc3a56-a74d-41f2-902f-0ac22df270b2\",\"type\":\"GlyphRenderer\"},{\"attributes\":{\"callback\":null,\"column_names\":[\"x\",\"y\",\"width\",\"height\",\"color\",\"fill_alpha\",\"line_color\",\"line_alpha\",\"label\"],\"data\":{\"chart_index\":[\"(3116.448276, 3459.275862]\"],\"color\":[\"#f22c40\"],\"fill_alpha\":[0.8],\"height\":[41.0],\"label\":[\"(3116.448276, 3459.275862]\"],\"line_alpha\":[1.0],\"line_color\":[\"black\"],\"width\":[342.8275862068963],\"x\":[\"3287.862069\"],\"y\":[20.5]}},\"id\":\"a6050c45-b158-46e3-b7df-82f5c4623ec3\",\"type\":\"ColumnDataSource\"},{\"attributes\":{\"fill_alpha\":{\"field\":\"fill_alpha\"},\"fill_color\":{\"field\":\"color\"},\"height\":{\"field\":\"height\",\"units\":\"data\"},\"line_color\":{\"field\":\"line_color\"},\"width\":{\"field\":\"width\",\"units\":\"data\"},\"x\":{\"field\":\"x\"},\"y\":{\"field\":\"y\"}},\"id\":\"65d127c8-f21b-47e8-8e9c-d206af9bdf32\",\"type\":\"Rect\"},{\"attributes\":{\"fill_alpha\":{\"field\":\"fill_alpha\"},\"fill_color\":{\"field\":\"color\"},\"height\":{\"field\":\"height\",\"units\":\"data\"},\"line_color\":{\"field\":\"line_color\"},\"width\":{\"field\":\"width\",\"units\":\"data\"},\"x\":{\"field\":\"x\"},\"y\":{\"field\":\"y\"}},\"id\":\"c31966ea-bc18-4712-900f-9b6beeaaeff4\",\"type\":\"Rect\"},{\"attributes\":{\"data_source\":{\"id\":\"5a06265b-8bac-47ce-95b4-3522bb38b0f7\",\"type\":\"ColumnDataSource\"},\"glyph\":{\"id\":\"65d127c8-f21b-47e8-8e9c-d206af9bdf32\",\"type\":\"Rect\"},\"hover_glyph\":null,\"nonselection_glyph\":null,\"selection_glyph\":null},\"id\":\"a86716a0-b284-406c-a996-d4c239478da4\",\"type\":\"GlyphRenderer\"},{\"attributes\":{\"callback\":null,\"column_names\":[\"x\",\"y\",\"width\",\"height\",\"color\",\"fill_alpha\",\"line_color\",\"line_alpha\",\"label\"],\"data\":{\"chart_index\":[\"(3459.275862, 3802.103448]\"],\"color\":[\"#f22c40\"],\"fill_alpha\":[0.8],\"height\":[44.0],\"label\":[\"(3459.275862, 3802.103448]\"],\"line_alpha\":[1.0],\"line_color\":[\"black\"],\"width\":[342.82758620689674],\"x\":[\"3630.689655\"],\"y\":[22.0]}},\"id\":\"b58837f4-7e2c-42f5-bdd7-c6ad33478abc\",\"type\":\"ColumnDataSource\"},{\"attributes\":{\"fill_alpha\":{\"field\":\"fill_alpha\"},\"fill_color\":{\"field\":\"color\"},\"height\":{\"field\":\"height\",\"units\":\"data\"},\"line_color\":{\"field\":\"line_color\"},\"width\":{\"field\":\"width\",\"units\":\"data\"},\"x\":{\"field\":\"x\"},\"y\":{\"field\":\"y\"}},\"id\":\"1d6157af-6378-42ca-b35f-afe536fcb470\",\"type\":\"Rect\"},{\"attributes\":{\"data_source\":{\"id\":\"a6050c45-b158-46e3-b7df-82f5c4623ec3\",\"type\":\"ColumnDataSource\"},\"glyph\":{\"id\":\"1d6157af-6378-42ca-b35f-afe536fcb470\",\"type\":\"Rect\"},\"hover_glyph\":null,\"nonselection_glyph\":null,\"selection_glyph\":null},\"id\":\"403b2dd0-a8b0-4aed-a088-0eb59d83b8f3\",\"type\":\"GlyphRenderer\"},{\"attributes\":{\"callback\":null,\"column_names\":[\"x\",\"y\",\"width\",\"height\",\"color\",\"fill_alpha\",\"line_color\",\"line_alpha\",\"label\"],\"data\":{\"chart_index\":[\"(3802.103448, 4144.931034]\"],\"color\":[\"#f22c40\"],\"fill_alpha\":[0.8],\"height\":[38.0],\"label\":[\"(3802.103448, 4144.931034]\"],\"line_alpha\":[1.0],\"line_color\":[\"black\"],\"width\":[342.82758620689674],\"x\":[\"3973.517241\"],\"y\":[19.0]}},\"id\":\"481f46a0-bf22-4de9-b88a-f689422995e0\",\"type\":\"ColumnDataSource\"},{\"attributes\":{\"fill_alpha\":{\"field\":\"fill_alpha\"},\"fill_color\":{\"field\":\"color\"},\"height\":{\"field\":\"height\",\"units\":\"data\"},\"line_color\":{\"field\":\"line_color\"},\"width\":{\"field\":\"width\",\"units\":\"data\"},\"x\":{\"field\":\"x\"},\"y\":{\"field\":\"y\"}},\"id\":\"5eefda54-1329-4041-aca9-cc9a8eba3136\",\"type\":\"Rect\"},{\"attributes\":{\"data_source\":{\"id\":\"481f46a0-bf22-4de9-b88a-f689422995e0\",\"type\":\"ColumnDataSource\"},\"glyph\":{\"id\":\"5f9bd56a-cd6a-4946-be29-18b49df5f197\",\"type\":\"Rect\"},\"hover_glyph\":null,\"nonselection_glyph\":null,\"selection_glyph\":null},\"id\":\"82b6b0e5-00b7-45e3-b1a2-6ed3d9ea7033\",\"type\":\"GlyphRenderer\"},{\"attributes\":{\"data_source\":{\"id\":\"b58837f4-7e2c-42f5-bdd7-c6ad33478abc\",\"type\":\"ColumnDataSource\"},\"glyph\":{\"id\":\"5eefda54-1329-4041-aca9-cc9a8eba3136\",\"type\":\"Rect\"},\"hover_glyph\":null,\"nonselection_glyph\":null,\"selection_glyph\":null},\"id\":\"fc25bbb8-5ece-4a43-ab89-b041f4d0a87b\",\"type\":\"GlyphRenderer\"},{\"attributes\":{\"callback\":null,\"column_names\":[\"x\",\"y\",\"width\",\"height\",\"color\",\"fill_alpha\",\"line_color\",\"line_alpha\",\"label\"],\"data\":{\"chart_index\":[\"(4144.931034, 4487.758621]\"],\"color\":[\"#f22c40\"],\"fill_alpha\":[0.8],\"height\":[44.0],\"label\":[\"(4144.931034, 4487.758621]\"],\"line_alpha\":[1.0],\"line_color\":[\"black\"],\"width\":[342.82758620689674],\"x\":[\"4316.3448275\"],\"y\":[22.0]}},\"id\":\"4e5e1f52-1a3d-4c17-b8b2-925f2f07ace8\",\"type\":\"ColumnDataSource\"},{\"attributes\":{\"fill_alpha\":{\"field\":\"fill_alpha\"},\"fill_color\":{\"field\":\"color\"},\"height\":{\"field\":\"height\",\"units\":\"data\"},\"line_color\":{\"field\":\"line_color\"},\"width\":{\"field\":\"width\",\"units\":\"data\"},\"x\":{\"field\":\"x\"},\"y\":{\"field\":\"y\"}},\"id\":\"5f9bd56a-cd6a-4946-be29-18b49df5f197\",\"type\":\"Rect\"},{\"attributes\":{\"callback\":null,\"column_names\":[\"x\",\"y\",\"width\",\"height\",\"color\",\"fill_alpha\",\"line_color\",\"line_alpha\",\"label\"],\"data\":{\"chart_index\":[\"(6544.724138, 6887.551724]\"],\"color\":[\"#f22c40\"],\"fill_alpha\":[0.8],\"height\":[30.0],\"label\":[\"(6544.724138, 6887.551724]\"],\"line_alpha\":[1.0],\"line_color\":[\"black\"],\"width\":[342.82758620689674],\"x\":[\"6716.137930999999\"],\"y\":[15.0]}},\"id\":\"a78c8e1d-7b75-4f09-8ab4-fa95a6977fe2\",\"type\":\"ColumnDataSource\"},{\"attributes\":{\"data_source\":{\"id\":\"a78c8e1d-7b75-4f09-8ab4-fa95a6977fe2\",\"type\":\"ColumnDataSource\"},\"glyph\":{\"id\":\"c0a307bc-640f-46bf-8995-9d515c13f4f1\",\"type\":\"Rect\"},\"hover_glyph\":null,\"nonselection_glyph\":null,\"selection_glyph\":null},\"id\":\"8b71a4dd-7047-4eaa-aa24-eebb10bef9dd\",\"type\":\"GlyphRenderer\"},{\"attributes\":{\"callback\":null,\"column_names\":[\"x\",\"y\",\"width\",\"height\",\"color\",\"fill_alpha\",\"line_color\",\"line_alpha\",\"label\"],\"data\":{\"chart_index\":[\"(4830.586207, 5173.413793]\"],\"color\":[\"#f22c40\"],\"fill_alpha\":[0.8],\"height\":[30.0],\"label\":[\"(4830.586207, 5173.413793]\"],\"line_alpha\":[1.0],\"line_color\":[\"black\"],\"width\":[342.82758620689674],\"x\":[\"5002.0\"],\"y\":[15.0]}},\"id\":\"846eba09-7579-4e51-9e8f-633f68c3e3f5\",\"type\":\"ColumnDataSource\"},{\"attributes\":{\"callback\":null,\"column_names\":[\"x\",\"y\",\"width\",\"height\",\"color\",\"fill_alpha\",\"line_color\",\"line_alpha\",\"label\"],\"data\":{\"chart_index\":[\"(5173.413793, 5516.241379]\"],\"color\":[\"#f22c40\"],\"fill_alpha\":[0.8],\"height\":[37.0],\"label\":[\"(5173.413793, 5516.241379]\"],\"line_alpha\":[1.0],\"line_color\":[\"black\"],\"width\":[342.82758620689674],\"x\":[\"5344.827585999999\"],\"y\":[18.5]}},\"id\":\"e974ca26-6211-4a55-9138-c72c21ad92d6\",\"type\":\"ColumnDataSource\"},{\"attributes\":{\"callback\":null,\"column_names\":[\"x\",\"y\",\"width\",\"height\",\"color\",\"fill_alpha\",\"line_color\",\"line_alpha\",\"label\"],\"data\":{\"chart_index\":[\"(7230.379310, 7573.206897]\"],\"color\":[\"#f22c40\"],\"fill_alpha\":[0.8],\"height\":[7.0],\"label\":[\"(7230.379310, 7573.206897]\"],\"line_alpha\":[1.0],\"line_color\":[\"black\"],\"width\":[342.82758620689674],\"x\":[\"7401.7931035\"],\"y\":[3.5]}},\"id\":\"bea6f75f-9423-41b4-8b21-c19ff28e73af\",\"type\":\"ColumnDataSource\"},{\"attributes\":{\"fill_alpha\":{\"field\":\"fill_alpha\"},\"fill_color\":{\"field\":\"color\"},\"height\":{\"field\":\"height\",\"units\":\"data\"},\"line_color\":{\"field\":\"line_color\"},\"width\":{\"field\":\"width\",\"units\":\"data\"},\"x\":{\"field\":\"x\"},\"y\":{\"field\":\"y\"}},\"id\":\"bf60ed42-981b-4229-baa2-f5700d6edbe3\",\"type\":\"Rect\"},{\"attributes\":{\"data_source\":{\"id\":\"846eba09-7579-4e51-9e8f-633f68c3e3f5\",\"type\":\"ColumnDataSource\"},\"glyph\":{\"id\":\"bf60ed42-981b-4229-baa2-f5700d6edbe3\",\"type\":\"Rect\"},\"hover_glyph\":null,\"nonselection_glyph\":null,\"selection_glyph\":null},\"id\":\"eddb5318-b7a5-4e1a-8a0a-0d8086dba51c\",\"type\":\"GlyphRenderer\"},{\"attributes\":{\"callback\":null,\"column_names\":[\"x\",\"y\",\"width\",\"height\",\"color\",\"fill_alpha\",\"line_color\",\"line_alpha\",\"label\"],\"data\":{\"chart_index\":[\"(5516.241379, 5859.068966]\"],\"color\":[\"#f22c40\"],\"fill_alpha\":[0.8],\"height\":[22.0],\"label\":[\"(5516.241379, 5859.068966]\"],\"line_alpha\":[1.0],\"line_color\":[\"black\"],\"width\":[342.82758620689674],\"x\":[\"5687.6551725\"],\"y\":[11.0]}},\"id\":\"3f97440e-df4a-4fe0-a167-692840d0626d\",\"type\":\"ColumnDataSource\"},{\"attributes\":{\"fill_alpha\":{\"field\":\"fill_alpha\"},\"fill_color\":{\"field\":\"color\"},\"height\":{\"field\":\"height\",\"units\":\"data\"},\"line_color\":{\"field\":\"line_color\"},\"width\":{\"field\":\"width\",\"units\":\"data\"},\"x\":{\"field\":\"x\"},\"y\":{\"field\":\"y\"}},\"id\":\"e2b0f4d4-33a6-4abf-85f1-dc8f1249f478\",\"type\":\"Rect\"},{\"attributes\":{\"callback\":null,\"column_names\":[\"x\",\"y\",\"width\",\"height\",\"color\",\"fill_alpha\",\"line_color\",\"line_alpha\",\"label\"],\"data\":{\"chart_index\":[\"(7573.206897, 7916.034483]\"],\"color\":[\"#f22c40\"],\"fill_alpha\":[0.8],\"height\":[17.0],\"label\":[\"(7573.206897, 7916.034483]\"],\"line_alpha\":[1.0],\"line_color\":[\"black\"],\"width\":[342.82758620689674],\"x\":[\"7744.62069\"],\"y\":[8.5]}},\"id\":\"ebc6a97f-ee8d-4a39-9a82-1eceae399e8f\",\"type\":\"ColumnDataSource\"},{\"attributes\":{\"data_source\":{\"id\":\"5c4b2f94-90b1-4f63-b0f6-63e769287eba\",\"type\":\"ColumnDataSource\"},\"glyph\":{\"id\":\"71b437a6-d122-49fc-9e0c-84bc52dc0152\",\"type\":\"Rect\"},\"hover_glyph\":null,\"nonselection_glyph\":null,\"selection_glyph\":null},\"id\":\"9e9bfaf4-cf64-4e00-abbe-11dc831681b4\",\"type\":\"GlyphRenderer\"},{\"attributes\":{\"data_source\":{\"id\":\"e974ca26-6211-4a55-9138-c72c21ad92d6\",\"type\":\"ColumnDataSource\"},\"glyph\":{\"id\":\"e2b0f4d4-33a6-4abf-85f1-dc8f1249f478\",\"type\":\"Rect\"},\"hover_glyph\":null,\"nonselection_glyph\":null,\"selection_glyph\":null},\"id\":\"7f5100d2-cb83-4d11-8b45-fefe7a685bea\",\"type\":\"GlyphRenderer\"},{\"attributes\":{\"callback\":null,\"column_names\":[\"x\",\"y\",\"width\",\"height\",\"color\",\"fill_alpha\",\"line_color\",\"line_alpha\",\"label\"],\"data\":{\"chart_index\":[\"(5859.068966, 6201.896552]\"],\"color\":[\"#f22c40\"],\"fill_alpha\":[0.8],\"height\":[20.0],\"label\":[\"(5859.068966, 6201.896552]\"],\"line_alpha\":[1.0],\"line_color\":[\"black\"],\"width\":[342.82758620689674],\"x\":[\"6030.482759\"],\"y\":[10.0]}},\"id\":\"144b22a3-ac36-462c-81f4-491a312a5b43\",\"type\":\"ColumnDataSource\"},{\"attributes\":{\"fill_alpha\":{\"field\":\"fill_alpha\"},\"fill_color\":{\"field\":\"color\"},\"height\":{\"field\":\"height\",\"units\":\"data\"},\"line_color\":{\"field\":\"line_color\"},\"width\":{\"field\":\"width\",\"units\":\"data\"},\"x\":{\"field\":\"x\"},\"y\":{\"field\":\"y\"}},\"id\":\"aa49a5af-6d11-4bf6-a76f-c4b1016cba28\",\"type\":\"Rect\"},{\"attributes\":{\"data_source\":{\"id\":\"3f97440e-df4a-4fe0-a167-692840d0626d\",\"type\":\"ColumnDataSource\"},\"glyph\":{\"id\":\"aa49a5af-6d11-4bf6-a76f-c4b1016cba28\",\"type\":\"Rect\"},\"hover_glyph\":null,\"nonselection_glyph\":null,\"selection_glyph\":null},\"id\":\"55b41e36-6ec1-4df2-80a1-814fbd1afa2b\",\"type\":\"GlyphRenderer\"},{\"attributes\":{\"callback\":null,\"column_names\":[\"x\",\"y\",\"width\",\"height\",\"color\",\"fill_alpha\",\"line_color\",\"line_alpha\",\"label\"],\"data\":{\"chart_index\":[\"(6201.896552, 6544.724138]\"],\"color\":[\"#f22c40\"],\"fill_alpha\":[0.8],\"height\":[28.0],\"label\":[\"(6201.896552, 6544.724138]\"],\"line_alpha\":[1.0],\"line_color\":[\"black\"],\"width\":[342.82758620689583],\"x\":[\"6373.310345\"],\"y\":[14.0]}},\"id\":\"d5fc67c2-13ae-440c-b372-198fdc019496\",\"type\":\"ColumnDataSource\"},{\"attributes\":{\"data_source\":{\"id\":\"da88a4dd-f06c-4a62-bdd3-55f8e802d5e9\",\"type\":\"ColumnDataSource\"},\"glyph\":{\"id\":\"b6bd4271-8021-4414-a16a-209f8b957736\",\"type\":\"Rect\"},\"hover_glyph\":null,\"nonselection_glyph\":null,\"selection_glyph\":null},\"id\":\"34d2daed-d973-4b1f-93e2-13ce857cfc99\",\"type\":\"GlyphRenderer\"},{\"attributes\":{\"callback\":null,\"end\":324.5},\"id\":\"0438cb72-0f85-4f8e-a5b3-ac30a6ecb408\",\"type\":\"Range1d\"},{\"attributes\":{\"fill_alpha\":{\"field\":\"fill_alpha\"},\"fill_color\":{\"field\":\"color\"},\"height\":{\"field\":\"height\",\"units\":\"data\"},\"line_color\":{\"field\":\"line_color\"},\"width\":{\"field\":\"width\",\"units\":\"data\"},\"x\":{\"field\":\"x\"},\"y\":{\"field\":\"y\"}},\"id\":\"6e462026-c215-40fe-a5d4-ec7b32b429ec\",\"type\":\"Rect\"},{\"attributes\":{\"fill_alpha\":{\"field\":\"fill_alpha\"},\"fill_color\":{\"field\":\"color\"},\"height\":{\"field\":\"height\",\"units\":\"data\"},\"line_color\":{\"field\":\"line_color\"},\"width\":{\"field\":\"width\",\"units\":\"data\"},\"x\":{\"field\":\"x\"},\"y\":{\"field\":\"y\"}},\"id\":\"71b437a6-d122-49fc-9e0c-84bc52dc0152\",\"type\":\"Rect\"},{\"attributes\":{\"data_source\":{\"id\":\"144b22a3-ac36-462c-81f4-491a312a5b43\",\"type\":\"ColumnDataSource\"},\"glyph\":{\"id\":\"6e462026-c215-40fe-a5d4-ec7b32b429ec\",\"type\":\"Rect\"},\"hover_glyph\":null,\"nonselection_glyph\":null,\"selection_glyph\":null},\"id\":\"0a0ea523-1728-4301-8ad4-07ce8aa283ee\",\"type\":\"GlyphRenderer\"},{\"attributes\":{\"callback\":null,\"column_names\":[\"x\",\"y\",\"width\",\"height\",\"color\",\"fill_alpha\",\"line_color\",\"line_alpha\",\"label\"],\"data\":{\"chart_index\":[\"(6887.551724, 7230.379310]\"],\"color\":[\"#f22c40\"],\"fill_alpha\":[0.8],\"height\":[23.0],\"label\":[\"(6887.551724, 7230.379310]\"],\"line_alpha\":[1.0],\"line_color\":[\"black\"],\"width\":[342.82758620689674],\"x\":[\"7058.965517000001\"],\"y\":[11.5]}},\"id\":\"5c4b2f94-90b1-4f63-b0f6-63e769287eba\",\"type\":\"ColumnDataSource\"},{\"attributes\":{\"callback\":null,\"end\":10223.10000010345,\"start\":-219.10000010344834},\"id\":\"364443d2-c567-4151-b777-e0d36c7ab662\",\"type\":\"Range1d\"},{\"attributes\":{\"fill_alpha\":{\"field\":\"fill_alpha\"},\"fill_color\":{\"field\":\"color\"},\"height\":{\"field\":\"height\",\"units\":\"data\"},\"line_color\":{\"field\":\"line_color\"},\"width\":{\"field\":\"width\",\"units\":\"data\"},\"x\":{\"field\":\"x\"},\"y\":{\"field\":\"y\"}},\"id\":\"002ab46b-3d4f-4103-9234-688f6b1c10a5\",\"type\":\"Rect\"},{\"attributes\":{\"data_source\":{\"id\":\"d5fc67c2-13ae-440c-b372-198fdc019496\",\"type\":\"ColumnDataSource\"},\"glyph\":{\"id\":\"002ab46b-3d4f-4103-9234-688f6b1c10a5\",\"type\":\"Rect\"},\"hover_glyph\":null,\"nonselection_glyph\":null,\"selection_glyph\":null},\"id\":\"9410d0b4-2acd-4a55-9ed2-87dfcbebfeab\",\"type\":\"GlyphRenderer\"},{\"attributes\":{\"data_source\":{\"id\":\"04dbe245-19d8-4526-bad6-128ad0dd96fd\",\"type\":\"ColumnDataSource\"},\"glyph\":{\"id\":\"8693b0b6-3e62-4817-8de2-76cf848f5fb8\",\"type\":\"Rect\"},\"hover_glyph\":null,\"nonselection_glyph\":null,\"selection_glyph\":null},\"id\":\"4d788550-bc73-424d-bf2f-0b59132f4943\",\"type\":\"GlyphRenderer\"},{\"attributes\":{\"fill_alpha\":{\"field\":\"fill_alpha\"},\"fill_color\":{\"field\":\"color\"},\"height\":{\"field\":\"height\",\"units\":\"data\"},\"line_color\":{\"field\":\"line_color\"},\"width\":{\"field\":\"width\",\"units\":\"data\"},\"x\":{\"field\":\"x\"},\"y\":{\"field\":\"y\"}},\"id\":\"c971b285-9b13-4186-a013-62f32dbd3baa\",\"type\":\"Rect\"},{\"attributes\":{\"callback\":null,\"column_names\":[\"x\",\"y\",\"width\",\"height\",\"color\",\"fill_alpha\",\"line_color\",\"line_alpha\",\"label\"],\"data\":{\"chart_index\":[\"[31.000000, 373.827586]\"],\"color\":[\"#f22c40\"],\"fill_alpha\":[0.8],\"height\":[21.0],\"label\":[\"[31.000000, 373.827586]\"],\"line_alpha\":[1.0],\"line_color\":[\"black\"],\"width\":[342.82758620689657],\"x\":[\"202.413793\"],\"y\":[10.5]}},\"id\":\"e8571b6f-62e4-4a7b-ae3c-9c951f595c10\",\"type\":\"ColumnDataSource\"},{\"attributes\":{\"fill_alpha\":{\"field\":\"fill_alpha\"},\"fill_color\":{\"field\":\"color\"},\"height\":{\"field\":\"height\",\"units\":\"data\"},\"line_color\":{\"field\":\"line_color\"},\"width\":{\"field\":\"width\",\"units\":\"data\"},\"x\":{\"field\":\"x\"},\"y\":{\"field\":\"y\"}},\"id\":\"9e645add-0cdb-4eeb-904a-afc9c6821f97\",\"type\":\"Rect\"},{\"attributes\":{\"data_source\":{\"id\":\"bea6f75f-9423-41b4-8b21-c19ff28e73af\",\"type\":\"ColumnDataSource\"},\"glyph\":{\"id\":\"9e645add-0cdb-4eeb-904a-afc9c6821f97\",\"type\":\"Rect\"},\"hover_glyph\":null,\"nonselection_glyph\":null,\"selection_glyph\":null},\"id\":\"bc29af74-0b95-4226-85d0-0b4f3f222af9\",\"type\":\"GlyphRenderer\"},{\"attributes\":{\"callback\":null,\"column_names\":[\"x\",\"y\",\"width\",\"height\",\"color\",\"fill_alpha\",\"line_color\",\"line_alpha\",\"label\"],\"data\":{\"chart_index\":[\"(7916.034483, 8258.862069]\"],\"color\":[\"#f22c40\"],\"fill_alpha\":[0.8],\"height\":[8.0],\"label\":[\"(7916.034483, 8258.862069]\"],\"line_alpha\":[1.0],\"line_color\":[\"black\"],\"width\":[342.82758620689674],\"x\":[\"8087.448276000001\"],\"y\":[4.0]}},\"id\":\"f857d59d-2474-414d-b38b-03693ac907a7\",\"type\":\"ColumnDataSource\"},{\"attributes\":{\"callback\":null,\"column_names\":[\"x\",\"y\",\"width\",\"height\",\"color\",\"fill_alpha\",\"line_color\",\"line_alpha\",\"label\"],\"data\":{\"chart_index\":[\"(373.827586, 716.655172]\"],\"color\":[\"#f22c40\"],\"fill_alpha\":[0.8],\"height\":[119.0],\"label\":[\"(373.827586, 716.655172]\"],\"line_alpha\":[1.0],\"line_color\":[\"black\"],\"width\":[342.82758620689657],\"x\":[\"545.241379\"],\"y\":[59.5]}},\"id\":\"da88a4dd-f06c-4a62-bdd3-55f8e802d5e9\",\"type\":\"ColumnDataSource\"},{\"attributes\":{\"below\":[{\"id\":\"6503c0a8-fdf8-4ac0-a270-1d46067dfa13\",\"type\":\"LinearAxis\"}],\"css_classes\":null,\"height\":300,\"left\":[{\"id\":\"16b39045-1a6a-4013-ab80-29bc9c35b353\",\"type\":\"LinearAxis\"}],\"renderers\":[{\"id\":\"627f517c-aa9a-46c6-8870-e82251b56568\",\"type\":\"BoxAnnotation\"},{\"id\":\"82cc9d8e-b2ab-4e5d-9d5a-9d7b4375d49e\",\"type\":\"GlyphRenderer\"},{\"id\":\"34d2daed-d973-4b1f-93e2-13ce857cfc99\",\"type\":\"GlyphRenderer\"},{\"id\":\"6eb56929-0f5f-434e-ab8c-6660356592fa\",\"type\":\"GlyphRenderer\"},{\"id\":\"8cbb7130-6d3d-43aa-8fea-94d42d802531\",\"type\":\"GlyphRenderer\"},{\"id\":\"eabbfa78-6fe0-421d-94bd-3838a1c886a1\",\"type\":\"GlyphRenderer\"},{\"id\":\"e52d6782-3231-47f6-9501-e8194be0555e\",\"type\":\"GlyphRenderer\"},{\"id\":\"34c2b865-4932-4b43-a255-1effa46d22e3\",\"type\":\"GlyphRenderer\"},{\"id\":\"23cc3a56-a74d-41f2-902f-0ac22df270b2\",\"type\":\"GlyphRenderer\"},{\"id\":\"a86716a0-b284-406c-a996-d4c239478da4\",\"type\":\"GlyphRenderer\"},{\"id\":\"403b2dd0-a8b0-4aed-a088-0eb59d83b8f3\",\"type\":\"GlyphRenderer\"},{\"id\":\"fc25bbb8-5ece-4a43-ab89-b041f4d0a87b\",\"type\":\"GlyphRenderer\"},{\"id\":\"82b6b0e5-00b7-45e3-b1a2-6ed3d9ea7033\",\"type\":\"GlyphRenderer\"},{\"id\":\"1c121ae4-e6ae-426e-9320-82b10cc70443\",\"type\":\"GlyphRenderer\"},{\"id\":\"2398a7a6-4830-4483-aa9b-7b4d819d15a6\",\"type\":\"GlyphRenderer\"},{\"id\":\"eddb5318-b7a5-4e1a-8a0a-0d8086dba51c\",\"type\":\"GlyphRenderer\"},{\"id\":\"7f5100d2-cb83-4d11-8b45-fefe7a685bea\",\"type\":\"GlyphRenderer\"},{\"id\":\"55b41e36-6ec1-4df2-80a1-814fbd1afa2b\",\"type\":\"GlyphRenderer\"},{\"id\":\"0a0ea523-1728-4301-8ad4-07ce8aa283ee\",\"type\":\"GlyphRenderer\"},{\"id\":\"9410d0b4-2acd-4a55-9ed2-87dfcbebfeab\",\"type\":\"GlyphRenderer\"},{\"id\":\"8b71a4dd-7047-4eaa-aa24-eebb10bef9dd\",\"type\":\"GlyphRenderer\"},{\"id\":\"9e9bfaf4-cf64-4e00-abbe-11dc831681b4\",\"type\":\"GlyphRenderer\"},{\"id\":\"bc29af74-0b95-4226-85d0-0b4f3f222af9\",\"type\":\"GlyphRenderer\"},{\"id\":\"e0838884-f4b7-4429-9d35-e8a3d393edfc\",\"type\":\"GlyphRenderer\"},{\"id\":\"2d1fb99e-5121-4a0b-98bf-339289ae835a\",\"type\":\"GlyphRenderer\"},{\"id\":\"bc9596be-1b88-4789-8bff-5496a3f96aef\",\"type\":\"GlyphRenderer\"},{\"id\":\"f0a6d09e-a5c8-41e0-bec6-853b2b1852be\",\"type\":\"GlyphRenderer\"},{\"id\":\"1405d1df-8d6d-4a55-a259-c150288b397c\",\"type\":\"GlyphRenderer\"},{\"id\":\"4d788550-bc73-424d-bf2f-0b59132f4943\",\"type\":\"GlyphRenderer\"},{\"id\":\"5c360cbf-3aea-4495-a102-d35d2626cabe\",\"type\":\"GlyphRenderer\"},{\"id\":\"6503c0a8-fdf8-4ac0-a270-1d46067dfa13\",\"type\":\"LinearAxis\"},{\"id\":\"16b39045-1a6a-4013-ab80-29bc9c35b353\",\"type\":\"LinearAxis\"},{\"id\":\"57cb6873-13a4-4766-b8b8-363ef8b30fd1\",\"type\":\"Grid\"}],\"title\":{\"id\":\"217e1c9c-62eb-481c-b597-85972b560bda\",\"type\":\"Title\"},\"tool_events\":{\"id\":\"b373894a-2166-4d68-97a5-06250a7312ff\",\"type\":\"ToolEvents\"},\"toolbar\":{\"id\":\"ae630c63-5107-41c3-aee1-b2ded07b28c7\",\"type\":\"Toolbar\"},\"width\":500,\"x_mapper_type\":\"auto\",\"x_range\":{\"id\":\"364443d2-c567-4151-b777-e0d36c7ab662\",\"type\":\"Range1d\"},\"y_mapper_type\":\"auto\",\"y_range\":{\"id\":\"0438cb72-0f85-4f8e-a5b3-ac30a6ecb408\",\"type\":\"Range1d\"}},\"id\":\"868f4733-cf09-44a3-b47b-3d5ced1e0bab\",\"subtype\":\"Chart\",\"type\":\"Plot\"},{\"attributes\":{\"fill_alpha\":{\"field\":\"fill_alpha\"},\"fill_color\":{\"field\":\"color\"},\"height\":{\"field\":\"height\",\"units\":\"data\"},\"line_color\":{\"field\":\"line_color\"},\"width\":{\"field\":\"width\",\"units\":\"data\"},\"x\":{\"field\":\"x\"},\"y\":{\"field\":\"y\"}},\"id\":\"11722de2-50a0-4e76-add2-902e173da036\",\"type\":\"Rect\"},{\"attributes\":{\"fill_alpha\":{\"field\":\"fill_alpha\"},\"fill_color\":{\"field\":\"color\"},\"height\":{\"field\":\"height\",\"units\":\"data\"},\"line_color\":{\"field\":\"line_color\"},\"width\":{\"field\":\"width\",\"units\":\"data\"},\"x\":{\"field\":\"x\"},\"y\":{\"field\":\"y\"}},\"id\":\"bfa42130-f462-471e-bd56-d1d1353a74fc\",\"type\":\"Rect\"},{\"attributes\":{\"callback\":null,\"column_names\":[\"x\",\"y\",\"width\",\"height\",\"color\",\"fill_alpha\",\"line_color\",\"line_alpha\",\"label\"],\"data\":{\"chart_index\":[\"(9287.344828, 9630.172414]\"],\"color\":[\"#f22c40\"],\"fill_alpha\":[0.8],\"height\":[11.0],\"label\":[\"(9287.344828, 9630.172414]\"],\"line_alpha\":[1.0],\"line_color\":[\"black\"],\"width\":[342.82758620689674],\"x\":[\"9458.758621\"],\"y\":[5.5]}},\"id\":\"04dbe245-19d8-4526-bad6-128ad0dd96fd\",\"type\":\"ColumnDataSource\"},{\"attributes\":{\"data_source\":{\"id\":\"ebc6a97f-ee8d-4a39-9a82-1eceae399e8f\",\"type\":\"ColumnDataSource\"},\"glyph\":{\"id\":\"bfa42130-f462-471e-bd56-d1d1353a74fc\",\"type\":\"Rect\"},\"hover_glyph\":null,\"nonselection_glyph\":null,\"selection_glyph\":null},\"id\":\"e0838884-f4b7-4429-9d35-e8a3d393edfc\",\"type\":\"GlyphRenderer\"},{\"attributes\":{\"fill_alpha\":{\"field\":\"fill_alpha\"},\"fill_color\":{\"field\":\"color\"},\"height\":{\"field\":\"height\",\"units\":\"data\"},\"line_color\":{\"field\":\"line_color\"},\"width\":{\"field\":\"width\",\"units\":\"data\"},\"x\":{\"field\":\"x\"},\"y\":{\"field\":\"y\"}},\"id\":\"9b681265-63a7-4e8d-a001-9ee505a1c494\",\"type\":\"Rect\"},{\"attributes\":{\"fill_alpha\":{\"field\":\"fill_alpha\"},\"fill_color\":{\"field\":\"color\"},\"height\":{\"field\":\"height\",\"units\":\"data\"},\"line_color\":{\"field\":\"line_color\"},\"width\":{\"field\":\"width\",\"units\":\"data\"},\"x\":{\"field\":\"x\"},\"y\":{\"field\":\"y\"}},\"id\":\"095b4a0e-d4d4-4a32-9f6c-bf0ffebc59f7\",\"type\":\"Rect\"},{\"attributes\":{\"data_source\":{\"id\":\"8de53f01-2663-4d80-b516-2df4cf53e5a8\",\"type\":\"ColumnDataSource\"},\"glyph\":{\"id\":\"11722de2-50a0-4e76-add2-902e173da036\",\"type\":\"Rect\"},\"hover_glyph\":null,\"nonselection_glyph\":null,\"selection_glyph\":null},\"id\":\"8cbb7130-6d3d-43aa-8fea-94d42d802531\",\"type\":\"GlyphRenderer\"},{\"attributes\":{\"data_source\":{\"id\":\"c53a683f-8f70-458e-b1dc-0eae7b1d1ef4\",\"type\":\"ColumnDataSource\"},\"glyph\":{\"id\":\"de0bb810-b04f-4685-94b9-04e3365a9900\",\"type\":\"Rect\"},\"hover_glyph\":null,\"nonselection_glyph\":null,\"selection_glyph\":null},\"id\":\"2398a7a6-4830-4483-aa9b-7b4d819d15a6\",\"type\":\"GlyphRenderer\"},{\"attributes\":{\"data_source\":{\"id\":\"e8571b6f-62e4-4a7b-ae3c-9c951f595c10\",\"type\":\"ColumnDataSource\"},\"glyph\":{\"id\":\"9b681265-63a7-4e8d-a001-9ee505a1c494\",\"type\":\"Rect\"},\"hover_glyph\":null,\"nonselection_glyph\":null,\"selection_glyph\":null},\"id\":\"82cc9d8e-b2ab-4e5d-9d5a-9d7b4375d49e\",\"type\":\"GlyphRenderer\"},{\"attributes\":{\"fill_alpha\":{\"field\":\"fill_alpha\"},\"fill_color\":{\"field\":\"color\"},\"height\":{\"field\":\"height\",\"units\":\"data\"},\"line_color\":{\"field\":\"line_color\"},\"width\":{\"field\":\"width\",\"units\":\"data\"},\"x\":{\"field\":\"x\"},\"y\":{\"field\":\"y\"}},\"id\":\"8693b0b6-3e62-4817-8de2-76cf848f5fb8\",\"type\":\"Rect\"},{\"attributes\":{\"fill_alpha\":{\"field\":\"fill_alpha\"},\"fill_color\":{\"field\":\"color\"},\"height\":{\"field\":\"height\",\"units\":\"data\"},\"line_color\":{\"field\":\"line_color\"},\"width\":{\"field\":\"width\",\"units\":\"data\"},\"x\":{\"field\":\"x\"},\"y\":{\"field\":\"y\"}},\"id\":\"1a019be6-d497-444f-82ad-c38b4e748659\",\"type\":\"Rect\"},{\"attributes\":{\"fill_alpha\":{\"field\":\"fill_alpha\"},\"fill_color\":{\"field\":\"color\"},\"height\":{\"field\":\"height\",\"units\":\"data\"},\"line_color\":{\"field\":\"line_color\"},\"width\":{\"field\":\"width\",\"units\":\"data\"},\"x\":{\"field\":\"x\"},\"y\":{\"field\":\"y\"}},\"id\":\"79efc365-37f2-4fea-b252-d72644fe5db4\",\"type\":\"Rect\"},{\"attributes\":{\"data_source\":{\"id\":\"f857d59d-2474-414d-b38b-03693ac907a7\",\"type\":\"ColumnDataSource\"},\"glyph\":{\"id\":\"1a019be6-d497-444f-82ad-c38b4e748659\",\"type\":\"Rect\"},\"hover_glyph\":null,\"nonselection_glyph\":null,\"selection_glyph\":null},\"id\":\"2d1fb99e-5121-4a0b-98bf-339289ae835a\",\"type\":\"GlyphRenderer\"},{\"attributes\":{\"callback\":null,\"column_names\":[\"x\",\"y\",\"width\",\"height\",\"color\",\"fill_alpha\",\"line_color\",\"line_alpha\",\"label\"],\"data\":{\"chart_index\":[\"(1059.482759, 1402.310345]\"],\"color\":[\"#f22c40\"],\"fill_alpha\":[0.8],\"height\":[295.0],\"label\":[\"(1059.482759, 1402.310345]\"],\"line_alpha\":[1.0],\"line_color\":[\"black\"],\"width\":[342.8275862068965],\"x\":[\"1230.8965520000002\"],\"y\":[147.5]}},\"id\":\"8de53f01-2663-4d80-b516-2df4cf53e5a8\",\"type\":\"ColumnDataSource\"},{\"attributes\":{\"callback\":null,\"column_names\":[\"x\",\"y\",\"width\",\"height\",\"color\",\"fill_alpha\",\"line_color\",\"line_alpha\",\"label\"],\"data\":{\"chart_index\":[\"(8258.862069, 8601.689655]\"],\"color\":[\"#f22c40\"],\"fill_alpha\":[0.8],\"height\":[7.0],\"label\":[\"(8258.862069, 8601.689655]\"],\"line_alpha\":[1.0],\"line_color\":[\"black\"],\"width\":[342.82758620689674],\"x\":[\"8430.275862\"],\"y\":[3.5]}},\"id\":\"7cbb4edb-0200-4ba9-ace5-f22af11aece2\",\"type\":\"ColumnDataSource\"},{\"attributes\":{\"overlay\":{\"id\":\"627f517c-aa9a-46c6-8870-e82251b56568\",\"type\":\"BoxAnnotation\"},\"plot\":{\"id\":\"868f4733-cf09-44a3-b47b-3d5ced1e0bab\",\"subtype\":\"Chart\",\"type\":\"Plot\"}},\"id\":\"8dc0cb3e-49e3-405b-b619-9c30d646d142\",\"type\":\"BoxZoomTool\"},{\"attributes\":{\"fill_alpha\":{\"field\":\"fill_alpha\"},\"fill_color\":{\"field\":\"color\"},\"height\":{\"field\":\"height\",\"units\":\"data\"},\"line_color\":{\"field\":\"line_color\"},\"width\":{\"field\":\"width\",\"units\":\"data\"},\"x\":{\"field\":\"x\"},\"y\":{\"field\":\"y\"}},\"id\":\"b6bd4271-8021-4414-a16a-209f8b957736\",\"type\":\"Rect\"},{\"attributes\":{\"plot\":{\"id\":\"868f4733-cf09-44a3-b47b-3d5ced1e0bab\",\"subtype\":\"Chart\",\"type\":\"Plot\"}},\"id\":\"2204fc16-b7e3-4464-9266-4c89f5dd3f73\",\"type\":\"WheelZoomTool\"},{\"attributes\":{\"plot\":null,\"text\":null},\"id\":\"217e1c9c-62eb-481c-b597-85972b560bda\",\"type\":\"Title\"},{\"attributes\":{\"active_drag\":\"auto\",\"active_scroll\":\"auto\",\"active_tap\":\"auto\",\"tools\":[{\"id\":\"c1fe0f46-416a-4685-942a-9ac6644fd922\",\"type\":\"PanTool\"},{\"id\":\"2204fc16-b7e3-4464-9266-4c89f5dd3f73\",\"type\":\"WheelZoomTool\"},{\"id\":\"8dc0cb3e-49e3-405b-b619-9c30d646d142\",\"type\":\"BoxZoomTool\"},{\"id\":\"722ad575-7333-4675-980d-d5f720193199\",\"type\":\"SaveTool\"},{\"id\":\"94487673-677f-4e8c-8fc8-2d05bfd8323a\",\"type\":\"ResetTool\"},{\"id\":\"76ce23c8-7efe-48f0-a2b9-efa6c2d78c36\",\"type\":\"HelpTool\"}]},\"id\":\"ae630c63-5107-41c3-aee1-b2ded07b28c7\",\"type\":\"Toolbar\"}],\"root_ids\":[\"868f4733-cf09-44a3-b47b-3d5ced1e0bab\"]},\"title\":\"Bokeh Application\",\"version\":\"0.12.4\"}};\n",
       "            var render_items = [{\"docid\":\"c4d3c201-2bf4-4570-bcf9-054fdcb12ca8\",\"elementid\":\"272322d7-ce0d-4919-9f99-d186ae3de790\",\"modelid\":\"868f4733-cf09-44a3-b47b-3d5ced1e0bab\"}];\n",
       "            \n",
       "            Bokeh.embed.embed_items(docs_json, render_items);\n",
       "          };\n",
       "          if (document.readyState != \"loading\") fn();\n",
       "          else document.addEventListener(\"DOMContentLoaded\", fn);\n",
       "        })();\n",
       "      },\n",
       "      function(Bokeh) {\n",
       "      }\n",
       "    ];\n",
       "  \n",
       "    function run_inline_js() {\n",
       "      \n",
       "      if ((window.Bokeh !== undefined) || (force === true)) {\n",
       "        for (var i = 0; i < inline_js.length; i++) {\n",
       "          inline_js[i](window.Bokeh);\n",
       "        }if (force === true) {\n",
       "          display_loaded();\n",
       "        }} else if (Date.now() < window._bokeh_timeout) {\n",
       "        setTimeout(run_inline_js, 100);\n",
       "      } else if (!window._bokeh_failed_load) {\n",
       "        console.log(\"Bokeh: BokehJS failed to load within specified timeout.\");\n",
       "        window._bokeh_failed_load = true;\n",
       "      } else if (force !== true) {\n",
       "        var cell = $(document.getElementById(\"272322d7-ce0d-4919-9f99-d186ae3de790\")).parents('.cell').data().cell;\n",
       "        cell.output_area.append_execute_result(NB_LOAD_WARNING)\n",
       "      }\n",
       "  \n",
       "    }\n",
       "  \n",
       "    if (window._bokeh_is_loading === 0) {\n",
       "      console.log(\"Bokeh: BokehJS loaded, going straight to plotting\");\n",
       "      run_inline_js();\n",
       "    } else {\n",
       "      load_libs(js_urls, function() {\n",
       "        console.log(\"Bokeh: BokehJS plotting callback run at\", now());\n",
       "        run_inline_js();\n",
       "      });\n",
       "    }\n",
       "  }(this));\n",
       "</script>"
      ]
     },
     "metadata": {},
     "output_type": "display_data"
    }
   ],
   "source": [
    "from bokeh.charts import Histogram\n",
    "hist = Histogram(len_data[len_data < 10000],  width=500, height = 300, legend = False)\n",
    "show(hist)"
   ]
  },
  {
   "cell_type": "markdown",
   "metadata": {
    "deletable": true,
    "editable": true,
    "slideshow": {
     "slide_type": "subslide"
    }
   },
   "source": [
    "## Токенизация\n",
    "\n",
    "Используем регулярные выражения, чтобы разбить тексты на слова"
   ]
  },
  {
   "cell_type": "code",
   "execution_count": 9,
   "metadata": {
    "collapsed": false,
    "deletable": true,
    "editable": true,
    "slideshow": {
     "slide_type": "fragment"
    }
   },
   "outputs": [
    {
     "data": {
      "text/plain": [
       "'в петербурге прошел митинг против передачи исаакиевского собора рпц в санкт петербурге люди устроили акцию протеста против передачи исаакиевского собора в безвозмездное пользование рпц жители петербурга собрались на исаакиевской площади чтобы высказаться против передачи исаакиевского собора в безвозмездное пользование рпц передает тасс акция проходит в формате встречи с депутатами законодательного собрания города и не требует согласования с властями участники акции не используют какую либо символику и плакаты а также мегафоны или средства звукоусиления по словам депутата алексея ковалева на исаакиевскую площадь пришло примерно тысяча человек перед участниками протеста выступили депутаты местного парламента борис вишневский и максим резник которые заявили о том что потребуют отмены решения смольного вишневский сообщил что акция будет проходить в виде встречи депутатов с избирателями закон санкт петербурга предоставляет нам право встречаться с избирателями такую встречу мы и проведем расскажем как защищаем их интересы при передаче собора сказал парламентарий в свою очередь директор музея исаакиевский собор николай буров проинформировал что собор в пятницу будет закрыт намного раньше в связи с акцией протеста он подчеркнул что необходимо избежать стычек между сторонниками передачи собора и ее противниками ранее стало известно что собор передадут в безвозмездное пользование на лет русской православной церкви в лице московского патриархата при этом он останется в собственности петербурга тем временем в петербурге продолжается сбор подписей под петицией об отмене данного решения под документом уже поставили подписи более тысяч человек комментарии другие интересные статьи'"
      ]
     },
     "execution_count": 9,
     "metadata": {},
     "output_type": "execute_result"
    }
   ],
   "source": [
    "import re\n",
    "regex = re.compile(\"[А-Яа-я]+\")\n",
    "\n",
    "def words_only(text, regex=regex):\n",
    "    return \" \".join(regex.findall(text))\n",
    "\n",
    "\n",
    "df.text = df.text.str.lower()\n",
    "df.text = df.text.apply(words_only)\n",
    "\n",
    "df.text.iloc[0]"
   ]
  },
  {
   "cell_type": "code",
   "execution_count": null,
   "metadata": {
    "collapsed": true
   },
   "outputs": [],
   "source": []
  },
  {
   "cell_type": "markdown",
   "metadata": {
    "deletable": true,
    "editable": true,
    "slideshow": {
     "slide_type": "subslide"
    }
   },
   "source": [
    "### Самые частые слова"
   ]
  },
  {
   "cell_type": "code",
   "execution_count": 10,
   "metadata": {
    "collapsed": false,
    "deletable": true,
    "editable": true,
    "slideshow": {
     "slide_type": "fragment"
    }
   },
   "outputs": [
    {
     "name": "stdout",
     "output_type": "stream",
     "text": [
      "('в', 43571)\n",
      "('и', 25182)\n",
      "('на', 19120)\n",
      "('что', 13617)\n",
      "('не', 11953)\n",
      "('с', 10868)\n",
      "('по', 9080)\n",
      "('о', 5035)\n",
      "('это', 4955)\n",
      "('он', 4761)\n"
     ]
    }
   ],
   "source": [
    "from nltk import FreqDist\n",
    "n_types = []\n",
    "n_tokens = []\n",
    "tokens = []\n",
    "fd = FreqDist()\n",
    "for index, row in df.iterrows():\n",
    "    tokens = row['text'].split()\n",
    "    fd.update(tokens)\n",
    "    n_types.append(len(fd))\n",
    "    n_tokens.append(sum(fd.values()))\n",
    "for i in fd.most_common(10):\n",
    "    print(i)"
   ]
  },
  {
   "cell_type": "markdown",
   "metadata": {
    "deletable": true,
    "editable": true,
    "slideshow": {
     "slide_type": "subslide"
    }
   },
   "source": [
    "### Закон Ципфа"
   ]
  },
  {
   "cell_type": "code",
   "execution_count": 11,
   "metadata": {
    "collapsed": false,
    "deletable": true,
    "editable": true,
    "slideshow": {
     "slide_type": "fragment"
    }
   },
   "outputs": [
    {
     "data": {
      "text/html": [
       "\n",
       "\n",
       "    <div class=\"bk-root\">\n",
       "        <div class=\"bk-plotdiv\" id=\"1168e7ee-e396-4e75-b0e2-77f5aa77b99d\"></div>\n",
       "    </div>\n",
       "<script type=\"text/javascript\">\n",
       "  \n",
       "  (function(global) {\n",
       "    function now() {\n",
       "      return new Date();\n",
       "    }\n",
       "  \n",
       "    var force = false;\n",
       "  \n",
       "    if (typeof (window._bokeh_onload_callbacks) === \"undefined\" || force === true) {\n",
       "      window._bokeh_onload_callbacks = [];\n",
       "      window._bokeh_is_loading = undefined;\n",
       "    }\n",
       "  \n",
       "  \n",
       "    \n",
       "    if (typeof (window._bokeh_timeout) === \"undefined\" || force === true) {\n",
       "      window._bokeh_timeout = Date.now() + 0;\n",
       "      window._bokeh_failed_load = false;\n",
       "    }\n",
       "  \n",
       "    var NB_LOAD_WARNING = {'data': {'text/html':\n",
       "       \"<div style='background-color: #fdd'>\\n\"+\n",
       "       \"<p>\\n\"+\n",
       "       \"BokehJS does not appear to have successfully loaded. If loading BokehJS from CDN, this \\n\"+\n",
       "       \"may be due to a slow or bad network connection. Possible fixes:\\n\"+\n",
       "       \"</p>\\n\"+\n",
       "       \"<ul>\\n\"+\n",
       "       \"<li>re-rerun `output_notebook()` to attempt to load from CDN again, or</li>\\n\"+\n",
       "       \"<li>use INLINE resources instead, as so:</li>\\n\"+\n",
       "       \"</ul>\\n\"+\n",
       "       \"<code>\\n\"+\n",
       "       \"from bokeh.resources import INLINE\\n\"+\n",
       "       \"output_notebook(resources=INLINE)\\n\"+\n",
       "       \"</code>\\n\"+\n",
       "       \"</div>\"}};\n",
       "  \n",
       "    function display_loaded() {\n",
       "      if (window.Bokeh !== undefined) {\n",
       "        document.getElementById(\"1168e7ee-e396-4e75-b0e2-77f5aa77b99d\").textContent = \"BokehJS successfully loaded.\";\n",
       "      } else if (Date.now() < window._bokeh_timeout) {\n",
       "        setTimeout(display_loaded, 100)\n",
       "      }\n",
       "    }\n",
       "  \n",
       "    function run_callbacks() {\n",
       "      window._bokeh_onload_callbacks.forEach(function(callback) { callback() });\n",
       "      delete window._bokeh_onload_callbacks\n",
       "      console.info(\"Bokeh: all callbacks have finished\");\n",
       "    }\n",
       "  \n",
       "    function load_libs(js_urls, callback) {\n",
       "      window._bokeh_onload_callbacks.push(callback);\n",
       "      if (window._bokeh_is_loading > 0) {\n",
       "        console.log(\"Bokeh: BokehJS is being loaded, scheduling callback at\", now());\n",
       "        return null;\n",
       "      }\n",
       "      if (js_urls == null || js_urls.length === 0) {\n",
       "        run_callbacks();\n",
       "        return null;\n",
       "      }\n",
       "      console.log(\"Bokeh: BokehJS not loaded, scheduling load and callback at\", now());\n",
       "      window._bokeh_is_loading = js_urls.length;\n",
       "      for (var i = 0; i < js_urls.length; i++) {\n",
       "        var url = js_urls[i];\n",
       "        var s = document.createElement('script');\n",
       "        s.src = url;\n",
       "        s.async = false;\n",
       "        s.onreadystatechange = s.onload = function() {\n",
       "          window._bokeh_is_loading--;\n",
       "          if (window._bokeh_is_loading === 0) {\n",
       "            console.log(\"Bokeh: all BokehJS libraries loaded\");\n",
       "            run_callbacks()\n",
       "          }\n",
       "        };\n",
       "        s.onerror = function() {\n",
       "          console.warn(\"failed to load library \" + url);\n",
       "        };\n",
       "        console.log(\"Bokeh: injecting script tag for BokehJS library: \", url);\n",
       "        document.getElementsByTagName(\"head\")[0].appendChild(s);\n",
       "      }\n",
       "    };var element = document.getElementById(\"1168e7ee-e396-4e75-b0e2-77f5aa77b99d\");\n",
       "    if (element == null) {\n",
       "      console.log(\"Bokeh: ERROR: autoload.js configured with elementid '1168e7ee-e396-4e75-b0e2-77f5aa77b99d' but no matching script tag was found. \")\n",
       "      return false;\n",
       "    }\n",
       "  \n",
       "    var js_urls = [];\n",
       "  \n",
       "    var inline_js = [\n",
       "      function(Bokeh) {\n",
       "        (function() {\n",
       "          var fn = function() {\n",
       "            var docs_json = {\"235e12fc-e0dd-4459-b41c-e74a1afb8e14\":{\"roots\":{\"references\":[{\"attributes\":{\"data_source\":{\"id\":\"5fd84b33-c80f-4d81-a0f3-3a89a4268599\",\"type\":\"ColumnDataSource\"},\"glyph\":{\"id\":\"4064707f-c0de-4155-9afd-6374fea81379\",\"type\":\"Line\"},\"hover_glyph\":null,\"nonselection_glyph\":{\"id\":\"97c2c1ea-dfc2-4755-949b-4f098fda2f8e\",\"type\":\"Line\"},\"selection_glyph\":null},\"id\":\"66e96eb4-7c1e-4f1e-9244-eaf85ebf8c30\",\"type\":\"GlyphRenderer\"},{\"attributes\":{},\"id\":\"7a41c641-0e9b-4548-9845-81c83e384671\",\"type\":\"BasicTickFormatter\"},{\"attributes\":{\"bottom_units\":\"screen\",\"fill_alpha\":{\"value\":0.5},\"fill_color\":{\"value\":\"lightgrey\"},\"left_units\":\"screen\",\"level\":\"overlay\",\"line_alpha\":{\"value\":1.0},\"line_color\":{\"value\":\"black\"},\"line_dash\":[4,4],\"line_width\":{\"value\":2},\"plot\":null,\"render_mode\":\"css\",\"right_units\":\"screen\",\"top_units\":\"screen\"},\"id\":\"a44440ac-61ac-4aa8-866f-e3d9d33b8565\",\"type\":\"BoxAnnotation\"},{\"attributes\":{\"plot\":{\"id\":\"b8e60f16-b3a2-426f-9597-b5f76dffc586\",\"subtype\":\"Figure\",\"type\":\"Plot\"}},\"id\":\"2a99c455-5377-4af6-b296-38c26ec89e3e\",\"type\":\"PanTool\"},{\"attributes\":{\"plot\":{\"id\":\"b8e60f16-b3a2-426f-9597-b5f76dffc586\",\"subtype\":\"Figure\",\"type\":\"Plot\"}},\"id\":\"b0583a62-db07-4563-b169-c86622f1dd80\",\"type\":\"WheelZoomTool\"},{\"attributes\":{\"overlay\":{\"id\":\"a44440ac-61ac-4aa8-866f-e3d9d33b8565\",\"type\":\"BoxAnnotation\"},\"plot\":{\"id\":\"b8e60f16-b3a2-426f-9597-b5f76dffc586\",\"subtype\":\"Figure\",\"type\":\"Plot\"}},\"id\":\"21c63594-7def-4373-af52-ec9c0ccb9f79\",\"type\":\"BoxZoomTool\"},{\"attributes\":{\"plot\":{\"id\":\"b8e60f16-b3a2-426f-9597-b5f76dffc586\",\"subtype\":\"Figure\",\"type\":\"Plot\"}},\"id\":\"45bfe977-9330-450a-bde4-9ed41ed60463\",\"type\":\"SaveTool\"},{\"attributes\":{\"plot\":{\"id\":\"b8e60f16-b3a2-426f-9597-b5f76dffc586\",\"subtype\":\"Figure\",\"type\":\"Plot\"}},\"id\":\"31b699a1-cdb7-4b57-aea8-f52598506758\",\"type\":\"ResetTool\"},{\"attributes\":{\"line_color\":{\"value\":\"#1f77b4\"},\"x\":{\"field\":\"x\"},\"y\":{\"field\":\"y\"}},\"id\":\"4064707f-c0de-4155-9afd-6374fea81379\",\"type\":\"Line\"},{\"attributes\":{\"plot\":{\"id\":\"b8e60f16-b3a2-426f-9597-b5f76dffc586\",\"subtype\":\"Figure\",\"type\":\"Plot\"}},\"id\":\"204b7b0d-7d18-4102-9c75-e2c1fa3e370f\",\"type\":\"HelpTool\"},{\"attributes\":{\"below\":[{\"id\":\"027f6a12-7f88-4a92-93a1-d024e33fb3bf\",\"type\":\"LinearAxis\"}],\"left\":[{\"id\":\"b13d1bbe-6895-4b6c-b75d-a65f02e28ad8\",\"type\":\"LinearAxis\"}],\"plot_height\":200,\"plot_width\":400,\"renderers\":[{\"id\":\"027f6a12-7f88-4a92-93a1-d024e33fb3bf\",\"type\":\"LinearAxis\"},{\"id\":\"5a51c892-95f1-4f12-9b4b-d9f213ca1a04\",\"type\":\"Grid\"},{\"id\":\"b13d1bbe-6895-4b6c-b75d-a65f02e28ad8\",\"type\":\"LinearAxis\"},{\"id\":\"f370bd81-568a-4d30-bd66-53c8b3b20517\",\"type\":\"Grid\"},{\"id\":\"a44440ac-61ac-4aa8-866f-e3d9d33b8565\",\"type\":\"BoxAnnotation\"},{\"id\":\"66e96eb4-7c1e-4f1e-9244-eaf85ebf8c30\",\"type\":\"GlyphRenderer\"}],\"title\":{\"id\":\"c97ed9f9-dcde-4141-8034-1fc0be32041c\",\"type\":\"Title\"},\"tool_events\":{\"id\":\"07038216-3401-4646-b4d9-25727f6f4b22\",\"type\":\"ToolEvents\"},\"toolbar\":{\"id\":\"40e7b9aa-159d-49ff-9415-7f85ecd5d734\",\"type\":\"Toolbar\"},\"x_range\":{\"id\":\"c5fdba06-7764-4d34-b503-da070c6dda94\",\"type\":\"DataRange1d\"},\"y_range\":{\"id\":\"54078735-733e-4962-be92-a63903b11fb9\",\"type\":\"DataRange1d\"}},\"id\":\"b8e60f16-b3a2-426f-9597-b5f76dffc586\",\"subtype\":\"Figure\",\"type\":\"Plot\"},{\"attributes\":{\"active_drag\":\"auto\",\"active_scroll\":\"auto\",\"active_tap\":\"auto\",\"tools\":[{\"id\":\"2a99c455-5377-4af6-b296-38c26ec89e3e\",\"type\":\"PanTool\"},{\"id\":\"b0583a62-db07-4563-b169-c86622f1dd80\",\"type\":\"WheelZoomTool\"},{\"id\":\"21c63594-7def-4373-af52-ec9c0ccb9f79\",\"type\":\"BoxZoomTool\"},{\"id\":\"45bfe977-9330-450a-bde4-9ed41ed60463\",\"type\":\"SaveTool\"},{\"id\":\"31b699a1-cdb7-4b57-aea8-f52598506758\",\"type\":\"ResetTool\"},{\"id\":\"204b7b0d-7d18-4102-9c75-e2c1fa3e370f\",\"type\":\"HelpTool\"}]},\"id\":\"40e7b9aa-159d-49ff-9415-7f85ecd5d734\",\"type\":\"Toolbar\"},{\"attributes\":{},\"id\":\"07038216-3401-4646-b4d9-25727f6f4b22\",\"type\":\"ToolEvents\"},{\"attributes\":{\"line_alpha\":{\"value\":0.1},\"line_color\":{\"value\":\"#1f77b4\"},\"x\":{\"field\":\"x\"},\"y\":{\"field\":\"y\"}},\"id\":\"97c2c1ea-dfc2-4755-949b-4f098fda2f8e\",\"type\":\"Line\"},{\"attributes\":{\"callback\":null,\"column_names\":[\"x\",\"y\"],\"data\":{\"x\":[43571,25182,19120,13617,11953,10868,9080,5035,4955,4761,4573,4544,4416,4387,3972,3847,3650,3577,3330,3308,3244,3195,3194,2860,2776,2684,2289,2124,2058,1982,1979,1968,1925,1915,1895,1888,1878,1857,1850,1801,1766,1754,1676,1633,1604,1552,1540,1535,1529,1516,1506,1484,1473,1398,1397,1333,1316,1313,1309,1296,1276,1233,1224,1197,1174,1166,1164,1159,1142,1140,1138,1130,1115,1115,1092,1080,1076,1071,1053,1050,1050,1046,1040,1038,1028,1015,1014,1000,992,989,981,950,950,938,937,935,931,925,914,909,909,908,893,876,867,864,857,855,852,851,846,820,805,800,798,784,782,782,781,779,770,767,764,754,750,745,742,720,719,711,703,702,681,677,674,673,672,669,656,656,656,652,652,647,646,639,639,631,630,607,601,597,595,591,590,586,582,566,566,562,562,561,554,550,549,547,542,541,540,540,538,537,535,530,526,523,517,517,515,513,512,512,510,509,508,507,505,501,499,499,497,490,488,486,485,482,482,479,479,478,476,476,475,475,475,474,473,472,472,472,470,465,464,464,464,463,463,461,461,459,457,454,452,451,448,446,445,444,444,444,443,442,441,441,435,434,431,431,426,426,425,422,420,417,417,417,416,415,414,413,410,410,406,406,405,405,404,400,399,394,392,390,390,389,388,387,386,385,382,380,379,378,377,375,375,374,374,372,372,371,371,371,369,369,367,367,364,364,364,362,361,361,360,360,359,359,358,358,357,356],\"y\":[0,1,2,3,4,5,6,7,8,9,10,11,12,13,14,15,16,17,18,19,20,21,22,23,24,25,26,27,28,29,30,31,32,33,34,35,36,37,38,39,40,41,42,43,44,45,46,47,48,49,50,51,52,53,54,55,56,57,58,59,60,61,62,63,64,65,66,67,68,69,70,71,72,73,74,75,76,77,78,79,80,81,82,83,84,85,86,87,88,89,90,91,92,93,94,95,96,97,98,99,100,101,102,103,104,105,106,107,108,109,110,111,112,113,114,115,116,117,118,119,120,121,122,123,124,125,126,127,128,129,130,131,132,133,134,135,136,137,138,139,140,141,142,143,144,145,146,147,148,149,150,151,152,153,154,155,156,157,158,159,160,161,162,163,164,165,166,167,168,169,170,171,172,173,174,175,176,177,178,179,180,181,182,183,184,185,186,187,188,189,190,191,192,193,194,195,196,197,198,199,200,201,202,203,204,205,206,207,208,209,210,211,212,213,214,215,216,217,218,219,220,221,222,223,224,225,226,227,228,229,230,231,232,233,234,235,236,237,238,239,240,241,242,243,244,245,246,247,248,249,250,251,252,253,254,255,256,257,258,259,260,261,262,263,264,265,266,267,268,269,270,271,272,273,274,275,276,277,278,279,280,281,282,283,284,285,286,287,288,289,290,291,292,293,294,295,296,297,298,299]}},\"id\":\"5fd84b33-c80f-4d81-a0f3-3a89a4268599\",\"type\":\"ColumnDataSource\"},{\"attributes\":{\"callback\":null},\"id\":\"c5fdba06-7764-4d34-b503-da070c6dda94\",\"type\":\"DataRange1d\"},{\"attributes\":{\"callback\":null},\"id\":\"54078735-733e-4962-be92-a63903b11fb9\",\"type\":\"DataRange1d\"},{\"attributes\":{},\"id\":\"bc5db93a-5b47-48bd-99f1-18bca24a3dec\",\"type\":\"BasicTickFormatter\"},{\"attributes\":{\"formatter\":{\"id\":\"7a41c641-0e9b-4548-9845-81c83e384671\",\"type\":\"BasicTickFormatter\"},\"plot\":{\"id\":\"b8e60f16-b3a2-426f-9597-b5f76dffc586\",\"subtype\":\"Figure\",\"type\":\"Plot\"},\"ticker\":{\"id\":\"32858fdb-4fb9-4bd5-a9a3-00d3ab3e6dc2\",\"type\":\"BasicTicker\"}},\"id\":\"027f6a12-7f88-4a92-93a1-d024e33fb3bf\",\"type\":\"LinearAxis\"},{\"attributes\":{},\"id\":\"32858fdb-4fb9-4bd5-a9a3-00d3ab3e6dc2\",\"type\":\"BasicTicker\"},{\"attributes\":{\"plot\":{\"id\":\"b8e60f16-b3a2-426f-9597-b5f76dffc586\",\"subtype\":\"Figure\",\"type\":\"Plot\"},\"ticker\":{\"id\":\"32858fdb-4fb9-4bd5-a9a3-00d3ab3e6dc2\",\"type\":\"BasicTicker\"}},\"id\":\"5a51c892-95f1-4f12-9b4b-d9f213ca1a04\",\"type\":\"Grid\"},{\"attributes\":{\"formatter\":{\"id\":\"bc5db93a-5b47-48bd-99f1-18bca24a3dec\",\"type\":\"BasicTickFormatter\"},\"plot\":{\"id\":\"b8e60f16-b3a2-426f-9597-b5f76dffc586\",\"subtype\":\"Figure\",\"type\":\"Plot\"},\"ticker\":{\"id\":\"cc118f50-5651-4b62-8af6-091f6ecc2c8d\",\"type\":\"BasicTicker\"}},\"id\":\"b13d1bbe-6895-4b6c-b75d-a65f02e28ad8\",\"type\":\"LinearAxis\"},{\"attributes\":{\"plot\":null,\"text\":\"\"},\"id\":\"c97ed9f9-dcde-4141-8034-1fc0be32041c\",\"type\":\"Title\"},{\"attributes\":{},\"id\":\"cc118f50-5651-4b62-8af6-091f6ecc2c8d\",\"type\":\"BasicTicker\"},{\"attributes\":{\"dimension\":1,\"plot\":{\"id\":\"b8e60f16-b3a2-426f-9597-b5f76dffc586\",\"subtype\":\"Figure\",\"type\":\"Plot\"},\"ticker\":{\"id\":\"cc118f50-5651-4b62-8af6-091f6ecc2c8d\",\"type\":\"BasicTicker\"}},\"id\":\"f370bd81-568a-4d30-bd66-53c8b3b20517\",\"type\":\"Grid\"}],\"root_ids\":[\"b8e60f16-b3a2-426f-9597-b5f76dffc586\"]},\"title\":\"Bokeh Application\",\"version\":\"0.12.4\"}};\n",
       "            var render_items = [{\"docid\":\"235e12fc-e0dd-4459-b41c-e74a1afb8e14\",\"elementid\":\"1168e7ee-e396-4e75-b0e2-77f5aa77b99d\",\"modelid\":\"b8e60f16-b3a2-426f-9597-b5f76dffc586\"}];\n",
       "            \n",
       "            Bokeh.embed.embed_items(docs_json, render_items);\n",
       "          };\n",
       "          if (document.readyState != \"loading\") fn();\n",
       "          else document.addEventListener(\"DOMContentLoaded\", fn);\n",
       "        })();\n",
       "      },\n",
       "      function(Bokeh) {\n",
       "      }\n",
       "    ];\n",
       "  \n",
       "    function run_inline_js() {\n",
       "      \n",
       "      if ((window.Bokeh !== undefined) || (force === true)) {\n",
       "        for (var i = 0; i < inline_js.length; i++) {\n",
       "          inline_js[i](window.Bokeh);\n",
       "        }if (force === true) {\n",
       "          display_loaded();\n",
       "        }} else if (Date.now() < window._bokeh_timeout) {\n",
       "        setTimeout(run_inline_js, 100);\n",
       "      } else if (!window._bokeh_failed_load) {\n",
       "        console.log(\"Bokeh: BokehJS failed to load within specified timeout.\");\n",
       "        window._bokeh_failed_load = true;\n",
       "      } else if (force !== true) {\n",
       "        var cell = $(document.getElementById(\"1168e7ee-e396-4e75-b0e2-77f5aa77b99d\")).parents('.cell').data().cell;\n",
       "        cell.output_area.append_execute_result(NB_LOAD_WARNING)\n",
       "      }\n",
       "  \n",
       "    }\n",
       "  \n",
       "    if (window._bokeh_is_loading === 0) {\n",
       "      console.log(\"Bokeh: BokehJS loaded, going straight to plotting\");\n",
       "      run_inline_js();\n",
       "    } else {\n",
       "      load_libs(js_urls, function() {\n",
       "        console.log(\"Bokeh: BokehJS plotting callback run at\", now());\n",
       "        run_inline_js();\n",
       "      });\n",
       "    }\n",
       "  }(this));\n",
       "</script>"
      ]
     },
     "metadata": {},
     "output_type": "display_data"
    }
   ],
   "source": [
    "from bokeh.plotting import figure\n",
    "freqs = list(fd.values())\n",
    "freqs = sorted(freqs, reverse = True)\n",
    "\n",
    "\n",
    "p = figure(plot_width=400, plot_height=200)\n",
    "\n",
    "p.line(freqs[:300], range(300))\n",
    "show(p) "
   ]
  },
  {
   "cell_type": "markdown",
   "metadata": {
    "deletable": true,
    "editable": true,
    "slideshow": {
     "slide_type": "subslide"
    }
   },
   "source": [
    "### Закон Хипса"
   ]
  },
  {
   "cell_type": "code",
   "execution_count": 12,
   "metadata": {
    "collapsed": false,
    "deletable": true,
    "editable": true,
    "slideshow": {
     "slide_type": "fragment"
    }
   },
   "outputs": [
    {
     "data": {
      "text/html": [
       "\n",
       "\n",
       "    <div class=\"bk-root\">\n",
       "        <div class=\"bk-plotdiv\" id=\"df80edd6-dc52-43a0-a80d-1d5e19082763\"></div>\n",
       "    </div>\n",
       "<script type=\"text/javascript\">\n",
       "  \n",
       "  (function(global) {\n",
       "    function now() {\n",
       "      return new Date();\n",
       "    }\n",
       "  \n",
       "    var force = false;\n",
       "  \n",
       "    if (typeof (window._bokeh_onload_callbacks) === \"undefined\" || force === true) {\n",
       "      window._bokeh_onload_callbacks = [];\n",
       "      window._bokeh_is_loading = undefined;\n",
       "    }\n",
       "  \n",
       "  \n",
       "    \n",
       "    if (typeof (window._bokeh_timeout) === \"undefined\" || force === true) {\n",
       "      window._bokeh_timeout = Date.now() + 0;\n",
       "      window._bokeh_failed_load = false;\n",
       "    }\n",
       "  \n",
       "    var NB_LOAD_WARNING = {'data': {'text/html':\n",
       "       \"<div style='background-color: #fdd'>\\n\"+\n",
       "       \"<p>\\n\"+\n",
       "       \"BokehJS does not appear to have successfully loaded. If loading BokehJS from CDN, this \\n\"+\n",
       "       \"may be due to a slow or bad network connection. Possible fixes:\\n\"+\n",
       "       \"</p>\\n\"+\n",
       "       \"<ul>\\n\"+\n",
       "       \"<li>re-rerun `output_notebook()` to attempt to load from CDN again, or</li>\\n\"+\n",
       "       \"<li>use INLINE resources instead, as so:</li>\\n\"+\n",
       "       \"</ul>\\n\"+\n",
       "       \"<code>\\n\"+\n",
       "       \"from bokeh.resources import INLINE\\n\"+\n",
       "       \"output_notebook(resources=INLINE)\\n\"+\n",
       "       \"</code>\\n\"+\n",
       "       \"</div>\"}};\n",
       "  \n",
       "    function display_loaded() {\n",
       "      if (window.Bokeh !== undefined) {\n",
       "        document.getElementById(\"df80edd6-dc52-43a0-a80d-1d5e19082763\").textContent = \"BokehJS successfully loaded.\";\n",
       "      } else if (Date.now() < window._bokeh_timeout) {\n",
       "        setTimeout(display_loaded, 100)\n",
       "      }\n",
       "    }\n",
       "  \n",
       "    function run_callbacks() {\n",
       "      window._bokeh_onload_callbacks.forEach(function(callback) { callback() });\n",
       "      delete window._bokeh_onload_callbacks\n",
       "      console.info(\"Bokeh: all callbacks have finished\");\n",
       "    }\n",
       "  \n",
       "    function load_libs(js_urls, callback) {\n",
       "      window._bokeh_onload_callbacks.push(callback);\n",
       "      if (window._bokeh_is_loading > 0) {\n",
       "        console.log(\"Bokeh: BokehJS is being loaded, scheduling callback at\", now());\n",
       "        return null;\n",
       "      }\n",
       "      if (js_urls == null || js_urls.length === 0) {\n",
       "        run_callbacks();\n",
       "        return null;\n",
       "      }\n",
       "      console.log(\"Bokeh: BokehJS not loaded, scheduling load and callback at\", now());\n",
       "      window._bokeh_is_loading = js_urls.length;\n",
       "      for (var i = 0; i < js_urls.length; i++) {\n",
       "        var url = js_urls[i];\n",
       "        var s = document.createElement('script');\n",
       "        s.src = url;\n",
       "        s.async = false;\n",
       "        s.onreadystatechange = s.onload = function() {\n",
       "          window._bokeh_is_loading--;\n",
       "          if (window._bokeh_is_loading === 0) {\n",
       "            console.log(\"Bokeh: all BokehJS libraries loaded\");\n",
       "            run_callbacks()\n",
       "          }\n",
       "        };\n",
       "        s.onerror = function() {\n",
       "          console.warn(\"failed to load library \" + url);\n",
       "        };\n",
       "        console.log(\"Bokeh: injecting script tag for BokehJS library: \", url);\n",
       "        document.getElementsByTagName(\"head\")[0].appendChild(s);\n",
       "      }\n",
       "    };var element = document.getElementById(\"df80edd6-dc52-43a0-a80d-1d5e19082763\");\n",
       "    if (element == null) {\n",
       "      console.log(\"Bokeh: ERROR: autoload.js configured with elementid 'df80edd6-dc52-43a0-a80d-1d5e19082763' but no matching script tag was found. \")\n",
       "      return false;\n",
       "    }\n",
       "  \n",
       "    var js_urls = [];\n",
       "  \n",
       "    var inline_js = [\n",
       "      function(Bokeh) {\n",
       "        (function() {\n",
       "          var fn = function() {\n",
       "            var docs_json = {\"5e6d5029-fb32-4308-9124-26ccbe50e9e3\":{\"roots\":{\"references\":[{\"attributes\":{\"below\":[{\"id\":\"526d8c2a-a6d6-4337-a7a6-b3b4bf54c740\",\"type\":\"LinearAxis\"}],\"left\":[{\"id\":\"e812f132-55d6-46ae-9f53-d5e36b12dcf6\",\"type\":\"LinearAxis\"}],\"plot_height\":200,\"plot_width\":700,\"renderers\":[{\"id\":\"526d8c2a-a6d6-4337-a7a6-b3b4bf54c740\",\"type\":\"LinearAxis\"},{\"id\":\"775d3f79-ee1e-4c07-a319-1655c6a2e9f7\",\"type\":\"Grid\"},{\"id\":\"e812f132-55d6-46ae-9f53-d5e36b12dcf6\",\"type\":\"LinearAxis\"},{\"id\":\"9a697873-1c6f-443c-8ed9-28fddafb7474\",\"type\":\"Grid\"},{\"id\":\"f8dce5f8-eff7-4a35-9eb3-080be80c3134\",\"type\":\"BoxAnnotation\"},{\"id\":\"fe091d9c-c295-4e15-9629-c254f2498119\",\"type\":\"GlyphRenderer\"}],\"title\":{\"id\":\"a05fb435-92d5-4268-85d6-83b3b220cee4\",\"type\":\"Title\"},\"tool_events\":{\"id\":\"d05ff902-4db8-4bf4-8d48-5feeff18a52b\",\"type\":\"ToolEvents\"},\"toolbar\":{\"id\":\"90e45501-7ccf-4bb1-9b9b-38a657483cd4\",\"type\":\"Toolbar\"},\"x_range\":{\"id\":\"d809ab47-de92-439e-8ca5-491abd375d6b\",\"type\":\"DataRange1d\"},\"y_range\":{\"id\":\"400a6186-26e9-4f73-bd00-d6b7bb4553c0\",\"type\":\"DataRange1d\"}},\"id\":\"cbbd4c7a-a242-48e1-9962-34b7834da1b2\",\"subtype\":\"Figure\",\"type\":\"Plot\"},{\"attributes\":{\"formatter\":{\"id\":\"64a47538-c520-406a-950a-a98a9094fa6f\",\"type\":\"BasicTickFormatter\"},\"plot\":{\"id\":\"cbbd4c7a-a242-48e1-9962-34b7834da1b2\",\"subtype\":\"Figure\",\"type\":\"Plot\"},\"ticker\":{\"id\":\"4a3d6d64-f4e4-4b06-838b-a614cbf37a92\",\"type\":\"BasicTicker\"}},\"id\":\"526d8c2a-a6d6-4337-a7a6-b3b4bf54c740\",\"type\":\"LinearAxis\"},{\"attributes\":{\"data_source\":{\"id\":\"f09abecd-4ef0-4d83-8ec9-b6c0eced0ec8\",\"type\":\"ColumnDataSource\"},\"glyph\":{\"id\":\"470a4990-8e81-40d4-afbf-ae7bc20e1a18\",\"type\":\"Line\"},\"hover_glyph\":null,\"nonselection_glyph\":{\"id\":\"c6eff431-9465-4825-b031-aafc5af4746b\",\"type\":\"Line\"},\"selection_glyph\":null},\"id\":\"fe091d9c-c295-4e15-9629-c254f2498119\",\"type\":\"GlyphRenderer\"},{\"attributes\":{\"dimension\":1,\"plot\":{\"id\":\"cbbd4c7a-a242-48e1-9962-34b7834da1b2\",\"subtype\":\"Figure\",\"type\":\"Plot\"},\"ticker\":{\"id\":\"cb103d25-235e-4ed0-b453-042b4fcd7b47\",\"type\":\"BasicTicker\"}},\"id\":\"9a697873-1c6f-443c-8ed9-28fddafb7474\",\"type\":\"Grid\"},{\"attributes\":{\"callback\":null},\"id\":\"d809ab47-de92-439e-8ca5-491abd375d6b\",\"type\":\"DataRange1d\"},{\"attributes\":{},\"id\":\"d05ff902-4db8-4bf4-8d48-5feeff18a52b\",\"type\":\"ToolEvents\"},{\"attributes\":{\"active_drag\":\"auto\",\"active_scroll\":\"auto\",\"active_tap\":\"auto\",\"tools\":[{\"id\":\"be5381bb-7ff3-4876-b495-52c1a4c09ffa\",\"type\":\"PanTool\"},{\"id\":\"40e767af-0541-43cf-987a-7a342bcee590\",\"type\":\"WheelZoomTool\"},{\"id\":\"bb4c6486-86b7-4f30-bca8-693690582f2b\",\"type\":\"BoxZoomTool\"},{\"id\":\"2a7bb1d4-aa0e-42a8-9e49-e5e1eb084542\",\"type\":\"SaveTool\"},{\"id\":\"8ba661b9-87b9-4d5b-8a09-2a21ee62370e\",\"type\":\"ResetTool\"},{\"id\":\"77c51ca7-4893-4581-b3ff-5337c3c65444\",\"type\":\"HelpTool\"}]},\"id\":\"90e45501-7ccf-4bb1-9b9b-38a657483cd4\",\"type\":\"Toolbar\"},{\"attributes\":{\"callback\":null},\"id\":\"400a6186-26e9-4f73-bd00-d6b7bb4553c0\",\"type\":\"DataRange1d\"},{\"attributes\":{},\"id\":\"4a3d6d64-f4e4-4b06-838b-a614cbf37a92\",\"type\":\"BasicTicker\"},{\"attributes\":{\"formatter\":{\"id\":\"3899cc1a-e55c-49c5-bb0d-7c4d5645772b\",\"type\":\"BasicTickFormatter\"},\"plot\":{\"id\":\"cbbd4c7a-a242-48e1-9962-34b7834da1b2\",\"subtype\":\"Figure\",\"type\":\"Plot\"},\"ticker\":{\"id\":\"cb103d25-235e-4ed0-b453-042b4fcd7b47\",\"type\":\"BasicTicker\"}},\"id\":\"e812f132-55d6-46ae-9f53-d5e36b12dcf6\",\"type\":\"LinearAxis\"},{\"attributes\":{\"line_color\":{\"value\":\"#1f77b4\"},\"x\":{\"field\":\"x\"},\"y\":{\"field\":\"y\"}},\"id\":\"470a4990-8e81-40d4-afbf-ae7bc20e1a18\",\"type\":\"Line\"},{\"attributes\":{\"bottom_units\":\"screen\",\"fill_alpha\":{\"value\":0.5},\"fill_color\":{\"value\":\"lightgrey\"},\"left_units\":\"screen\",\"level\":\"overlay\",\"line_alpha\":{\"value\":1.0},\"line_color\":{\"value\":\"black\"},\"line_dash\":[4,4],\"line_width\":{\"value\":2},\"plot\":null,\"render_mode\":\"css\",\"right_units\":\"screen\",\"top_units\":\"screen\"},\"id\":\"f8dce5f8-eff7-4a35-9eb3-080be80c3134\",\"type\":\"BoxAnnotation\"},{\"attributes\":{},\"id\":\"cb103d25-235e-4ed0-b453-042b4fcd7b47\",\"type\":\"BasicTicker\"},{\"attributes\":{\"line_alpha\":{\"value\":0.1},\"line_color\":{\"value\":\"#1f77b4\"},\"x\":{\"field\":\"x\"},\"y\":{\"field\":\"y\"}},\"id\":\"c6eff431-9465-4825-b031-aafc5af4746b\",\"type\":\"Line\"},{\"attributes\":{\"plot\":{\"id\":\"cbbd4c7a-a242-48e1-9962-34b7834da1b2\",\"subtype\":\"Figure\",\"type\":\"Plot\"},\"ticker\":{\"id\":\"4a3d6d64-f4e4-4b06-838b-a614cbf37a92\",\"type\":\"BasicTicker\"}},\"id\":\"775d3f79-ee1e-4c07-a319-1655c6a2e9f7\",\"type\":\"Grid\"},{\"attributes\":{},\"id\":\"64a47538-c520-406a-950a-a98a9094fa6f\",\"type\":\"BasicTickFormatter\"},{\"attributes\":{\"plot\":null,\"text\":\"\"},\"id\":\"a05fb435-92d5-4268-85d6-83b3b220cee4\",\"type\":\"Title\"},{\"attributes\":{\"callback\":null,\"column_names\":[\"x\",\"y\"],\"data\":{\"x\":[165,570,620,634,693,757,791,1039,1476,1528,1528,1667,1696,1711,1813,1814,1822,1845,1853,1933,1964,1970,1996,1999,2024,2227,2229,2243,2249,2255,2259,2262,2280,2301,2309,2389,2403,2433,2456,2496,2498,2502,2511,2524,2524,2561,2561,2564,2631,2632,2732,2793,3266,3267,3279,3306,3340,3380,3419,3420,3421,3422,3429,3437,3440,3506,3535,3564,3578,3583,3615,3639,3639,3682,3682,3682,3698,3699,3707,3753,3797,3911,3984,4000,4066,4082,4099,4266,4397,4411,4436,4455,4459,4459,4473,4483,4551,4551,4621,4644,4816,4954,4985,5026,5117,5145,5148,5148,5171,5215,5310,5311,5350,5559,5593,6664,6695,6723,6945,6957,6957,6986,7026,7041,7041,7041,7060,7211,7262,7328,7413,7497,7510,7528,7528,7560,7598,7614,9951,10055,10190,10221,10226,10226,10226,10262,10270,10277,10277,10277,10391,10501,10542,10579,10585,10621,10621,10716,10741,10783,10813,10818,10900,10993,11065,11068,11069,11088,11094,11118,11118,11129,11131,11131,11296,11300,11300,11307,11307,11307,11313,11313,11374,11374,11382,11406,11422,11425,11425,11426,11427,11428,11430,11430,11430,11432,11432,11433,11456,11456,11456,11554,11554,11564,11564,11564,11566,11673,11696,11700,11756,11778,11778,11779,11779,11780,11780,11940,11941,11941,11948,11948,11950,11951,11965,11965,11969,11969,11988,11989,11989,11989,11989,12042,12042,12166,12183,12267,12277,12278,12281,12292,14016,14096,14131,14133,14136,14350,14664,14678,15625,15774,15964,15992,16018,16032,16041,16175,16176,16191,16192,16194,16194,16197,16229,16274,16346,16594,16646,16646,16693,16694,16694,16839,16843,16843,16848,16851,16871,16872,16895,16902,16947,16960,16961,16968,16968,16988,16990,16991,16992,16996,17000,17013,17033,17055,17055,17223,17285,17374,17420,17588,17633,17643,17644,17644,17648,17714,17723,17787,17791,17912,17912,17915,17915,17915,17916,17921,18004,18004,18004,18007,18007,18013,18017,18118,18123,18143,18152,18153,18156,18157,18159,18159,18161,18161,18161,18161,18161,18227,18240,18249,18249,18286,18334,18384,18384,18485,18503,18505,18587,18587,18601,18611,18636,18671,18804,18815,18818,18831,18844,18921,18971,18974,18989,18990,19050,19063,19074,19074,19092,19097,19097,19099,19109,19111,19155,19168,19176,19194,19196,19358,19358,19359,19359,19375,19384,19384,19386,19417,19417,19420,19425,19428,19428,19429,19430,19433,19436,19464,19485,19485,19515,19550,19552,19556,19556,19563,19563,19570,19573,19574,19574,19600,19600,19601,19614,19614,19614,19616,19628,19628,19628,19628,19631,19638,19641,19644,19644,19648,19649,19654,19666,19669,19781,19808,19813,19814,19821,19824,19872,19872,19872,19900,19941,19967,20113,20132,20132,20132,20132,20132,20132,20154,20165,20165,20278,20278,20310,20310,20324,20325,20370,20472,20472,20474,20474,20665,20683,20683,20684,20744,20744,20782,20791,20791,20791,20791,20943,20962,20993,21126,21143,21174,21174,21174,21176,21272,21272,21299,21333,21394,21394,21421,21441,21456,21480,21489,21596,21622,21634,21694,21695,21700,21705,21710,21734,21734,21738,21743,21753,21779,21784,21784,21784,21784,21806,21812,21812,21855,21864,21865,21865,21868,21873,21874,21874,21875,21875,21879,21880,21886,21886,21933,21940,21940,21940,21940,21982,21982,21982,21989,21989,22244,22264,22266,22266,22266,22269,22466,22571,22665,22692,22911,22977,23049,23049,23052,23434,23651,23978,23990,24023,24044,24222,24234,24360,24506,24521,24540,24661,24671,24697,24717,24727,24737,24779,24793,24814,25063,25064,25066,25079,25096,25096,25106,25107,25143,25273,25273,25276,25359,25359,25370,25382,25392,25409,25432,25461,25475,25532,25536,25542,25864,25871,25874,25879,25880,25893,25923,25926,25937,25945,25952,25953,26003,26009,26010,26019,26045,26110,26139,26142,26240,26241,26247,26257,26262,26272,26284,26284,26291,26299,26541,26554,26571,26573,26601,26601,26601,26601,26601,26602,26602,26605,26606,26618,26618,26635,26665,26668,26668,26719,26739,26739,26739,26739,26740,26782,26812,26840,26875,26875,26875,26924,27013,27034,27050,27054,27060,27060,27073,27095,27110,27120,27129,27209,27213,27221,27227,27228,27241,27245,27269,27275,27298,27305,27312,27321,27326,27327,27340,27349,27356,27362,27363,27370,27370,27778,27972,28019,28030,28080,28340,28341,28494,28510,28530,28530,28530,28537,28580,28781,28790,28790,28796,28796,28986,28999,29005,29167,29170,29172,29303,29315,29316,29363,29367,29372,29452,29456,29464,29501,29501,29509,29511,29515,29528,29540,29755,29766,29768,30191,30206,30215,30229,30291,30299,30316,30316,30316,30316,30318,30320,30407,30407,30407,30408,30413,30413,30417,30417,30433,30434,30474,30487,30547,30620,30626,30626,30660,30660,30660,30709,30714,30714,30732,30744,30745,30747,30774,30776,30783,30791,30799,30808,30808,30808,31263,31311,31311,31311,31315,31722,31722,31726,31727,31736,31842,31885,31888,31959,31959,31959,31985,32144,32144,32145,32145,32150,32150,32151,32152,32152,32152,32164,32181,32181,32189,32192,32198,32199,32200,32219,32245,32267,32277,32340,32422,32440,32499,32516,32546,32696,32784,32800,32968,32980,32994,32994,32994,33014,33058,33131,33158,33261,33261,33265,33395,33399,33399,33399,33426,33430,33430,33493,33493,33495,33518,33550,33552,33560,33575,33576,33707,33707,33708,33708,33708,33726,33748,33749,33806,33830,33835,33835,33835,33843,33845,33848,33848,33848,33849,33849,33849,33867,33868,33868,33869,33948,33949,33985,33986,34103,34103,34103,34103,34104,34104,34104,34104,34105,34142,34163,34163,34165,34165,34165,34166,34194,34194,34194,34199,34214,34376,34380,34380,34381,34383,34383,34397,34397,34412,34426,34426,34457,34457,34538,34541,34548,34548,34679,34706,34779,34873,35010,35031,35118,35135,35152,35205,35239,35263,35401,35529,35637,35653,35845,35925,36004,36004,36004,36016,36029,36047,36066,36096,36223,36228,36229,36254,36257,36270,36276,36284,36372,36372,36557,36595,36600,36751,36756,36890,36940,36947,36957,36972,36975,36978,36982,36995,37000,37018,37020,37028,37033,37040,37072,37078,37260,37274,37279,37292,37394,37413,37436,37439,37446,37471,37505,37521,37626,37628,37704,37713,37761,37766,37777,37797,37800,37802,37802,37834,37840,37845,37856,37856,37865,37866,37868,37871,37901,37989,37992,37994,38092,38115,38243,38246,38334,38344,38402,38460,38539,38540,38549,38554,38570,38583,38584,38589,38594,38607,38607,38759,38794,38840,38852,38854,38864,38866,38870,38870,38873,38873,38967,38967,38968,38971,38979,38987,39016,39020,39020,39020,39026,39031,39032,39044,39045,39048,39085,39086,39091,39091,39094,39116,39116,39118,39118,39118,39118,39120,39120,39125,39126,39127,39129,39143,39144,39144,39144,39146,39146,39146,39149,39149,39150,39150,39150,39150,39150,39150,39150,39154,39154,39154,39195,39197,39197,39197,39197,39197,39198,39198,39199,39199,39199,39199,39200,39200,39223,39226,39226,39226,39226,39251,39251,39255,39256,39259,39259,39261,39314,39413,39430,39431,39431,39431,39433,39450,39450,39450,39450,39491,39499,39500,39500,39521,39545,39552,39577,39580,39580,39582,39582,39585,39586,39588,39700,39765,39770,39787,39794,39795,39799,39812,39817,39846,39846,39846,39873,39895,39899,39899,39926,39932,39945,40060,40090,40152,40166,40181,40187,40192,40404,40462,40511,40539,40545,40570,40616,40653,40666,40678,40696,40704,40715,40740,40745,40782,40796,40824,40824,40828,40841,40850,40858,40859,40874,40875,40882,40902,40903,40903,40914,40926,40942,40948,40948,40948,40962,40970,40978,40981,40981,40983,40985,40990,40990,40990,40992,40993,41006,41006,41010,41014,41024,41027,41027,41029,41099,41100,41132,41136,41136,41138,41138,41154,41154,41154,41176,41191,41191,41193,41193,41203,41214,41215,41228,41255,41265,41267,41268,41274,41277,41283,41283,41286,41296,41307,41315,41317,41334,41334,41343,41356,41364,41369,41375,41379,41380,41384,41413,41415,41416,41484,41520,41560,41631,41631,41631,41633,41636,41688,41690,41719,41719,41732,41734,41746,41754,41754,41773,41782,41782,41782,41782,41782,41782,41790,41793,41830,41830,41830,41830,41830,41871,41871,41871,41871,41872,41872,41873,41873,41873,41874,41877,41881,41883,41883,41883,41886,41886,41887,41887,41887,41887,41889,41889,41889,41894,41912,41912,41912,41915,41915,41916,41919,41919,41919,41919,41919,41919,41919,41920,41920,41924,41926,41926,41929,41929,41929,41929,41929,41929,41930,41930,41983,42018,42048,42119,42119,42137,42137,42179,42182,42191,42252,42648,42649,42693,42693,42753,42812,42817,42817,42817,42817,42817,42817,42817,42817,42817,42843,42856,42866,42866,42881,42896,42912,42922,42923,42930,42947,42947,42947,42953,42955,42960,42975,42976,42983,42983,43022,43025,43029,43048,43056,43057,43145,43147,43231,43277,43327,43327,43327,43327,43345,43345,43373,43373,43377,43400,43400,43403,43415,43418,43450,43451,43451,43459,43459,43459,43762,43774,43774,43863,43869,43869,43869,43877,43878,43881,43881,43881,43885,43906,43910,43910,43911,43914,43937,43937,43941,43964,43964,43964,44102,44204,44318,44318,44359,44370,44372,44376,44378,44408,44590,44735,44735,44735,44736,44736,44736,44739,44739,44740,44742,44742,44742,44770,44770,44814,44846,44847,44848,44848,44988,45382,45385,45460,45931,45935,45961,45961,45961,45961,45970,46011,46039,46039,46072,46611,46656,46687,47169,47170,47375,47386,47389,47397,47397,47397,47423,47429,47447,47447,47578,47585,47719,47807,47819,47957,48104,48107,48162,48225,48254,48356,48566,48601,48642,48670,48740,48903,48923,48955,49023,49146,49324,49501,49522,49531,49618,49660,49684,49710,49741,49747,49846,49863,49866,49869,49881,49921,49933,49948,50030,50040,50060,50064,50082,50084,50178,50219,50237,50254,50296,50312,50335,50345,50345,50373,50392,50407,50419,50420,50440,50445,50651,50663,50665,50673,50683,50826,50832,50854,50862,50868,50877,50879,50907,50911,50911,50915,50915,50915,50921,50928,50931,50940,50942,50969,50976,50988,51012,51041,51059,51065,51089,51117,51243,51334,51395,51412,51582,51600,51607,51610,51688,51757,51847,51889,51925,51929,51935,51936,51939,51943,51945,51949,51956,51967,51967,51970,51970,51970,51970,51970,51970,51970,51970,51970,51971,51975,51977,51977,51978,51982,51982,52011,52012,52012,52012,52028,52028,52028,52028,52028,52101,52101,52101,52106,52114,52116,52116,52116,52126,52130,52236,52300,52300,52309,52319,52380,52380,52380,52383,52394,52404,52410,52411,52411,52446,52446,52450,52451,52455,52456,52490,52490,52500,52507,52511,52515,52518,52524,52535,52539,52546,52552,52557,52559,52562,52562,52568,52568,52568,52568,52571,52571,52571,52571,52571,52571,52571,52571,52571,52572,52679,52747,52824,52860,53103,53150,53197,53216,53258,53343,53386,53412,53418,53422,53422,53423,53426,53438,53439,53449,53453,53455,53463,53467,53467,53468,53476,53486,53488,53495,53502,53511,53513,53523,53526,53526,53536,53539,53541,53547,53553,53553,53556,53558,53562,53568,53571,53577,53596,53603,53604,53614,53622,53623,53631,53650,53654,53674,53737,53743,53754,53757,53758,53767,53780,53791,53795,53798,53814,53826,53827,53830,53831,53837,53839,53839,53841,53843,53844,53846,53846,53849,53852,53884,53887,53888,53892,53895,53899,53917,53926,53936,53939,53940,53944,53947,53966,53968,53992,53996,54055,54158,54226,54235,54370,54403,54463,54484,54536,54549,54576,54620,54663,54769,54812,54845,54860,54892,54915,54942,55010,55061,55134,55219,55308,55351,55398,55405,55409,55413,55413,55416,55430,55442,55449,55454,55455,55456,55460,55469,55477,55482,55492,55507,55519,55524,55532,55538,55547,55550,55553,55559,55567,55570,55594,55600,55838,55862,55912,55928,55945,55979,56000,56080,56111,56159,56187,56433,56444,56459,56489,56512,56541,56561,56585,56596,56631,56632,56703,56755,56783,56793,56796,56800,56802,56802,56803,56810,56810,56813,56816,56817,56820,56821,56822,56826,56828,56832,56833,56837],\"y\":[228,968,1114,1158,1287,1444,1557,2233,3462,3704,3724,4220,4384,4537,4853,5011,5058,5174,5280,5573,5725,5766,5909,5969,6133,6975,7121,7229,7295,7391,7773,7814,7979,8163,8272,8653,8890,9105,9277,9616,9690,9789,9930,10073,10247,10467,10961,11203,11567,11665,11943,12217,13354,13457,13581,13754,14048,14371,14548,14792,15045,15160,15309,15422,15822,16156,16367,16643,16820,16934,17215,17415,17667,17938,17958,18211,18305,19539,19647,19942,20191,20711,21066,21266,21655,21934,22092,22606,23113,23234,23371,23669,23906,24081,24414,24503,25108,25505,25975,26124,26722,27055,27186,27378,27801,28009,28163,28318,28415,28634,29001,29022,29178,29887,30095,33673,33827,33997,34935,35054,35221,35453,35730,35854,39400,42947,43232,44120,44314,44577,44986,45662,45947,46193,46866,47017,47221,47327,54266,54885,55598,55937,62882,69826,76774,83747,84402,85070,85735,86457,87012,87400,87611,87793,87927,88118,88144,88682,88915,89181,89334,89397,89813,90403,90771,91196,91612,91742,91857,92079,92215,92440,92864,93277,93960,94635,94762,94811,95021,95442,95533,95613,95904,96111,96358,96531,96713,96812,96913,97123,97193,97351,97562,97698,97767,97819,97973,98082,98263,98491,98666,99187,99350,99566,100075,100119,100300,100800,101073,101161,101574,101819,101855,102113,102273,102358,102505,103499,103570,103630,103787,103874,104000,104102,104321,104494,104568,104610,104928,104988,105085,105158,105311,105989,106159,106701,106820,107183,107351,107491,107622,107790,116552,117116,117307,117406,117555,118610,120570,120952,125707,126494,127374,127650,128174,128417,128662,130073,130123,130346,130731,131323,131846,132009,132783,133284,134396,144459,145060,153724,154386,155491,156117,157522,157599,158370,158444,158757,159612,159684,160250,160436,161394,161648,163018,163389,163456,163963,164071,164323,164776,165032,165308,165461,165738,166001,166225,167289,167718,168135,168450,169302,169637,169812,169980,170360,170432,170838,170884,171437,171504,172244,172653,173412,173965,174518,174955,175437,175904,176366,176825,176861,176903,177030,177106,177979,178077,178231,178336,178367,178474,178567,178626,178662,178758,178806,178823,178895,178939,179418,179462,179516,179553,179791,180170,180556,180942,181459,181607,181651,182067,182453,182656,182762,182952,183486,184407,184556,184694,184891,185008,185506,185966,186084,186187,186298,186932,187047,187326,187514,187687,187779,187941,188084,188221,188274,188750,188872,189029,189384,189540,190952,192367,193088,193137,193300,193437,194848,195017,195217,195386,195525,195629,195745,196024,196123,196189,196291,196413,196678,196879,197156,197648,198185,198335,198434,198913,199050,199237,199430,199506,199598,200079,200418,200683,200754,200901,201169,201454,201595,202411,202676,202825,203353,203425,203557,203636,203749,203885,203949,204098,204254,204418,204538,205254,205635,205787,205886,206052,206103,206547,206992,207437,207586,207966,208272,209441,209575,210749,211922,213096,213404,213709,213866,214090,214394,214946,215508,216483,217462,217666,217868,218162,219058,219613,220167,220723,221715,221890,222066,222245,222720,223263,223541,223696,223974,224249,224523,225585,225787,226078,227028,227233,227575,227917,228260,228318,229611,230084,230745,231125,231852,231998,232342,232529,232722,233054,233189,233988,234197,234352,234755,234858,234956,235041,235168,235485,236286,236427,237246,237465,237926,238095,238264,238603,238752,239070,239267,239464,240103,240251,240416,240581,241535,241635,241875,242115,242347,242579,242697,242846,243002,243110,243561,243683,243830,243977,244055,244858,245661,245860,246011,246152,249885,250070,250158,250241,250388,250473,251890,252650,253267,253436,255045,255585,256283,256900,257521,259774,261417,263133,263347,265284,265542,267272,269208,269873,271370,271582,272204,273340,273528,273965,274243,274512,274720,275046,275206,275472,276856,278252,278690,278857,279067,279426,280122,281529,281988,283201,283354,283468,284055,284620,284773,285537,285765,286106,286559,286911,287163,287970,289110,289286,292721,293007,293102,293228,293447,293657,294118,294309,294822,294978,295141,295860,296265,296434,296603,296765,297158,298122,298379,298508,299365,299623,300228,300465,300690,301021,301350,301689,301904,302264,305357,305588,305837,306090,306523,306778,307128,307174,307236,307446,307785,307875,308141,308429,308822,309115,309256,309284,309319,309575,309747,309816,309986,310018,310105,310347,310609,310847,311081,311310,311340,311919,312623,312885,313063,313224,313417,313549,313760,313971,314178,314314,314471,315036,315120,315249,315361,315410,315574,315732,315998,316147,316394,316502,316684,316867,316951,317107,317337,317524,317737,317885,318065,318255,318289,319816,320898,321188,321301,321684,323236,323271,324061,324194,324345,324380,324439,325923,326359,327394,327621,327696,327799,329286,330260,330532,330818,331636,333175,333405,334449,334622,334793,335392,335512,336498,337015,337134,337245,337946,338336,338451,338610,338767,339030,339413,340794,341037,342474,345126,345437,345608,345792,346420,346786,347046,347249,347419,347527,347906,347975,348576,348626,348665,348818,349078,349300,349519,350287,350820,351194,351729,351883,353096,353570,353967,354227,354503,354555,354839,355459,355660,355917,356246,356508,357131,357221,358184,358305,358404,358546,358934,359228,359449,359668,361282,361648,362012,362058,362275,365340,365369,365443,365568,365758,366541,367081,367977,368597,369222,369840,370656,372997,375337,376183,377027,377896,378521,379163,379792,380636,381482,381721,382139,382932,383111,383208,385624,386490,386545,386762,387073,387314,387552,388150,389400,389700,390171,390400,390742,392398,393228,393614,395919,396128,396421,398040,398122,398405,398972,400624,400985,402411,403839,403950,405053,405176,406002,407113,407427,407530,409838,410525,410642,410817,411159,411711,411851,411973,412281,412383,413739,416047,416177,417278,417400,417736,418593,418738,419384,420134,420279,420326,420488,420730,420895,421098,421265,421315,421413,421549,421714,422245,422406,422563,423231,424568,424759,425154,425293,427096,427755,427913,428564,429398,429581,430939,431100,432202,432831,433706,433802,433894,433981,434868,435038,435656,435753,436856,436993,437373,438701,441027,441904,442778,442916,443560,443890,444538,444780,445328,445406,445921,446435,447217,448327,448595,449248,449950,450303,450881,451477,452445,452673,453386,453798,454044,454593,454965,455230,456092,457046,457733,457927,459168,459911,460627,460631,460635,460790,460985,461254,461562,461915,462827,463032,463176,463351,463475,463594,463714,463837,464561,464624,466575,466930,467137,468505,468669,470131,471101,471209,471440,471556,471653,471751,471879,472070,472199,472362,472455,472619,472760,472887,473398,473499,475297,475482,475587,475764,476888,477096,477251,477372,477466,477745,478238,478413,479280,479391,480144,480245,481268,481392,481540,482090,482329,482415,482522,483001,483124,483228,483444,483544,483751,483860,483975,484074,484502,485530,485609,485716,487409,487884,489031,489216,490676,490852,491771,492730,493372,493408,493542,493675,493965,494212,494248,494402,494554,494735,494812,496071,496918,497263,497520,497671,497905,498029,498176,498214,498331,498451,499533,499574,499634,499776,499901,500153,500714,500858,500999,501081,501565,501703,501841,502089,502217,502319,502928,503546,503829,503876,504156,504455,504654,504790,504926,505205,505315,505454,506542,506651,506772,507857,508468,508651,508819,508863,508947,509033,509170,509446,509556,509748,510417,510716,511358,511399,511534,512180,512388,512571,513222,513526,513963,514139,514263,514385,514519,514693,514971,515113,515237,515361,515484,515608,515724,515895,516206,516350,516395,516438,516508,516837,517027,517181,517294,517527,517650,517737,518258,519147,519297,519435,519581,520123,520642,520793,521295,521792,522165,522728,523008,523906,524198,524472,525027,525210,525569,525694,526213,526750,526879,527815,528725,528798,529967,530688,530787,531033,531129,531172,531314,531573,532309,532698,533087,533170,533419,534094,534225,534327,534541,534673,534950,535881,536155,537034,537756,538001,538864,538986,540805,541102,541417,541661,541756,542299,542655,542998,543194,543460,543857,544070,544329,544695,544840,545141,545312,545761,545798,545916,546049,546253,546456,546553,546756,546960,547102,547381,547469,547508,548059,548569,549084,549588,549674,549789,550031,550229,550381,550497,550711,550840,551027,551233,551448,551650,551823,552001,552181,552296,552466,552620,552809,552995,553069,553229,553887,554129,554522,554636,554837,555104,555160,555343,555420,555586,556036,556276,556621,556762,556882,557077,557271,557409,557537,557883,558077,558254,558347,558509,558635,558949,559070,559415,559684,560331,560876,561019,561262,561513,561655,561900,562183,562281,562442,562591,562691,562895,563202,563699,563739,564527,565213,565788,566713,567619,568419,568514,568641,569360,569462,570277,570376,570937,571018,571522,571660,571759,572057,572272,572406,572528,572659,572792,572871,573016,573177,573666,573833,573959,574072,574196,575011,575149,575216,575299,575730,575824,576017,576107,576201,576281,576390,576529,576666,576706,576834,576947,577075,577167,577304,577432,577562,577741,577880,578035,578210,578483,578596,578698,578855,578956,579034,579146,579247,579348,579449,579563,579711,579785,579841,579909,580043,580268,580347,580436,580504,580627,580750,580876,580988,581088,581190,581909,582240,582703,583356,584066,584400,584721,585491,586209,586339,587295,590204,590568,591154,591475,592607,593434,593652,593973,594747,594990,595313,595648,596006,596655,597241,597714,597918,598164,598625,599158,599437,599809,600091,600288,600564,600963,601786,602609,602842,603375,603609,604014,604161,604496,604730,605287,605501,605676,606079,606425,606891,607824,608075,608992,609373,610095,610477,610622,611079,611463,611850,612087,612171,612271,612849,613229,613425,613664,613763,614427,614625,614818,614977,615208,615440,620182,620345,620442,621489,621628,621822,622052,622300,623346,623511,623643,623816,624128,624348,624629,624802,625842,626031,626636,626804,626925,627780,628388,628495,630126,631577,632793,634427,635124,635316,636747,638206,639367,639902,643039,645243,647463,648636,651770,653404,655040,656716,657902,658486,660163,661839,663473,664022,665436,667118,667657,669363,671584,673230,675115,680799,685479,687572,696376,696551,705698,714845,723980,724359,724639,726632,727071,728718,729697,743465,744353,746083,773728,775408,779695,780084,780206,780470,780729,780863,781222,781415,781778,781969,783179,784434,785783,786552,786756,787715,789251,789370,789736,790311,790684,791177,792604,792897,793525,793779,794602,795939,796099,796609,797347,798421,799942,802308,802624,802783,803354,803556,803848,804053,804403,804494,805490,805849,805938,806071,806223,806617,806740,806885,808236,808340,808482,808584,808722,808799,809785,810140,810241,810496,810890,811165,811410,811552,811645,811927,812085,812309,812454,812501,812738,812833,814185,814309,814363,814471,814551,816093,816199,816403,816517,816627,816802,816873,817051,817086,817111,817133,817161,817184,817390,817428,817473,817544,817575,817793,817894,817971,818201,818489,818661,818831,819053,819315,820031,820910,821479,821758,823291,823537,823742,823844,825350,826415,827803,828523,828978,829149,829340,829484,829653,829852,830092,830277,830474,830797,831123,831451,831502,831648,831788,831957,832105,832140,832310,832456,832623,832744,832850,832957,833115,833321,833408,833768,833833,833953,834087,834474,834652,834822,834919,835096,836035,836218,836417,836721,837116,837454,837647,837831,838021,838134,839856,840752,840962,841226,841531,843091,843481,843603,843780,843980,844225,844440,844704,844968,846184,846458,846643,846838,847044,847245,847851,848025,848257,848539,848754,848992,849103,849343,849643,849833,850037,850255,850417,851005,851282,851418,852115,852517,852925,853034,853121,853429,854038,854294,854494,855942,856198,856496,856656,856778,858072,859179,860519,861235,865259,866192,867342,868180,868613,869772,870816,871614,871865,872083,872282,872480,872793,873079,873360,873757,873991,874250,874495,874804,875036,875238,875728,876221,876369,876534,876741,876931,877170,877383,877564,877758,878032,878221,878473,878658,878905,879072,879269,879467,879791,880055,880260,880538,880803,881004,881198,881442,881647,881833,882167,882449,882680,883021,883653,883868,884139,884311,884578,884912,885092,885347,885545,885948,886419,886694,886973,887162,887412,887724,887974,888223,888417,888613,888837,889048,889308,889497,889737,890223,890477,890633,890949,891098,891398,891819,891998,892340,892515,892684,892951,893165,893770,893971,894610,894878,895941,897289,898463,898760,900626,901223,902363,903094,904161,904777,905958,906730,907560,909633,910336,911034,911698,912348,913364,914020,915092,916316,917548,918645,920107,920992,922136,922493,922657,922855,923029,923257,923482,923667,923898,924074,924287,924520,924719,924892,925184,925408,925679,925857,926418,926647,927043,927263,927468,927649,927859,928136,928341,928587,929165,929362,935336,936130,937140,937747,938470,939386,940175,941208,942014,942770,943465,955012,955528,956311,956951,957612,958383,958842,959678,960069,960737,962086,962770,963434,964003,964288,964623,964871,965276,965449,965627,965790,965960,966127,966288,966464,966636,966816,966985,967186,967408,967573,967743,967960]}},\"id\":\"f09abecd-4ef0-4d83-8ec9-b6c0eced0ec8\",\"type\":\"ColumnDataSource\"},{\"attributes\":{\"plot\":{\"id\":\"cbbd4c7a-a242-48e1-9962-34b7834da1b2\",\"subtype\":\"Figure\",\"type\":\"Plot\"}},\"id\":\"77c51ca7-4893-4581-b3ff-5337c3c65444\",\"type\":\"HelpTool\"},{\"attributes\":{\"overlay\":{\"id\":\"f8dce5f8-eff7-4a35-9eb3-080be80c3134\",\"type\":\"BoxAnnotation\"},\"plot\":{\"id\":\"cbbd4c7a-a242-48e1-9962-34b7834da1b2\",\"subtype\":\"Figure\",\"type\":\"Plot\"}},\"id\":\"bb4c6486-86b7-4f30-bca8-693690582f2b\",\"type\":\"BoxZoomTool\"},{\"attributes\":{\"plot\":{\"id\":\"cbbd4c7a-a242-48e1-9962-34b7834da1b2\",\"subtype\":\"Figure\",\"type\":\"Plot\"}},\"id\":\"40e767af-0541-43cf-987a-7a342bcee590\",\"type\":\"WheelZoomTool\"},{\"attributes\":{},\"id\":\"3899cc1a-e55c-49c5-bb0d-7c4d5645772b\",\"type\":\"BasicTickFormatter\"},{\"attributes\":{\"plot\":{\"id\":\"cbbd4c7a-a242-48e1-9962-34b7834da1b2\",\"subtype\":\"Figure\",\"type\":\"Plot\"}},\"id\":\"be5381bb-7ff3-4876-b495-52c1a4c09ffa\",\"type\":\"PanTool\"},{\"attributes\":{\"plot\":{\"id\":\"cbbd4c7a-a242-48e1-9962-34b7834da1b2\",\"subtype\":\"Figure\",\"type\":\"Plot\"}},\"id\":\"8ba661b9-87b9-4d5b-8a09-2a21ee62370e\",\"type\":\"ResetTool\"},{\"attributes\":{\"plot\":{\"id\":\"cbbd4c7a-a242-48e1-9962-34b7834da1b2\",\"subtype\":\"Figure\",\"type\":\"Plot\"}},\"id\":\"2a7bb1d4-aa0e-42a8-9e49-e5e1eb084542\",\"type\":\"SaveTool\"}],\"root_ids\":[\"cbbd4c7a-a242-48e1-9962-34b7834da1b2\"]},\"title\":\"Bokeh Application\",\"version\":\"0.12.4\"}};\n",
       "            var render_items = [{\"docid\":\"5e6d5029-fb32-4308-9124-26ccbe50e9e3\",\"elementid\":\"df80edd6-dc52-43a0-a80d-1d5e19082763\",\"modelid\":\"cbbd4c7a-a242-48e1-9962-34b7834da1b2\"}];\n",
       "            \n",
       "            Bokeh.embed.embed_items(docs_json, render_items);\n",
       "          };\n",
       "          if (document.readyState != \"loading\") fn();\n",
       "          else document.addEventListener(\"DOMContentLoaded\", fn);\n",
       "        })();\n",
       "      },\n",
       "      function(Bokeh) {\n",
       "      }\n",
       "    ];\n",
       "  \n",
       "    function run_inline_js() {\n",
       "      \n",
       "      if ((window.Bokeh !== undefined) || (force === true)) {\n",
       "        for (var i = 0; i < inline_js.length; i++) {\n",
       "          inline_js[i](window.Bokeh);\n",
       "        }if (force === true) {\n",
       "          display_loaded();\n",
       "        }} else if (Date.now() < window._bokeh_timeout) {\n",
       "        setTimeout(run_inline_js, 100);\n",
       "      } else if (!window._bokeh_failed_load) {\n",
       "        console.log(\"Bokeh: BokehJS failed to load within specified timeout.\");\n",
       "        window._bokeh_failed_load = true;\n",
       "      } else if (force !== true) {\n",
       "        var cell = $(document.getElementById(\"df80edd6-dc52-43a0-a80d-1d5e19082763\")).parents('.cell').data().cell;\n",
       "        cell.output_area.append_execute_result(NB_LOAD_WARNING)\n",
       "      }\n",
       "  \n",
       "    }\n",
       "  \n",
       "    if (window._bokeh_is_loading === 0) {\n",
       "      console.log(\"Bokeh: BokehJS loaded, going straight to plotting\");\n",
       "      run_inline_js();\n",
       "    } else {\n",
       "      load_libs(js_urls, function() {\n",
       "        console.log(\"Bokeh: BokehJS plotting callback run at\", now());\n",
       "        run_inline_js();\n",
       "      });\n",
       "    }\n",
       "  }(this));\n",
       "</script>"
      ]
     },
     "metadata": {},
     "output_type": "display_data"
    }
   ],
   "source": [
    "from bokeh.plotting import figure\n",
    "freqs = list(fd.values())\n",
    "freqs = sorted(freqs, reverse = True)\n",
    "\n",
    "\n",
    "p = figure(plot_width=700, plot_height=200)\n",
    "\n",
    "p.line(n_types, n_tokens)\n",
    "show(p) "
   ]
  },
  {
   "cell_type": "markdown",
   "metadata": {
    "deletable": true,
    "editable": true,
    "slideshow": {
     "slide_type": "slide"
    }
   },
   "source": [
    "##  Регулярные выражения подробнее\n",
    "\n",
    "\n",
    "__*Классы символов:*__\n",
    "\n",
    "__[A-Z]__ – символы верхнего регистра (латиница)\n",
    "\n",
    "__[a-z]__ – символы нижнего регистра (латиница)\n",
    "\n",
    "__[А-Я]__ – символы верхнего регистра (кириллица)\n",
    "\n",
    "__[а-я]__ – символы нижнего регистра (кириллица)\n",
    "\n",
    "__[0-9]__ или __\\d__ – цифра\n",
    "\n",
    "__[^0-9]__ или __\\D__ – любой символ, кроме цифры\n",
    "\n",
    "__.__ – любой символ\n",
    "\n"
   ]
  },
  {
   "cell_type": "markdown",
   "metadata": {
    "deletable": true,
    "editable": true,
    "slideshow": {
     "slide_type": "subslide"
    }
   },
   "source": [
    "__*Служебные символы:*__\n",
    "\n",
    "__\\t__ – табуляция\n",
    "\n",
    "__\\s__ – любой пробельный символ\n",
    "\n",
    "__\\S__ – все символы, кроме пробельных\n",
    "\n",
    "__\\n__  – перенос строки\n",
    "\n",
    "__^__ – начало строки\n",
    "\n",
    "__$__ – конец строки\n",
    "\n",
    "__\\__ – экранирование"
   ]
  },
  {
   "cell_type": "markdown",
   "metadata": {
    "deletable": true,
    "editable": true,
    "slideshow": {
     "slide_type": "subslide"
    }
   },
   "source": [
    "__*Операторы:*__\n",
    "\n",
    "__?__ - предыдущий символ/группа может быть, а может не быть\n",
    "\n",
    "__+__ - предыдущий символ/группа может повторяться 1 и более раз\n",
    "\n",
    "__*__ - предыдущий символ/группа может повторяться 0 и более раз\n",
    "\n",
    "__{n,m}__ - предыдущий символ/группа может повторяться от от n до m включительно\n",
    "\n",
    "__{n,}__ - предыдущий символ/группа в скобках может повторяться n и более раз\n",
    "\n",
    "__{,m}__ - предыдущий символ/группа может повторяться до m раз\n",
    "\n",
    "__{n}__ - предыдущий символ/группа повторяется n раз\n",
    "\n",
    "Внутри групп не работают операторы __.__, __+__, __*__, их необходимо экранировать с помощью обратного слеша: \\\n",
    "\n"
   ]
  },
  {
   "cell_type": "markdown",
   "metadata": {
    "deletable": true,
    "editable": true,
    "slideshow": {
     "slide_type": "subslide"
    }
   },
   "source": [
    "__*Методы:*__\n",
    "\n",
    "__re.match(pattern, string)__ - найти подстроку pattern в начале строки string\n",
    "\n"
   ]
  },
  {
   "cell_type": "code",
   "execution_count": 14,
   "metadata": {
    "collapsed": false,
    "deletable": true,
    "editable": true,
    "slideshow": {
     "slide_type": "fragment"
    }
   },
   "outputs": [
    {
     "name": "stdout",
     "output_type": "stream",
     "text": [
      "<_sre.SRE_Match object; span=(0, 5), match='рыбак'>\n",
      "рыбак\n",
      "0 5\n",
      "None\n"
     ]
    }
   ],
   "source": [
    "import re\n",
    "\n",
    "m = re.match(r'рыбак', 'рыбак рыбака видит издалека')\n",
    "\n",
    "print(m)\n",
    "print(m.group(0))\n",
    "print(m.start(), m.end())\n",
    "\n",
    "l = re.match(r'видит', 'рыбак рыбака видит издалека')\n",
    "print(l)"
   ]
  },
  {
   "cell_type": "markdown",
   "metadata": {
    "deletable": true,
    "editable": true,
    "slideshow": {
     "slide_type": "subslide"
    }
   },
   "source": [
    "\n",
    "__re.search(pattern, string)__ - аналогичен методу match, но ищет не только в начале строки (но возвращает только первое вхождение!)\n",
    "\n",
    "\n"
   ]
  },
  {
   "cell_type": "code",
   "execution_count": 16,
   "metadata": {
    "collapsed": false,
    "deletable": true,
    "editable": true,
    "slideshow": {
     "slide_type": "fragment"
    }
   },
   "outputs": [
    {
     "name": "stdout",
     "output_type": "stream",
     "text": [
      "<_sre.SRE_Match object; span=(19, 27), match='издалека'>\n",
      "издалека\n",
      "19 27\n",
      "None\n"
     ]
    }
   ],
   "source": [
    "m = re.search(r'издалека', 'рыбак рыбака видит издалека')\n",
    "\n",
    "print(m)\n",
    "print(m.group(0))\n",
    "print(m.start(), m.end())\n",
    "\n",
    "l = re.search(r'прорубь', 'рыбак рыбака видит издалека')\n",
    "print(l)"
   ]
  },
  {
   "cell_type": "markdown",
   "metadata": {
    "deletable": true,
    "editable": true,
    "slideshow": {
     "slide_type": "subslide"
    }
   },
   "source": [
    "__re.findall(pattern, string)__ -  возвращает все вхождения pattern в string в виде списка"
   ]
  },
  {
   "cell_type": "code",
   "execution_count": 19,
   "metadata": {
    "collapsed": false,
    "deletable": true,
    "editable": true,
    "slideshow": {
     "slide_type": "fragment"
    }
   },
   "outputs": [
    {
     "name": "stdout",
     "output_type": "stream",
     "text": [
      "['рыбак', 'рыбак']\n",
      "[]\n"
     ]
    }
   ],
   "source": [
    "m = re.findall(r'рыбак', 'рыбак рыбака видит издалека')\n",
    "\n",
    "print(m)\n",
    "\n",
    "l = re.findall(r'прорубь', 'рыбак рыбака видит издалека')\n",
    "print(l)"
   ]
  },
  {
   "cell_type": "markdown",
   "metadata": {
    "deletable": true,
    "editable": true,
    "slideshow": {
     "slide_type": "subslide"
    }
   },
   "source": [
    "__re.split(pattern, string, [maxsplit=0])__ - разделяет строку string по шаблону pattern; параметр maxsplit отвечает за максимальное количество разбиений (если их существует несколько).\n",
    "\n",
    "\n"
   ]
  },
  {
   "cell_type": "code",
   "execution_count": 20,
   "metadata": {
    "collapsed": false,
    "deletable": true,
    "editable": true,
    "slideshow": {
     "slide_type": "fragment"
    }
   },
   "outputs": [
    {
     "name": "stdout",
     "output_type": "stream",
     "text": [
      "['рыбак рыбака ', ' издалека']\n",
      "['', ' ', 'а видит издалека'] 3\n",
      "['', ' рыбака видит издалека'] 2\n"
     ]
    }
   ],
   "source": [
    "m = re.split(r'видит', 'рыбак рыбака видит издалека')\n",
    "\n",
    "print(m)\n",
    "\n",
    "l = re.split(r'рыбак', 'рыбак рыбака видит издалека')\n",
    "print(l, len(l))\n",
    "\n",
    "l1 = re.split(r'рыбак', 'рыбак рыбака видит издалека',maxsplit=1)\n",
    "print(l1, len(l1))"
   ]
  },
  {
   "cell_type": "markdown",
   "metadata": {
    "deletable": true,
    "editable": true,
    "slideshow": {
     "slide_type": "subslide"
    }
   },
   "source": [
    "__re.sub(pattern, string2, string1)__ - заменяет все вхождения pattern в string1 на srting2\n",
    "\n",
    "\n"
   ]
  },
  {
   "cell_type": "code",
   "execution_count": 21,
   "metadata": {
    "collapsed": false,
    "deletable": true,
    "editable": true,
    "slideshow": {
     "slide_type": "fragment"
    }
   },
   "outputs": [
    {
     "name": "stdout",
     "output_type": "stream",
     "text": [
      "Рыбак Рыбака видит издалека\n"
     ]
    }
   ],
   "source": [
    "m = re.sub(r'рыбак', 'Рыбак', 'рыбак рыбака видит издалека')\n",
    "\n",
    "print(m)"
   ]
  },
  {
   "cell_type": "markdown",
   "metadata": {
    "deletable": true,
    "editable": true,
    "slideshow": {
     "slide_type": "subslide"
    }
   },
   "source": [
    "__re.compile(pattern)__ - создает объект для последующего поиска"
   ]
  },
  {
   "cell_type": "code",
   "execution_count": 22,
   "metadata": {
    "collapsed": false,
    "deletable": true,
    "editable": true,
    "slideshow": {
     "slide_type": "fragment"
    }
   },
   "outputs": [
    {
     "name": "stdout",
     "output_type": "stream",
     "text": [
      "['рыбак', 'рыбак']\n"
     ]
    }
   ],
   "source": [
    "prog = re.compile(r'рыбак')\n",
    "\n",
    "m = prog.findall('рыбак рыбака видит издалека')\n",
    "\n",
    "print(m)"
   ]
  },
  {
   "cell_type": "code",
   "execution_count": 23,
   "metadata": {
    "collapsed": false,
    "deletable": true,
    "editable": true,
    "slideshow": {
     "slide_type": "subslide"
    }
   },
   "outputs": [
    {
     "name": "stdout",
     "output_type": "stream",
     "text": [
      "['Р', 'В']\n"
     ]
    }
   ],
   "source": [
    "prog = re.compile('[А-Я]') # поиск всех заглавныех букв в строке\n",
    "\n",
    "m = prog.findall('Рыбак рыбака видит издалека. Всегда!')\n",
    "\n",
    "print(m)"
   ]
  },
  {
   "cell_type": "code",
   "execution_count": 25,
   "metadata": {
    "collapsed": false,
    "deletable": true,
    "editable": true,
    "slideshow": {
     "slide_type": "subslide"
    }
   },
   "outputs": [
    {
     "name": "stdout",
     "output_type": "stream",
     "text": [
      "у456ао, ы234ег, 99авто443\n",
      "у456ао\n"
     ]
    }
   ],
   "source": [
    "prog = re.compile('[авекорсту]{1}[0-9]{3}[авекорсту]{2}') # регулярное выражение для поиска автомобильных\n",
    "                                                          # номеров (русские буквы, совпадающие с латиницей)\n",
    "\n",
    "s = 'у456ао, ы234ег, 99авто443'\n",
    "print(s)\n",
    "res = prog.findall(s)\n",
    "\n",
    "print(*res)"
   ]
  },
  {
   "cell_type": "code",
   "execution_count": 26,
   "metadata": {
    "collapsed": false,
    "deletable": true,
    "editable": true,
    "slideshow": {
     "slide_type": "subslide"
    }
   },
   "outputs": [
    {
     "name": "stdout",
     "output_type": "stream",
     "text": [
      "['кот котик компот']\n",
      "['кот', 'кот', 'к компот']\n",
      "['кот', 'кот', 'компот']\n",
      "['кот котик ']\n"
     ]
    }
   ],
   "source": [
    "# пример \"жадных\" операторов: ищем котов\n",
    "\n",
    "s = 'кот котик компот'\n",
    "res1 = re.findall(r'к.*т', s)\n",
    "print(res1)\n",
    "\n",
    "res2 = re.findall(r'к.*?т', s)\n",
    "print(res2)\n",
    "\n",
    "res3 = re.findall(r'к[\\S]*?т', s)\n",
    "print(res3)\n",
    "\n",
    "res4 = re.findall(r'кот.*\\s', s)\n",
    "print(res4)"
   ]
  },
  {
   "cell_type": "markdown",
   "metadata": {
    "deletable": true,
    "editable": true,
    "slideshow": {
     "slide_type": "slide"
    }
   },
   "source": [
    "### __Задание 1__\n",
    "\n",
    "Найдите в тексте все номера телефонов; текст лежит в файле 'task1.txt'. Обратите внимание на возможные форматы написания номеров."
   ]
  },
  {
   "cell_type": "code",
   "execution_count": 4,
   "metadata": {
    "collapsed": false,
    "deletable": true,
    "editable": true,
    "slideshow": {
     "slide_type": "fragment"
    }
   },
   "outputs": [
    {
     "name": "stdout",
     "output_type": "stream",
     "text": [
      "Гарантируется, что в номере 11 цифр и он отделен пробелом, но форматы написания могут отличаться:\n",
      "\n",
      "\n",
      "89268659970\tАнна\n",
      "8(495)3451212\tАлексей Иванин\n",
      "Автомастерская\t+7(234)456-78-90\n",
      "8(956)234-23-23\tсоседка 125 квартира\n",
      "Офис, 5 этаж\t85679962312 \n",
      "Игорь\t\t+7-845-344-23-65\n",
      "\n"
     ]
    }
   ],
   "source": [
    "import re\n",
    "\n",
    "with open ('../data/task1.txt', encoding='utf8') as f:\n",
    "    phones = f.read()\n",
    "    \n",
    "print(phones)\n",
    "\n",
    "#здесь Ваш код"
   ]
  },
  {
   "cell_type": "code",
   "execution_count": 6,
   "metadata": {
    "collapsed": false,
    "deletable": true,
    "editable": true,
    "slideshow": {
     "slide_type": "skip"
    }
   },
   "outputs": [
    {
     "name": "stdout",
     "output_type": "stream",
     "text": [
      "89268659970\n",
      "8(495)3451212\n",
      "+7(234)456-78-90\n",
      "8(956)234-23-23\n",
      "85679962312\n",
      "+7-845-344-23-65\n"
     ]
    }
   ],
   "source": [
    "#решение\n",
    "\n",
    "prog1 = re.compile('[\\+0-9\\-\\(\\)]{11,}')\n",
    "res = prog1.findall(phones)\n",
    "print(*res, sep='\\n')"
   ]
  },
  {
   "cell_type": "markdown",
   "metadata": {
    "deletable": true,
    "editable": true,
    "slideshow": {
     "slide_type": "slide"
    }
   },
   "source": [
    "### Сегментация предложений"
   ]
  },
  {
   "cell_type": "markdown",
   "metadata": {
    "deletable": true,
    "editable": true,
    "slideshow": {
     "slide_type": "subslide"
    }
   },
   "source": [
    "\"?\", \"!\" как правило однозначны. Проблемы возникают с \".\".\n",
    "\n",
    "Бинарный классификатор для сегментации предложений: для каждой точки \".\" определить, является ли она концом предложения или нет.\n"
   ]
  },
  {
   "cell_type": "code",
   "execution_count": 33,
   "metadata": {
    "collapsed": false,
    "deletable": true,
    "editable": true,
    "slideshow": {
     "slide_type": "subslide"
    }
   },
   "outputs": [
    {
     "name": "stdout",
     "output_type": "stream",
     "text": [
      "3\n",
      "Первое предложение.\n",
      "Второе предложение!\n",
      "И, наконец, третье?\n"
     ]
    }
   ],
   "source": [
    "from nltk.tokenize import sent_tokenize\n",
    "\n",
    "text = 'Первое предложение. Второе предложение! И, наконец, третье?'\n",
    "sents = sent_tokenize(text)\n",
    "\n",
    "print(len(sents))\n",
    "print(*sents, sep='\\n')"
   ]
  },
  {
   "cell_type": "code",
   "execution_count": 8,
   "metadata": {
    "collapsed": false
   },
   "outputs": [
    {
     "name": "stdout",
     "output_type": "stream",
     "text": [
      "[nltk_data] Downloading package punkt to /Users/katya/nltk_data...\n",
      "[nltk_data]   Package punkt is already up-to-date!\n"
     ]
    },
    {
     "data": {
      "text/plain": [
       "True"
      ]
     },
     "execution_count": 8,
     "metadata": {},
     "output_type": "execute_result"
    }
   ],
   "source": [
    "import nltk\n",
    "nltk.download('punkt')"
   ]
  },
  {
   "cell_type": "markdown",
   "metadata": {
    "deletable": true,
    "editable": true,
    "slideshow": {
     "slide_type": "slide"
    }
   },
   "source": [
    "### __Задание 2__\n",
    "\n",
    "Посчитайте количество токенов и предложений в тексте из файла task2.txt. Сохраните список токенов в массив tokens."
   ]
  },
  {
   "cell_type": "code",
   "execution_count": null,
   "metadata": {
    "collapsed": true
   },
   "outputs": [],
   "source": [
    "import re\n",
    "regex = re.compile(\"[А-Яа-я]+\")\n",
    "\n",
    "def words_only(text, regex=regex):\n",
    "    return \" \".join(regex.findall(text))"
   ]
  },
  {
   "cell_type": "code",
   "execution_count": 44,
   "metadata": {
    "collapsed": false,
    "deletable": true,
    "editable": true,
    "slideshow": {
     "slide_type": "skip"
    }
   },
   "outputs": [
    {
     "name": "stdout",
     "output_type": "stream",
     "text": [
      "['судьба', 'был', 'только', 'один', 'выход', 'ибо', 'наши', 'жизни', 'сплелись', 'в', 'слишком', 'запутанный', 'узел', 'гнева', 'и', 'блаженства', 'чтобы', 'решить', 'все', 'как-нибудь', 'иначе', 'доверимся', 'жребию', 'орел', 'и', 'мы', 'поженимся', 'решка', 'и', 'мы', 'расстанемся', 'навсегда', 'монетка', 'была', 'подброшена', 'она', 'звякнула', 'завертелась', 'и', 'остановилась', 'орел', 'мы', 'уставились', 'на', 'нее', 'с', 'недоумением', 'затем', 'в', 'один', 'голос', 'мы', 'сказали', 'может', 'еще', 'разок', 'джей', 'рип']\n",
      "['Судьба.', 'Был только один выход, ибо наши жизни сплелись в слишком запутанный узел гнева и блаженства, чтобы решить все как-нибудь иначе.', 'Доверимся жребию: орел — и мы поженимся, решка — и мы расстанемся навсегда.', 'Монетка была подброшена.', 'Она звякнула, завертелась и остановилась.', 'Орел.', 'Мы уставились на нее с недоумением.', 'Затем, в один голос, мы сказали: «Может, еще разок?».', 'Джей Рип']\n"
     ]
    }
   ],
   "source": [
    "import nltk\n",
    "text = ' '.join([line.strip() for line in open('../data/task2.txt')])\n",
    "prog = re.compile('[А-Яа-я\\-]+')\n",
    "tokens = prog.findall(text.lower())\n",
    "d1 = nltk.FreqDist(tokens)\n",
    "print(tokens)\n",
    "sents = sent_tokenize(text)\n",
    "print(sents)"
   ]
  },
  {
   "cell_type": "markdown",
   "metadata": {
    "deletable": true,
    "editable": true,
    "slideshow": {
     "slide_type": "slide"
    }
   },
   "source": [
    "## __Частотный анализ текста__"
   ]
  },
  {
   "cell_type": "code",
   "execution_count": 48,
   "metadata": {
    "collapsed": false,
    "deletable": true,
    "editable": true,
    "slideshow": {
     "slide_type": "fragment"
    }
   },
   "outputs": [
    {
     "data": {
      "text/plain": [
       "[('и', 4),\n",
       " ('мы', 4),\n",
       " ('один', 2),\n",
       " ('в', 2),\n",
       " ('орел', 2),\n",
       " ('судьба', 1),\n",
       " ('был', 1),\n",
       " ('только', 1),\n",
       " ('выход', 1),\n",
       " ('ибо', 1)]"
      ]
     },
     "execution_count": 48,
     "metadata": {},
     "output_type": "execute_result"
    }
   ],
   "source": [
    "import nltk\n",
    "\n",
    "d1 = nltk.FreqDist(tokens) # частотный словарь для текста\n",
    "d1.most_common(10) # токен и кол-во его появлений в тексте"
   ]
  },
  {
   "cell_type": "markdown",
   "metadata": {
    "deletable": true,
    "editable": true,
    "slideshow": {
     "slide_type": "slide"
    }
   },
   "source": [
    "### Задание 3\n",
    "\n",
    "1. Посчитайте, сколько слов в тексте task2 встречается больше одного раза.\n",
    "2. Посчитайте количество слов, состоящих из 5 букв и более."
   ]
  },
  {
   "cell_type": "code",
   "execution_count": 46,
   "metadata": {
    "collapsed": false,
    "deletable": true,
    "editable": true,
    "slideshow": {
     "slide_type": "skip"
    }
   },
   "outputs": [
    {
     "name": "stdout",
     "output_type": "stream",
     "text": [
      "('и', 4)\n",
      "('мы', 4)\n",
      "('один', 2)\n",
      "('в', 2)\n",
      "('орел', 2)\n",
      "5\n"
     ]
    }
   ],
   "source": [
    "res = [i for i in d1.most_common() if i[1] > 1]\n",
    "print(*res, sep='\\n')\n",
    "print(len(res))"
   ]
  },
  {
   "cell_type": "code",
   "execution_count": 51,
   "metadata": {
    "collapsed": false,
    "deletable": true,
    "editable": true,
    "slideshow": {
     "slide_type": "skip"
    }
   },
   "outputs": [
    {
     "name": "stdout",
     "output_type": "stream",
     "text": [
      "['судьба', 'только', 'сплелись', 'слишком', 'запутанный', 'блаженства', 'решить', 'как-нибудь', 'доверимся', 'жребию', 'поженимся', 'расстанемся', 'навсегда', 'монетка', 'подброшена', 'звякнула', 'завертелась', 'остановилась', 'уставились', 'недоумением', 'сказали']\n",
      "21\n"
     ]
    }
   ],
   "source": [
    "res = [i for i in d1 if len(i) > 5]\n",
    "print(res)\n",
    "print(len(res))"
   ]
  },
  {
   "cell_type": "markdown",
   "metadata": {
    "deletable": true,
    "editable": true,
    "slideshow": {
     "slide_type": "slide"
    }
   },
   "source": [
    "# Морфологический анализ"
   ]
  },
  {
   "cell_type": "markdown",
   "metadata": {
    "deletable": true,
    "editable": true,
    "slideshow": {
     "slide_type": "subslide"
    }
   },
   "source": [
    "### Задачи морфологического анализа\n",
    "* Разбор слова — определение нормальной формы  (леммы), основы (стема) и грамматических характеристик слова\n",
    "* Синтез слова — генерация слова по заданным грамматическим характеристикам\n",
    "\n",
    "\n",
    "### Морфологический процессор – инструмент морфологического анализа\n",
    "* Морфологический словарь \n",
    "* Морфологический анализатор"
   ]
  },
  {
   "cell_type": "markdown",
   "metadata": {
    "deletable": true,
    "editable": true,
    "slideshow": {
     "slide_type": "subslide"
    }
   },
   "source": [
    "### Лемматизация \n",
    "У каждого слова есть *лемма* (нормальная форма): \n",
    "\n",
    "* кошке, кошку, кошкам, кошкой $\\implies$ кошка\n",
    "* бежал, бежит, бегу $\\implies$  бежать\n",
    "* белому, белым, белыми $\\implies$ белый"
   ]
  },
  {
   "cell_type": "code",
   "execution_count": 56,
   "metadata": {
    "collapsed": false,
    "deletable": true,
    "editable": true,
    "slideshow": {
     "slide_type": "subslide"
    }
   },
   "outputs": [],
   "source": [
    "sent = 'Действительно, на его лице не отражалось никаких чувств – ни проблеска сочувствия не было на нем, а ведь боль просто невыносима' "
   ]
  },
  {
   "cell_type": "code",
   "execution_count": 9,
   "metadata": {
    "collapsed": true
   },
   "outputs": [],
   "source": [
    "sent = 'У страха глаза велики'"
   ]
  },
  {
   "cell_type": "code",
   "execution_count": 10,
   "metadata": {
    "collapsed": false,
    "deletable": true,
    "editable": true,
    "slideshow": {
     "slide_type": "fragment"
    }
   },
   "outputs": [
    {
     "name": "stdout",
     "output_type": "stream",
     "text": [
      "у страх глаз велик\n"
     ]
    }
   ],
   "source": [
    "from pymorphy2 import MorphAnalyzer\n",
    "\n",
    "m = MorphAnalyzer()\n",
    "lemmas1 = [m.parse(word)[0].normal_form for word in sent.split()]\n",
    "print(' '.join(lemmas1))"
   ]
  },
  {
   "cell_type": "code",
   "execution_count": 11,
   "metadata": {
    "collapsed": false,
    "deletable": true,
    "editable": true,
    "slideshow": {
     "slide_type": "fragment"
    }
   },
   "outputs": [
    {
     "name": "stdout",
     "output_type": "stream",
     "text": [
      "у страх глаз большой\n",
      "\n"
     ]
    }
   ],
   "source": [
    "from pymystem3 import Mystem\n",
    "\n",
    "m = Mystem()\n",
    "lemmas2 = m.lemmatize(sent)\n",
    "print(''.join(lemmas2))"
   ]
  },
  {
   "cell_type": "markdown",
   "metadata": {
    "deletable": true,
    "editable": true,
    "slideshow": {
     "slide_type": "subslide"
    }
   },
   "source": [
    "### Стемминг\n",
    "Слова состоят из морфем: $word = stem + affixes$. Стемминг позволяет отбросить аффиксы. Чаще всего используется алгоритм Портера.\n",
    "\n",
    "* 1-ый вид ошибки: белый, белка, белье $\\implies$  бел\n",
    "\n",
    "* 2-ой вид ошибки: трудность, трудный $\\implies$  трудност, труд \n",
    "\n",
    "* 3-ий вид ошибки: быстрый, быстрее $\\implies$  быст, побыстрее $\\implies$  побыст\n",
    "\n",
    "Алгоритм Портера состоит из 5 циклов команд, на каждом цикле – операция удаления / замены суффикса. Возможны вероятностные расширения алгоритма.\n"
   ]
  },
  {
   "cell_type": "code",
   "execution_count": 59,
   "metadata": {
    "collapsed": false,
    "deletable": true,
    "editable": true,
    "slideshow": {
     "slide_type": "subslide"
    }
   },
   "outputs": [
    {
     "name": "stdout",
     "output_type": "stream",
     "text": [
      "распределен\n",
      "пристав\n",
      "сдела\n",
      "словообразован\n"
     ]
    }
   ],
   "source": [
    "from nltk.stem.snowball import RussianStemmer\n",
    "\n",
    "stemmer = RussianStemmer()\n",
    "words = ['распределение', 'приставить', 'сделала', 'словообразование']\n",
    "for w in words:\n",
    "    stem = stemmer.stem(w)\n",
    "    print(stem)"
   ]
  },
  {
   "cell_type": "markdown",
   "metadata": {
    "deletable": true,
    "editable": true,
    "slideshow": {
     "slide_type": "subslide"
    }
   },
   "source": [
    "### Разбор слова "
   ]
  },
  {
   "cell_type": "code",
   "execution_count": 21,
   "metadata": {
    "collapsed": true,
    "deletable": true,
    "editable": true,
    "slideshow": {
     "slide_type": "fragment"
    }
   },
   "outputs": [],
   "source": [
    "word = 'ГАИ'"
   ]
  },
  {
   "cell_type": "code",
   "execution_count": 22,
   "metadata": {
    "collapsed": false,
    "deletable": true,
    "editable": true,
    "slideshow": {
     "slide_type": "fragment"
    }
   },
   "outputs": [
    {
     "data": {
      "text/plain": [
       "[Parse(word='гаи', tag=OpencorporaTag('NOUN,anim,masc,Name plur,nomn'), normal_form='гай', score=0.1111111111111111, methods_stack=((<DictionaryAnalyzer>, 'гаи', 41, 6),)),\n",
       " Parse(word='гаи', tag=OpencorporaTag('NOUN,inan,masc plur,nomn'), normal_form='гай', score=0.1111111111111111, methods_stack=((<DictionaryAnalyzer>, 'гаи', 495, 7),)),\n",
       " Parse(word='гаи', tag=OpencorporaTag('NOUN,inan,masc plur,accs'), normal_form='гай', score=0.1111111111111111, methods_stack=((<DictionaryAnalyzer>, 'гаи', 495, 10),)),\n",
       " Parse(word='гаи', tag=OpencorporaTag('NOUN,inan,femn,Sgtm,Fixd,Abbr,Orgn sing,nomn'), normal_form='гаи', score=0.1111111111111111, methods_stack=((<DictionaryAnalyzer>, 'гаи', 645, 0),)),\n",
       " Parse(word='гаи', tag=OpencorporaTag('NOUN,inan,femn,Sgtm,Fixd,Abbr,Orgn sing,gent'), normal_form='гаи', score=0.1111111111111111, methods_stack=((<DictionaryAnalyzer>, 'гаи', 645, 1),)),\n",
       " Parse(word='гаи', tag=OpencorporaTag('NOUN,inan,femn,Sgtm,Fixd,Abbr,Orgn sing,datv'), normal_form='гаи', score=0.1111111111111111, methods_stack=((<DictionaryAnalyzer>, 'гаи', 645, 2),)),\n",
       " Parse(word='гаи', tag=OpencorporaTag('NOUN,inan,femn,Sgtm,Fixd,Abbr,Orgn sing,accs'), normal_form='гаи', score=0.1111111111111111, methods_stack=((<DictionaryAnalyzer>, 'гаи', 645, 3),)),\n",
       " Parse(word='гаи', tag=OpencorporaTag('NOUN,inan,femn,Sgtm,Fixd,Abbr,Orgn sing,ablt'), normal_form='гаи', score=0.1111111111111111, methods_stack=((<DictionaryAnalyzer>, 'гаи', 645, 4),)),\n",
       " Parse(word='гаи', tag=OpencorporaTag('NOUN,inan,femn,Sgtm,Fixd,Abbr,Orgn sing,loct'), normal_form='гаи', score=0.1111111111111111, methods_stack=((<DictionaryAnalyzer>, 'гаи', 645, 5),))]"
      ]
     },
     "execution_count": 22,
     "metadata": {},
     "output_type": "execute_result"
    }
   ],
   "source": [
    "m = MorphAnalyzer()\n",
    "m.parse(word)"
   ]
  },
  {
   "cell_type": "code",
   "execution_count": 23,
   "metadata": {
    "collapsed": false,
    "deletable": true,
    "editable": true,
    "slideshow": {
     "slide_type": "fragment"
    }
   },
   "outputs": [
    {
     "data": {
      "text/plain": [
       "[{'analysis': [{'gr': 'S,сокр,ед,жен,неод=(пр|вин|дат|род|твор|им)',\n",
       "    'lex': 'гаи'}],\n",
       "  'text': 'ГАИ'},\n",
       " {'text': '\\n'}]"
      ]
     },
     "execution_count": 23,
     "metadata": {},
     "output_type": "execute_result"
    }
   ],
   "source": [
    "m = Mystem()\n",
    "m.analyze(word)"
   ]
  },
  {
   "cell_type": "markdown",
   "metadata": {
    "deletable": true,
    "editable": true,
    "slideshow": {
     "slide_type": "slide"
    }
   },
   "source": [
    "### Задание 4\n",
    "\n",
    "Найдите в списке персонажей романа \"Война и мир\"  (task4.txt) все уникальные  женские имена."
   ]
  },
  {
   "cell_type": "code",
   "execution_count": null,
   "metadata": {
    "collapsed": true,
    "deletable": true,
    "editable": true,
    "slideshow": {
     "slide_type": "skip"
    }
   },
   "outputs": [],
   "source": [
    "from pymorphy2 import MorphAnalyzer\n",
    "\n",
    "m = MorphAnalyzer()\n",
    "prog = re.compile('[А-Я]{1}[а-я]+') #слова с заглавной буквы\n",
    "tokens = prog.findall(raw)\n",
    "lemmas = [m.parse(word)[0].normal_form for word in tokens]\n",
    "\n",
    "names = set()\n",
    "for w in lemmas:\n",
    "    p = m.parse(w)[0].tag\n",
    "    if {'Name', 'femn'} in p:\n",
    "        names.add(w.capitalize())\n",
    "        \n",
    "print(*names, sep='\\n')"
   ]
  },
  {
   "cell_type": "markdown",
   "metadata": {
    "deletable": true,
    "editable": true,
    "slideshow": {
     "slide_type": "slide"
    }
   },
   "source": [
    "## Первичная обработка текстов"
   ]
  },
  {
   "cell_type": "markdown",
   "metadata": {
    "deletable": true,
    "editable": true,
    "slideshow": {
     "slide_type": "subslide"
    }
   },
   "source": [
    "### Удаление стоп-слов"
   ]
  },
  {
   "cell_type": "code",
   "execution_count": 69,
   "metadata": {
    "collapsed": false,
    "deletable": true,
    "editable": true,
    "slideshow": {
     "slide_type": "fragment"
    }
   },
   "outputs": [
    {
     "name": "stdout",
     "output_type": "stream",
     "text": [
      "['и', 'в', 'во', 'не', 'что', 'он', 'на', 'я', 'с', 'со', 'как', 'а', 'то', 'все', 'она', 'так', 'его', 'но', 'да', 'ты', 'к', 'у', 'же', 'вы', 'за', 'бы', 'по', 'только', 'ее', 'мне', 'было', 'вот', 'от', 'меня', 'еще', 'нет', 'о', 'из', 'ему', 'теперь', 'когда', 'даже', 'ну', 'вдруг', 'ли', 'если', 'уже', 'или', 'ни', 'быть', 'был', 'него', 'до', 'вас', 'нибудь', 'опять', 'уж', 'вам', 'ведь', 'там', 'потом', 'себя', 'ничего', 'ей', 'может', 'они', 'тут', 'где', 'есть', 'надо', 'ней', 'для', 'мы', 'тебя', 'их', 'чем', 'была', 'сам', 'чтоб', 'без', 'будто', 'чего', 'раз', 'тоже', 'себе', 'под', 'будет', 'ж', 'тогда', 'кто', 'этот', 'того', 'потому', 'этого', 'какой', 'совсем', 'ним', 'здесь', 'этом', 'один', 'почти', 'мой', 'тем', 'чтобы', 'нее', 'сейчас', 'были', 'куда', 'зачем', 'всех', 'никогда', 'можно', 'при', 'наконец', 'два', 'об', 'другой', 'хоть', 'после', 'над', 'больше', 'тот', 'через', 'эти', 'нас', 'про', 'всего', 'них', 'какая', 'много', 'разве', 'три', 'эту', 'моя', 'впрочем', 'хорошо', 'свою', 'этой', 'перед', 'иногда', 'лучше', 'чуть', 'том', 'нельзя', 'такой', 'им', 'более', 'всегда', 'конечно', 'всю', 'между']\n"
     ]
    }
   ],
   "source": [
    "from nltk.corpus import stopwords\n",
    "print(stopwords.words('russian'))"
   ]
  },
  {
   "cell_type": "code",
   "execution_count": 71,
   "metadata": {
    "collapsed": true,
    "deletable": true,
    "editable": true,
    "slideshow": {
     "slide_type": "subslide"
    }
   },
   "outputs": [],
   "source": [
    "mystopwords = stopwords.words('russian') + ['это', 'наш' , 'тыс', 'млн', 'млрд', 'также',  'т', 'д']\n",
    "def  remove_stopwords(text, mystopwords = mystopwords):\n",
    "    try:\n",
    "        return \" \".join([token for token in text.split() if not token in mystopwords])\n",
    "    except:\n",
    "        return \"\"\n",
    " "
   ]
  },
  {
   "cell_type": "code",
   "execution_count": 72,
   "metadata": {
    "collapsed": true,
    "deletable": true,
    "editable": true,
    "slideshow": {
     "slide_type": "subslide"
    }
   },
   "outputs": [],
   "source": [
    "m = Mystem()\n",
    "def lemmatize(text, mystem=m):\n",
    "    try:\n",
    "        return \"\".join(m.lemmatize(text)).strip()  \n",
    "    except:\n",
    "        return \" \"\n",
    "\n"
   ]
  },
  {
   "cell_type": "code",
   "execution_count": 73,
   "metadata": {
    "collapsed": true,
    "deletable": true,
    "editable": true,
    "slideshow": {
     "slide_type": "subslide"
    }
   },
   "outputs": [],
   "source": [
    "mystoplemmas = ['который','прошлый','сей', 'свой', 'наш', 'мочь']\n",
    "def  remove_stoplemmas(text, mystoplemmas = mystoplemmas):\n",
    "    try:\n",
    "        return \" \".join([token for token in text.split() if not token in mystoplemmas])\n",
    "    except:\n",
    "        return \"\"\n",
    "\n",
    " "
   ]
  },
  {
   "cell_type": "code",
   "execution_count": 74,
   "metadata": {
    "collapsed": true,
    "deletable": true,
    "editable": true,
    "slideshow": {
     "slide_type": "subslide"
    }
   },
   "outputs": [],
   "source": [
    "df.text = df.text.apply(remove_stopwords) \n",
    "df.text = df.text.apply(lemmatize)\n",
    "df.text = df.text.apply(remove_stoplemmas) "
   ]
  },
  {
   "cell_type": "code",
   "execution_count": 75,
   "metadata": {
    "collapsed": false,
    "deletable": true,
    "editable": true,
    "slideshow": {
     "slide_type": "subslide"
    }
   },
   "outputs": [
    {
     "name": "stdout",
     "output_type": "stream",
     "text": [
      "('россия', 5643)\n",
      "('год', 4750)\n",
      "('москва', 4632)\n",
      "('человек', 4556)\n",
      "('путин', 4357)\n",
      "('президент', 4109)\n",
      "('выборы', 2849)\n",
      "('вопрос', 2672)\n",
      "('российский', 2312)\n",
      "('время', 2261)\n"
     ]
    }
   ],
   "source": [
    "lemmata = []\n",
    "for index, row in df.iterrows():\n",
    "    lemmata += row['text'].split()\n",
    "fd = FreqDist(lemmata)\n",
    "for i in fd.most_common(10):\n",
    "    print(i)"
   ]
  },
  {
   "cell_type": "markdown",
   "metadata": {
    "deletable": true,
    "editable": true,
    "slideshow": {
     "slide_type": "slide"
    }
   },
   "source": [
    "# Синтаксический анализ\n"
   ]
  },
  {
   "cell_type": "markdown",
   "metadata": {
    "deletable": true,
    "editable": true,
    "slideshow": {
     "slide_type": "subslide"
    }
   },
   "source": [
    "## Грамматика зависимостей\n",
    "\n",
    "Я купил кофе в большом магазине\n",
    "\n",
    "![дерево зависимостей](https://habrastorage.org/getpro/geektimes/post_images/67a/b10/baf/67ab10baf90e8f9e321c2e29998e5de8.png)\n",
    "\n",
    "* Все слова в предложении связаны отношением типа \"хозяин-слуга\", имеющим различные подтипы\n",
    "* Узел дерева – слово в предложении\n",
    "* Дуга дерева – отношение подчинения\n",
    "\n",
    "\n",
    "[Универсальные зависимости](http://universaldependencies.org/)\n"
   ]
  },
  {
   "cell_type": "markdown",
   "metadata": {
    "deletable": true,
    "editable": true,
    "slideshow": {
     "slide_type": "subslide"
    }
   },
   "source": [
    "### SyntaxNet \n",
    "\n",
    "[SyntaxNet](https://github.com/tensorflow/models/tree/master/research/syntaxnet) – архитектура синтаксического парсера. Доступны обученные модели для более чем 40 языков, в том числе, для русского.\n",
    "\n",
    "\n",
    "D. Chen and C. D. Manning. A Fast and Accurate Dependency Parser using Neural Networks. EMNLP. 2014."
   ]
  },
  {
   "cell_type": "code",
   "execution_count": 79,
   "metadata": {
    "collapsed": false,
    "deletable": true,
    "editable": true,
    "slideshow": {
     "slide_type": "subslide"
    }
   },
   "outputs": [
    {
     "name": "stdout",
     "output_type": "stream",
     "text": [
      "I syntaxnet/term_frequency_map.cc:103] Loaded 34 terms from ./syntaxnet/models/Russian-SynTagRus/label-map.\n",
      "I syntaxnet/embedding_feature_extractor.cc:35] Features: stack.child(1).label stack.child(1).sibling(-1).label stack.child(-1).label stack.child(-1).sibling(1).label stack.child(2).label stack.child(-2).label stack(1).child(1).label stack(1).child(1).sibling(-1).label stack(1).child(-1).label stack(1).child(-1).sibling(1).label stack(1).child(2).label stack(1).child(-2).label; input.token.morphology-set input(1).token.morphology-set input(2).token.morphology-set input(3).token.morphology-set stack.token.morphology-set stack.child(1).token.morphology-set stack.child(1).sibling(-1).token.morphology-set stack.child(-1).token.morphology-set stack.child(-1).sibling(1).token.morphology-set stack.child(2).token.morphology-set stack.child(-2).token.morphology-set stack(1).token.morphology-set stack(1).child(1).token.morphology-set stack(1).child(1).sibling(-1).token.morphology-set stack(1).child(-1).token.morphology-set stack(1).child(-1).sibling(1).token.morphology-set stack(1).child(2).token.morphology-set stack(1).child(-2).token.morphology-set stack(2).token.morphology-set stack(3).token.morphology-set; input.token.tag input(1).token.tag input(2).token.tag input(3).token.tag stack.token.tag stack.child(1).token.tag stack.child(1).sibling(-1).token.tag stack.child(-1).token.tag stack.child(-1).sibling(1).token.tag stack.child(2).token.tag stack.child(-2).token.tag stack(1).token.tag stack(1).child(1).token.tag stack(1).child(1).sibling(-1).token.tag stack(1).child(-1).token.tag stack(1).child(-1).sibling(1).token.tag stack(1).child(2).token.tag stack(1).child(-2).token.tag stack(2).token.tag stack(3).token.tag; input.token.word input(1).token.word input(2).token.word input(3).token.word stack.token.word stack.child(1).token.word stack.child(1).sibling(-1).token.word stack.child(-1).token.word stack.child(-1).sibling(1).token.word stack.child(2).token.word stack.child(-2).token.word stack(1).token.word stack(1).child(1).token.word stack(1).child(1).sibling(-1).token.word stack(1).child(-1).token.word stack(1).child(-1).sibling(1).token.word stack(1).child(2).token.word stack(1).child(-2).token.word stack(2).token.word stack(3).token.word \n",
      "I syntaxnet/embedding_feature_extractor.cc:36] Embedding names: labels;morphology;tags;words\n",
      "I syntaxnet/embedding_feature_extractor.cc:37] Embedding dims: 32;32;32;64\n",
      "I syntaxnet/term_frequency_map.cc:103] Loaded 66 terms from ./syntaxnet/models/Russian-SynTagRus/morphology-map.\n",
      "I syntaxnet/term_frequency_map.cc:103] Loaded 31 terms from ./syntaxnet/models/Russian-SynTagRus/tag-map.\n",
      "I syntaxnet/term_frequency_map.cc:103] Loaded 103473 terms from ./syntaxnet/models/Russian-SynTagRus/word-map.\n",
      "INFO:tensorflow:Building training network with parameters: feature_sizes: [12 20 20 20] domain_sizes: [    37     66     33 103475]\n",
      "I syntaxnet/term_frequency_map.cc:103] Loaded 34 terms from ./syntaxnet/models/Russian-SynTagRus/label-map.\n",
      "I syntaxnet/embedding_feature_extractor.cc:35] Features: input.capitalization input(1).capitalization input(2).capitalization input(3).capitalization input(-1).capitalization input(-2).capitalization input(-3).capitalization input(-4).capitalization; input.token.char-ngram input(1).token.char-ngram input(2).token.char-ngram input(3).token.char-ngram input(-1).token.char-ngram input(-2).token.char-ngram input(-3).token.char-ngram input(-4).token.char-ngram; input.digit input.hyphen input.token.punctuation-amount input.token.quote; input.token.prefix(length=2) input(1).token.prefix(length=2) input(2).token.prefix(length=2) input(3).token.prefix(length=2) input(-1).token.prefix(length=2) input(-2).token.prefix(length=2) input(-3).token.prefix(length=2) input(-4).token.prefix(length=2); input.token.prefix(length=3) input(1).token.prefix(length=3) input(2).token.prefix(length=3) input(3).token.prefix(length=3) input(-1).token.prefix(length=3) input(-2).token.prefix(length=3) input(-3).token.prefix(length=3) input(-4).token.prefix(length=3); input.token.suffix(length=2) input(1).token.suffix(length=2) input(2).token.suffix(length=2) input(3).token.suffix(length=2) input(-1).token.suffix(length=2) input(-2).token.suffix(length=2) input(-3).token.suffix(length=2) input(-4).token.suffix(length=2); input.token.suffix(length=3) input(1).token.suffix(length=3) input(2).token.suffix(length=3) input(3).token.suffix(length=3) input(-1).token.suffix(length=3) input(-2).token.suffix(length=3) input(-3).token.suffix(length=3) input(-4).token.suffix(length=3); input(-1).pred-tag input(-2).pred-tag input(-3).pred-tag input(-4).pred-tag; input.token.word input(1).token.word input(2).token.word input(3).token.word input(-1).token.word input(-2).token.word input(-3).token.word input(-4).token.word\n",
      "I syntaxnet/embedding_feature_extractor.cc:36] Embedding names: capitalization;char_ngram;other;prefix2;prefix3;suffix2;suffix3;tags;words\n",
      "I syntaxnet/embedding_feature_extractor.cc:37] Embedding dims: 2;16;8;16;16;16;16;16;64\n",
      "I syntaxnet/term_frequency_map.cc:103] Loaded 18749 terms from ./syntaxnet/models/Russian-SynTagRus/char-ngram-map.\n",
      "I syntaxnet/term_frequency_map.cc:103] Loaded 31 terms from ./syntaxnet/models/Russian-SynTagRus/tag-map.\n",
      "I syntaxnet/term_frequency_map.cc:103] Loaded 34 terms from ./syntaxnet/models/Russian-SynTagRus/label-map.\n",
      "I syntaxnet/embedding_feature_extractor.cc:35] Features: input.capitalization input(1).capitalization input(2).capitalization input(3).capitalization input(-1).capitalization input(-2).capitalization input(-3).capitalization input(-4).capitalization; input.token.char-ngram input(1).token.char-ngram input(2).token.char-ngram input(3).token.char-ngram input(-1).token.char-ngram input(-2).token.char-ngram input(-3).token.char-ngram input(-4).token.char-ngram; input.digit input.hyphen input.token.punctuation-amount input.token.quote; input.token.prefix(length=2) input(1).token.prefix(length=2) input(2).token.prefix(length=2) input(3).token.prefix(length=2) input(-1).token.prefix(length=2) input(-2).token.prefix(length=2) input(-3).token.prefix(length=2) input(-4).token.prefix(length=2); input.token.prefix(length=3) input(1).token.prefix(length=3) input(2).token.prefix(length=3) input(3).token.prefix(length=3) input(-1).token.prefix(length=3) input(-2).token.prefix(length=3) input(-3).token.prefix(length=3) input(-4).token.prefix(length=3); input.token.suffix(length=2) input(1).token.suffix(length=2) input(2).token.suffix(length=2) input(3).token.suffix(length=2) input(-1).token.suffix(length=2) input(-2).token.suffix(length=2) input(-3).token.suffix(length=2) input(-4).token.suffix(length=2); input.token.suffix(length=3) input(1).token.suffix(length=3) input(2).token.suffix(length=3) input(3).token.suffix(length=3) input(-1).token.suffix(length=3) input(-2).token.suffix(length=3) input(-3).token.suffix(length=3) input(-4).token.suffix(length=3); input(-1).pred-morph-tag input(-2).pred-morph-tag input(-3).pred-morph-tag input(-4).pred-morph-tag; input.token.word input(1).token.word input(2).token.word input(3).token.word input(-1).token.word input(-2).token.word input(-3).token.word input(-4).token.word\n",
      "I syntaxnet/embedding_feature_extractor.cc:36] Embedding names: capitalization;char_ngram;other;prefix2;prefix3;suffix2;suffix3;tags;words\n",
      "I syntaxnet/embedding_feature_extractor.cc:37] Embedding dims: 2;16;8;16;16;16;16;16;64\n",
      "I syntaxnet/term_frequency_map.cc:103] Loaded 18749 terms from ./syntaxnet/models/Russian-SynTagRus/char-ngram-map.\n",
      "I syntaxnet/term_frequency_map.cc:103] Loaded 103473 terms from ./syntaxnet/models/Russian-SynTagRus/word-map.\n",
      "INFO:tensorflow:Building training network with parameters: feature_sizes: [8 8 4 8 8 8 8 4 8] domain_sizes: [     7  18750      5   8502   8502   7249   7249     34 103475]\n",
      "I syntaxnet/term_frequency_map.cc:103] Loaded 103473 terms from ./syntaxnet/models/Russian-SynTagRus/word-map.\n",
      "INFO:tensorflow:Building training network with parameters: feature_sizes: [8 8 4 8 8 8 8 4 8] domain_sizes: [     7  18750      5   8502   8502   7249   7249    449 103475]\n",
      "I syntaxnet/term_frequency_map.cc:103] Loaded 34 terms from ./syntaxnet/models/Russian-SynTagRus/label-map.\n",
      "I syntaxnet/embedding_feature_extractor.cc:35] Features: stack.child(1).label stack.child(1).sibling(-1).label stack.child(-1).label stack.child(-1).sibling(1).label stack.child(2).label stack.child(-2).label stack(1).child(1).label stack(1).child(1).sibling(-1).label stack(1).child(-1).label stack(1).child(-1).sibling(1).label stack(1).child(2).label stack(1).child(-2).label; input.token.morphology-set input(1).token.morphology-set input(2).token.morphology-set input(3).token.morphology-set stack.token.morphology-set stack.child(1).token.morphology-set stack.child(1).sibling(-1).token.morphology-set stack.child(-1).token.morphology-set stack.child(-1).sibling(1).token.morphology-set stack.child(2).token.morphology-set stack.child(-2).token.morphology-set stack(1).token.morphology-set stack(1).child(1).token.morphology-set stack(1).child(1).sibling(-1).token.morphology-set stack(1).child(-1).token.morphology-set stack(1).child(-1).sibling(1).token.morphology-set stack(1).child(2).token.morphology-set stack(1).child(-2).token.morphology-set stack(2).token.morphology-set stack(3).token.morphology-set; input.token.tag input(1).token.tag input(2).token.tag input(3).token.tag stack.token.tag stack.child(1).token.tag stack.child(1).sibling(-1).token.tag stack.child(-1).token.tag stack.child(-1).sibling(1).token.tag stack.child(2).token.tag stack.child(-2).token.tag stack(1).token.tag stack(1).child(1).token.tag stack(1).child(1).sibling(-1).token.tag stack(1).child(-1).token.tag stack(1).child(-1).sibling(1).token.tag stack(1).child(2).token.tag stack(1).child(-2).token.tag stack(2).token.tag stack(3).token.tag; input.token.word input(1).token.word input(2).token.word input(3).token.word stack.token.word stack.child(1).token.word stack.child(1).sibling(-1).token.word stack.child(-1).token.word stack.child(-1).sibling(1).token.word stack.child(2).token.word stack.child(-2).token.word stack(1).token.word stack(1).child(1).token.word stack(1).child(1).sibling(-1).token.word stack(1).child(-1).token.word stack(1).child(-1).sibling(1).token.word stack(1).child(2).token.word stack(1).child(-2).token.word stack(2).token.word stack(3).token.word \n",
      "I syntaxnet/embedding_feature_extractor.cc:36] Embedding names: labels;morphology;tags;words\n",
      "I syntaxnet/embedding_feature_extractor.cc:37] Embedding dims: 32;32;32;64\n",
      "I syntaxnet/term_frequency_map.cc:103] Loaded 66 terms from ./syntaxnet/models/Russian-SynTagRus/morphology-map.\n",
      "I syntaxnet/term_frequency_map.cc:103] Loaded 31 terms from ./syntaxnet/models/Russian-SynTagRus/tag-map.\n",
      "I syntaxnet/term_frequency_map.cc:103] Loaded 103473 terms from ./syntaxnet/models/Russian-SynTagRus/word-map.\n",
      "I syntaxnet/term_frequency_map.cc:103] Loaded 31 terms from ./syntaxnet/models/Russian-SynTagRus/tag-map.\n",
      "I syntaxnet/term_frequency_map.cc:103] Loaded 34 terms from ./syntaxnet/models/Russian-SynTagRus/label-map.\n",
      "I syntaxnet/embedding_feature_extractor.cc:35] Features: input.capitalization input(1).capitalization input(2).capitalization input(3).capitalization input(-1).capitalization input(-2).capitalization input(-3).capitalization input(-4).capitalization; input.token.char-ngram input(1).token.char-ngram input(2).token.char-ngram input(3).token.char-ngram input(-1).token.char-ngram input(-2).token.char-ngram input(-3).token.char-ngram input(-4).token.char-ngram; input.digit input.hyphen input.token.punctuation-amount input.token.quote; input.token.prefix(length=2) input(1).token.prefix(length=2) input(2).token.prefix(length=2) input(3).token.prefix(length=2) input(-1).token.prefix(length=2) input(-2).token.prefix(length=2) input(-3).token.prefix(length=2) input(-4).token.prefix(length=2); input.token.prefix(length=3) input(1).token.prefix(length=3) input(2).token.prefix(length=3) input(3).token.prefix(length=3) input(-1).token.prefix(length=3) input(-2).token.prefix(length=3) input(-3).token.prefix(length=3) input(-4).token.prefix(length=3); input.token.suffix(length=2) input(1).token.suffix(length=2) input(2).token.suffix(length=2) input(3).token.suffix(length=2) input(-1).token.suffix(length=2) input(-2).token.suffix(length=2) input(-3).token.suffix(length=2) input(-4).token.suffix(length=2); input.token.suffix(length=3) input(1).token.suffix(length=3) input(2).token.suffix(length=3) input(3).token.suffix(length=3) input(-1).token.suffix(length=3) input(-2).token.suffix(length=3) input(-3).token.suffix(length=3) input(-4).token.suffix(length=3); input(-1).pred-tag input(-2).pred-tag input(-3).pred-tag input(-4).pred-tag; input.token.word input(1).token.word input(2).token.word input(3).token.word input(-1).token.word input(-2).token.word input(-3).token.word input(-4).token.word\n",
      "I syntaxnet/embedding_feature_extractor.cc:36] Embedding names: capitalization;char_ngram;other;prefix2;prefix3;suffix2;suffix3;tags;words\n",
      "I syntaxnet/embedding_feature_extractor.cc:37] Embedding dims: 2;16;8;16;16;16;16;16;64\n",
      "I syntaxnet/term_frequency_map.cc:103] Loaded 18749 terms from ./syntaxnet/models/Russian-SynTagRus/char-ngram-map.\n",
      "I syntaxnet/term_frequency_map.cc:103] Loaded 103473 terms from ./syntaxnet/models/Russian-SynTagRus/word-map.\n",
      "I syntaxnet/term_frequency_map.cc:103] Loaded 34 terms from ./syntaxnet/models/Russian-SynTagRus/label-map.\n",
      "I syntaxnet/embedding_feature_extractor.cc:35] Features: input.capitalization input(1).capitalization input(2).capitalization input(3).capitalization input(-1).capitalization input(-2).capitalization input(-3).capitalization input(-4).capitalization; input.token.char-ngram input(1).token.char-ngram input(2).token.char-ngram input(3).token.char-ngram input(-1).token.char-ngram input(-2).token.char-ngram input(-3).token.char-ngram input(-4).token.char-ngram; input.digit input.hyphen input.token.punctuation-amount input.token.quote; input.token.prefix(length=2) input(1).token.prefix(length=2) input(2).token.prefix(length=2) input(3).token.prefix(length=2) input(-1).token.prefix(length=2) input(-2).token.prefix(length=2) input(-3).token.prefix(length=2) input(-4).token.prefix(length=2); input.token.prefix(length=3) input(1).token.prefix(length=3) input(2).token.prefix(length=3) input(3).token.prefix(length=3) input(-1).token.prefix(length=3) input(-2).token.prefix(length=3) input(-3).token.prefix(length=3) input(-4).token.prefix(length=3); input.token.suffix(length=2) input(1).token.suffix(length=2) input(2).token.suffix(length=2) input(3).token.suffix(length=2) input(-1).token.suffix(length=2) input(-2).token.suffix(length=2) input(-3).token.suffix(length=2) input(-4).token.suffix(length=2); input.token.suffix(length=3) input(1).token.suffix(length=3) input(2).token.suffix(length=3) input(3).token.suffix(length=3) input(-1).token.suffix(length=3) input(-2).token.suffix(length=3) input(-3).token.suffix(length=3) input(-4).token.suffix(length=3); input(-1).pred-morph-tag input(-2).pred-morph-tag input(-3).pred-morph-tag input(-4).pred-morph-tag; input.token.word input(1).token.word input(2).token.word input(3).token.word input(-1).token.word input(-2).token.word input(-3).token.word input(-4).token.word\n",
      "I syntaxnet/embedding_feature_extractor.cc:36] Embedding names: capitalization;char_ngram;other;prefix2;prefix3;suffix2;suffix3;tags;words\n",
      "I syntaxnet/embedding_feature_extractor.cc:37] Embedding dims: 2;16;8;16;16;16;16;16;64\n",
      "I syntaxnet/term_frequency_map.cc:103] Loaded 18749 terms from ./syntaxnet/models/Russian-SynTagRus/char-ngram-map.\n",
      "I syntaxnet/term_frequency_map.cc:103] Loaded 103473 terms from ./syntaxnet/models/Russian-SynTagRus/word-map.\n",
      "INFO:tensorflow:Processed 1 documents\n",
      "INFO:tensorflow:Total processed documents: 1\n",
      "INFO:tensorflow:num correct tokens: 0\n",
      "INFO:tensorflow:total tokens: 8\n",
      "INFO:tensorflow:Seconds elapsed in evaluation: 0.16, eval metric: 0.00%\n",
      "INFO:tensorflow:Processed 1 documents\n",
      "INFO:tensorflow:Total processed documents: 1\n",
      "INFO:tensorflow:num correct tokens: 0\n",
      "INFO:tensorflow:total tokens: 8\n",
      "INFO:tensorflow:Seconds elapsed in evaluation: 0.81, eval metric: 0.00%\n",
      "INFO:tensorflow:Processed 1 documents\n",
      "INFO:tensorflow:Total processed documents: 1\n",
      "INFO:tensorflow:num correct tokens: 1\n",
      "INFO:tensorflow:total tokens: 8\n",
      "INFO:tensorflow:Seconds elapsed in evaluation: 1.89, eval metric: 12.50%\n",
      "1\tНа\t_\tADP\t_\tfPOS=ADP++\t2\tcase\t_\t_\n",
      "2\tсеверо-западе\t_\tNOUN\t_\tAnimacy=Inan|Case=Loc|Gender=Masc|Number=Sing|fPOS=NOUN++\t6\tnmod\t_\t_\n",
      "3\tМосквы\t_\tNOUN\t_\tAnimacy=Inan|Case=Gen|Gender=Fem|Number=Sing|fPOS=NOUN++\t2\tdobj\t_\t_\n",
      "4\tдва\t_\tNUM\t_\tCase=Nom|Gender=Masc|fPOS=NUM++\t5\tnummod\t_\t_\n",
      "5\tподростка\t_\tNOUN\t_\tAnimacy=Anim|Case=Gen|Gender=Masc|Number=Sing|fPOS=NOUN++\t6\tnsubj\t_\t_\n",
      "6\tпровалились\t_\tVERB\t_\tAspect=Perf|Mood=Ind|Number=Plur|Tense=Past|VerbForm=Fin|Voice=Act|fPOS=VERB++\t0\tROOT\t_\t_\n",
      "7\tпод\t_\tADP\t_\tfPOS=ADP++\t8\tcase\t_\t_\n",
      "8\tлед\t_\tNOUN\t_\tAnimacy=Inan|Case=Acc|Gender=Masc|Number=Sing|fPOS=NOUN++\t6\tdobj\t_\t_\n",
      "\n"
     ]
    }
   ],
   "source": [
    "!echo \"На северо-западе Москвы два подростка провалились под лед\" | docker run --rm -i inemo/syntaxnet_rus"
   ]
  },
  {
   "cell_type": "code",
   "execution_count": 78,
   "metadata": {
    "collapsed": false,
    "deletable": true,
    "editable": true,
    "slideshow": {
     "slide_type": "subslide"
    }
   },
   "outputs": [
    {
     "name": "stdout",
     "output_type": "stream",
     "text": [
      "I syntaxnet/term_frequency_map.cc:103] Loaded 34 terms from ./syntaxnet/models/Russian-SynTagRus/label-map.\n",
      "I syntaxnet/embedding_feature_extractor.cc:35] Features: stack.child(1).label stack.child(1).sibling(-1).label stack.child(-1).label stack.child(-1).sibling(1).label stack.child(2).label stack.child(-2).label stack(1).child(1).label stack(1).child(1).sibling(-1).label stack(1).child(-1).label stack(1).child(-1).sibling(1).label stack(1).child(2).label stack(1).child(-2).label; input.token.morphology-set input(1).token.morphology-set input(2).token.morphology-set input(3).token.morphology-set stack.token.morphology-set stack.child(1).token.morphology-set stack.child(1).sibling(-1).token.morphology-set stack.child(-1).token.morphology-set stack.child(-1).sibling(1).token.morphology-set stack.child(2).token.morphology-set stack.child(-2).token.morphology-set stack(1).token.morphology-set stack(1).child(1).token.morphology-set stack(1).child(1).sibling(-1).token.morphology-set stack(1).child(-1).token.morphology-set stack(1).child(-1).sibling(1).token.morphology-set stack(1).child(2).token.morphology-set stack(1).child(-2).token.morphology-set stack(2).token.morphology-set stack(3).token.morphology-set; input.token.tag input(1).token.tag input(2).token.tag input(3).token.tag stack.token.tag stack.child(1).token.tag stack.child(1).sibling(-1).token.tag stack.child(-1).token.tag stack.child(-1).sibling(1).token.tag stack.child(2).token.tag stack.child(-2).token.tag stack(1).token.tag stack(1).child(1).token.tag stack(1).child(1).sibling(-1).token.tag stack(1).child(-1).token.tag stack(1).child(-1).sibling(1).token.tag stack(1).child(2).token.tag stack(1).child(-2).token.tag stack(2).token.tag stack(3).token.tag; input.token.word input(1).token.word input(2).token.word input(3).token.word stack.token.word stack.child(1).token.word stack.child(1).sibling(-1).token.word stack.child(-1).token.word stack.child(-1).sibling(1).token.word stack.child(2).token.word stack.child(-2).token.word stack(1).token.word stack(1).child(1).token.word stack(1).child(1).sibling(-1).token.word stack(1).child(-1).token.word stack(1).child(-1).sibling(1).token.word stack(1).child(2).token.word stack(1).child(-2).token.word stack(2).token.word stack(3).token.word \n",
      "I syntaxnet/embedding_feature_extractor.cc:36] Embedding names: labels;morphology;tags;words\n",
      "I syntaxnet/embedding_feature_extractor.cc:37] Embedding dims: 32;32;32;64\n",
      "I syntaxnet/term_frequency_map.cc:103] Loaded 66 terms from ./syntaxnet/models/Russian-SynTagRus/morphology-map.\n",
      "I syntaxnet/term_frequency_map.cc:103] Loaded 31 terms from ./syntaxnet/models/Russian-SynTagRus/tag-map.\n",
      "I syntaxnet/term_frequency_map.cc:103] Loaded 34 terms from ./syntaxnet/models/Russian-SynTagRus/label-map.\n",
      "I syntaxnet/embedding_feature_extractor.cc:35] Features: input.capitalization input(1).capitalization input(2).capitalization input(3).capitalization input(-1).capitalization input(-2).capitalization input(-3).capitalization input(-4).capitalization; input.token.char-ngram input(1).token.char-ngram input(2).token.char-ngram input(3).token.char-ngram input(-1).token.char-ngram input(-2).token.char-ngram input(-3).token.char-ngram input(-4).token.char-ngram; input.digit input.hyphen input.token.punctuation-amount input.token.quote; input.token.prefix(length=2) input(1).token.prefix(length=2) input(2).token.prefix(length=2) input(3).token.prefix(length=2) input(-1).token.prefix(length=2) input(-2).token.prefix(length=2) input(-3).token.prefix(length=2) input(-4).token.prefix(length=2); input.token.prefix(length=3) input(1).token.prefix(length=3) input(2).token.prefix(length=3) input(3).token.prefix(length=3) input(-1).token.prefix(length=3) input(-2).token.prefix(length=3) input(-3).token.prefix(length=3) input(-4).token.prefix(length=3); input.token.suffix(length=2) input(1).token.suffix(length=2) input(2).token.suffix(length=2) input(3).token.suffix(length=2) input(-1).token.suffix(length=2) input(-2).token.suffix(length=2) input(-3).token.suffix(length=2) input(-4).token.suffix(length=2); input.token.suffix(length=3) input(1).token.suffix(length=3) input(2).token.suffix(length=3) input(3).token.suffix(length=3) input(-1).token.suffix(length=3) input(-2).token.suffix(length=3) input(-3).token.suffix(length=3) input(-4).token.suffix(length=3); input(-1).pred-tag input(-2).pred-tag input(-3).pred-tag input(-4).pred-tag; input.token.word input(1).token.word input(2).token.word input(3).token.word input(-1).token.word input(-2).token.word input(-3).token.word input(-4).token.word\n",
      "I syntaxnet/embedding_feature_extractor.cc:36] Embedding names: capitalization;char_ngram;other;prefix2;prefix3;suffix2;suffix3;tags;words\n",
      "I syntaxnet/embedding_feature_extractor.cc:37] Embedding dims: 2;16;8;16;16;16;16;16;64\n",
      "I syntaxnet/term_frequency_map.cc:103] Loaded 18749 terms from ./syntaxnet/models/Russian-SynTagRus/char-ngram-map.\n",
      "I syntaxnet/term_frequency_map.cc:103] Loaded 31 terms from ./syntaxnet/models/Russian-SynTagRus/tag-map.\n",
      "I syntaxnet/term_frequency_map.cc:103] Loaded 103473 terms from ./syntaxnet/models/Russian-SynTagRus/word-map.\n",
      "I syntaxnet/term_frequency_map.cc:103] Loaded 34 terms from ./syntaxnet/models/Russian-SynTagRus/label-map.\n",
      "I syntaxnet/embedding_feature_extractor.cc:35] Features: input.capitalization input(1).capitalization input(2).capitalization input(3).capitalization input(-1).capitalization input(-2).capitalization input(-3).capitalization input(-4).capitalization; input.token.char-ngram input(1).token.char-ngram input(2).token.char-ngram input(3).token.char-ngram input(-1).token.char-ngram input(-2).token.char-ngram input(-3).token.char-ngram input(-4).token.char-ngram; input.digit input.hyphen input.token.punctuation-amount input.token.quote; input.token.prefix(length=2) input(1).token.prefix(length=2) input(2).token.prefix(length=2) input(3).token.prefix(length=2) input(-1).token.prefix(length=2) input(-2).token.prefix(length=2) input(-3).token.prefix(length=2) input(-4).token.prefix(length=2); input.token.prefix(length=3) input(1).token.prefix(length=3) input(2).token.prefix(length=3) input(3).token.prefix(length=3) input(-1).token.prefix(length=3) input(-2).token.prefix(length=3) input(-3).token.prefix(length=3) input(-4).token.prefix(length=3); input.token.suffix(length=2) input(1).token.suffix(length=2) input(2).token.suffix(length=2) input(3).token.suffix(length=2) input(-1).token.suffix(length=2) input(-2).token.suffix(length=2) input(-3).token.suffix(length=2) input(-4).token.suffix(length=2); input.token.suffix(length=3) input(1).token.suffix(length=3) input(2).token.suffix(length=3) input(3).token.suffix(length=3) input(-1).token.suffix(length=3) input(-2).token.suffix(length=3) input(-3).token.suffix(length=3) input(-4).token.suffix(length=3); input(-1).pred-morph-tag input(-2).pred-morph-tag input(-3).pred-morph-tag input(-4).pred-morph-tag; input.token.word input(1).token.word input(2).token.word input(3).token.word input(-1).token.word input(-2).token.word input(-3).token.word input(-4).token.word\n",
      "I syntaxnet/embedding_feature_extractor.cc:36] Embedding names: capitalization;char_ngram;other;prefix2;prefix3;suffix2;suffix3;tags;words\n",
      "I syntaxnet/embedding_feature_extractor.cc:37] Embedding dims: 2;16;8;16;16;16;16;16;64\n",
      "INFO:tensorflow:Building training network with parameters: feature_sizes: [8 8 4 8 8 8 8 4 8] domain_sizes: [     7  18750      5   8502   8502   7249   7249     34 103475]\n",
      "I syntaxnet/term_frequency_map.cc:103] Loaded 103473 terms from ./syntaxnet/models/Russian-SynTagRus/word-map.\n",
      "I syntaxnet/term_frequency_map.cc:103] Loaded 18749 terms from ./syntaxnet/models/Russian-SynTagRus/char-ngram-map.\n",
      "INFO:tensorflow:Building training network with parameters: feature_sizes: [12 20 20 20] domain_sizes: [    37     66     33 103475]\n",
      "I syntaxnet/term_frequency_map.cc:103] Loaded 103473 terms from ./syntaxnet/models/Russian-SynTagRus/word-map.\n",
      "INFO:tensorflow:Building training network with parameters: feature_sizes: [8 8 4 8 8 8 8 4 8] domain_sizes: [     7  18750      5   8502   8502   7249   7249    449 103475]\n",
      "I syntaxnet/term_frequency_map.cc:103] Loaded 34 terms from ./syntaxnet/models/Russian-SynTagRus/label-map.\n",
      "I syntaxnet/embedding_feature_extractor.cc:35] Features: stack.child(1).label stack.child(1).sibling(-1).label stack.child(-1).label stack.child(-1).sibling(1).label stack.child(2).label stack.child(-2).label stack(1).child(1).label stack(1).child(1).sibling(-1).label stack(1).child(-1).label stack(1).child(-1).sibling(1).label stack(1).child(2).label stack(1).child(-2).label; input.token.morphology-set input(1).token.morphology-set input(2).token.morphology-set input(3).token.morphology-set stack.token.morphology-set stack.child(1).token.morphology-set stack.child(1).sibling(-1).token.morphology-set stack.child(-1).token.morphology-set stack.child(-1).sibling(1).token.morphology-set stack.child(2).token.morphology-set stack.child(-2).token.morphology-set stack(1).token.morphology-set stack(1).child(1).token.morphology-set stack(1).child(1).sibling(-1).token.morphology-set stack(1).child(-1).token.morphology-set stack(1).child(-1).sibling(1).token.morphology-set stack(1).child(2).token.morphology-set stack(1).child(-2).token.morphology-set stack(2).token.morphology-set stack(3).token.morphology-set; input.token.tag input(1).token.tag input(2).token.tag input(3).token.tag stack.token.tag stack.child(1).token.tag stack.child(1).sibling(-1).token.tag stack.child(-1).token.tag stack.child(-1).sibling(1).token.tag stack.child(2).token.tag stack.child(-2).token.tag stack(1).token.tag stack(1).child(1).token.tag stack(1).child(1).sibling(-1).token.tag stack(1).child(-1).token.tag stack(1).child(-1).sibling(1).token.tag stack(1).child(2).token.tag stack(1).child(-2).token.tag stack(2).token.tag stack(3).token.tag; input.token.word input(1).token.word input(2).token.word input(3).token.word stack.token.word stack.child(1).token.word stack.child(1).sibling(-1).token.word stack.child(-1).token.word stack.child(-1).sibling(1).token.word stack.child(2).token.word stack.child(-2).token.word stack(1).token.word stack(1).child(1).token.word stack(1).child(1).sibling(-1).token.word stack(1).child(-1).token.word stack(1).child(-1).sibling(1).token.word stack(1).child(2).token.word stack(1).child(-2).token.word stack(2).token.word stack(3).token.word \n",
      "I syntaxnet/embedding_feature_extractor.cc:36] Embedding names: labels;morphology;tags;words\n",
      "I syntaxnet/embedding_feature_extractor.cc:37] Embedding dims: 32;32;32;64\n",
      "I syntaxnet/term_frequency_map.cc:103] Loaded 66 terms from ./syntaxnet/models/Russian-SynTagRus/morphology-map.\n",
      "I syntaxnet/term_frequency_map.cc:103] Loaded 31 terms from ./syntaxnet/models/Russian-SynTagRus/tag-map.\n",
      "I syntaxnet/term_frequency_map.cc:103] Loaded 103473 terms from ./syntaxnet/models/Russian-SynTagRus/word-map.\n",
      "I syntaxnet/term_frequency_map.cc:103] Loaded 31 terms from ./syntaxnet/models/Russian-SynTagRus/tag-map.\n",
      "I syntaxnet/term_frequency_map.cc:103] Loaded 34 terms from ./syntaxnet/models/Russian-SynTagRus/label-map.\n",
      "I syntaxnet/embedding_feature_extractor.cc:35] Features: input.capitalization input(1).capitalization input(2).capitalization input(3).capitalization input(-1).capitalization input(-2).capitalization input(-3).capitalization input(-4).capitalization; input.token.char-ngram input(1).token.char-ngram input(2).token.char-ngram input(3).token.char-ngram input(-1).token.char-ngram input(-2).token.char-ngram input(-3).token.char-ngram input(-4).token.char-ngram; input.digit input.hyphen input.token.punctuation-amount input.token.quote; input.token.prefix(length=2) input(1).token.prefix(length=2) input(2).token.prefix(length=2) input(3).token.prefix(length=2) input(-1).token.prefix(length=2) input(-2).token.prefix(length=2) input(-3).token.prefix(length=2) input(-4).token.prefix(length=2); input.token.prefix(length=3) input(1).token.prefix(length=3) input(2).token.prefix(length=3) input(3).token.prefix(length=3) input(-1).token.prefix(length=3) input(-2).token.prefix(length=3) input(-3).token.prefix(length=3) input(-4).token.prefix(length=3); input.token.suffix(length=2) input(1).token.suffix(length=2) input(2).token.suffix(length=2) input(3).token.suffix(length=2) input(-1).token.suffix(length=2) input(-2).token.suffix(length=2) input(-3).token.suffix(length=2) input(-4).token.suffix(length=2); input.token.suffix(length=3) input(1).token.suffix(length=3) input(2).token.suffix(length=3) input(3).token.suffix(length=3) input(-1).token.suffix(length=3) input(-2).token.suffix(length=3) input(-3).token.suffix(length=3) input(-4).token.suffix(length=3); input(-1).pred-tag input(-2).pred-tag input(-3).pred-tag input(-4).pred-tag; input.token.word input(1).token.word input(2).token.word input(3).token.word input(-1).token.word input(-2).token.word input(-3).token.word input(-4).token.word\n",
      "I syntaxnet/embedding_feature_extractor.cc:36] Embedding names: capitalization;char_ngram;other;prefix2;prefix3;suffix2;suffix3;tags;words\n",
      "I syntaxnet/embedding_feature_extractor.cc:37] Embedding dims: 2;16;8;16;16;16;16;16;64\n",
      "I syntaxnet/term_frequency_map.cc:103] Loaded 18749 terms from ./syntaxnet/models/Russian-SynTagRus/char-ngram-map.\n",
      "I syntaxnet/term_frequency_map.cc:103] Loaded 103473 terms from ./syntaxnet/models/Russian-SynTagRus/word-map.\n",
      "I syntaxnet/term_frequency_map.cc:103] Loaded 34 terms from ./syntaxnet/models/Russian-SynTagRus/label-map.\n",
      "I syntaxnet/embedding_feature_extractor.cc:35] Features: input.capitalization input(1).capitalization input(2).capitalization input(3).capitalization input(-1).capitalization input(-2).capitalization input(-3).capitalization input(-4).capitalization; input.token.char-ngram input(1).token.char-ngram input(2).token.char-ngram input(3).token.char-ngram input(-1).token.char-ngram input(-2).token.char-ngram input(-3).token.char-ngram input(-4).token.char-ngram; input.digit input.hyphen input.token.punctuation-amount input.token.quote; input.token.prefix(length=2) input(1).token.prefix(length=2) input(2).token.prefix(length=2) input(3).token.prefix(length=2) input(-1).token.prefix(length=2) input(-2).token.prefix(length=2) input(-3).token.prefix(length=2) input(-4).token.prefix(length=2); input.token.prefix(length=3) input(1).token.prefix(length=3) input(2).token.prefix(length=3) input(3).token.prefix(length=3) input(-1).token.prefix(length=3) input(-2).token.prefix(length=3) input(-3).token.prefix(length=3) input(-4).token.prefix(length=3); input.token.suffix(length=2) input(1).token.suffix(length=2) input(2).token.suffix(length=2) input(3).token.suffix(length=2) input(-1).token.suffix(length=2) input(-2).token.suffix(length=2) input(-3).token.suffix(length=2) input(-4).token.suffix(length=2); input.token.suffix(length=3) input(1).token.suffix(length=3) input(2).token.suffix(length=3) input(3).token.suffix(length=3) input(-1).token.suffix(length=3) input(-2).token.suffix(length=3) input(-3).token.suffix(length=3) input(-4).token.suffix(length=3); input(-1).pred-morph-tag input(-2).pred-morph-tag input(-3).pred-morph-tag input(-4).pred-morph-tag; input.token.word input(1).token.word input(2).token.word input(3).token.word input(-1).token.word input(-2).token.word input(-3).token.word input(-4).token.word\n",
      "I syntaxnet/embedding_feature_extractor.cc:36] Embedding names: capitalization;char_ngram;other;prefix2;prefix3;suffix2;suffix3;tags;words\n",
      "I syntaxnet/embedding_feature_extractor.cc:37] Embedding dims: 2;16;8;16;16;16;16;16;64\n",
      "I syntaxnet/term_frequency_map.cc:103] Loaded 18749 terms from ./syntaxnet/models/Russian-SynTagRus/char-ngram-map.\n",
      "I syntaxnet/term_frequency_map.cc:103] Loaded 103473 terms from ./syntaxnet/models/Russian-SynTagRus/word-map.\n",
      "INFO:tensorflow:Processed 6 documents\n",
      "INFO:tensorflow:Total processed documents: 6\n",
      "INFO:tensorflow:num correct tokens: 0\n",
      "INFO:tensorflow:total tokens: 48\n",
      "INFO:tensorflow:Seconds elapsed in evaluation: 0.24, eval metric: 0.00%\n",
      "INFO:tensorflow:Processed 6 documents\n",
      "INFO:tensorflow:Total processed documents: 6\n",
      "INFO:tensorflow:num correct tokens: 0\n",
      "INFO:tensorflow:total tokens: 48\n",
      "INFO:tensorflow:Seconds elapsed in evaluation: 0.52, eval metric: 0.00%\n",
      "INFO:tensorflow:Processed 6 documents\n",
      "INFO:tensorflow:Total processed documents: 6\n",
      "INFO:tensorflow:num correct tokens: 6\n",
      "INFO:tensorflow:total tokens: 48\n",
      "INFO:tensorflow:Seconds elapsed in evaluation: 1.30, eval metric: 12.50%\n"
     ]
    }
   ],
   "source": [
    "! cat ../data/sentences.txt | docker run --rm -i inemo/syntaxnet_rus > ../data/sentences.conll"
   ]
  },
  {
   "cell_type": "code",
   "execution_count": null,
   "metadata": {
    "collapsed": true,
    "deletable": true,
    "editable": true,
    "slideshow": {
     "slide_type": "subslide"
    }
   },
   "outputs": [],
   "source": [
    "Обработка conll файлов:"
   ]
  },
  {
   "cell_type": "code",
   "execution_count": 91,
   "metadata": {
    "collapsed": false,
    "deletable": true,
    "editable": true,
    "slideshow": {
     "slide_type": "fragment"
    }
   },
   "outputs": [],
   "source": [
    "from nltk import DependencyGraph\n",
    "import codecs\n",
    "\n",
    "processed_sentences = []\n",
    "sentence = []\n",
    "for line in codecs.open('data.conll', 'r', 'utf-8'):\n",
    "    if len(line) == 1:\n",
    "        processed_sentences.append(sentence)\n",
    "        sentence = []\n",
    "    else:\n",
    "        word = line.split(\"\\t\")\n",
    "        sentence.append(word)\n",
    "\n",
    "deps = []\n",
    "for sentence in processed_sentences:\n",
    "    s = u\"\"\n",
    "    for line in sentence:\n",
    "        s += u\"\\t\".join(line) + u'\\n'\n",
    "    deps.append(s)\n"
   ]
  },
  {
   "cell_type": "code",
   "execution_count": null,
   "metadata": {
    "collapsed": true,
    "deletable": true,
    "editable": true,
    "slideshow": {
     "slide_type": "subslide"
    }
   },
   "outputs": [],
   "source": [
    "Синтаксические деревья:"
   ]
  },
  {
   "cell_type": "code",
   "execution_count": 93,
   "metadata": {
    "collapsed": false,
    "deletable": true,
    "editable": true,
    "slideshow": {
     "slide_type": "fragment"
    }
   },
   "outputs": [
    {
     "name": "stdout",
     "output_type": "stream",
     "text": [
      "               испек                           \n",
      "   ______________|__________                    \n",
      "  |       |      |       помощью               \n",
      "  |       |      |     _____|__________         \n",
      "  |       |      |    |            интеллекта  \n",
      "  |       |      |    |                |        \n",
      "Google печенье   .    с          искусственного\n",
      "\n",
      "None\n",
      "             стал             \n",
      "    __________|_______         \n",
      "   |     |         звездой    \n",
      "   |     |     _______|_____   \n",
      "   |     |    |       |    НХЛ\n",
      "   |     |    |       |     |  \n",
      "Овечкин  .  первой   дня    в \n",
      "\n",
      "None\n",
      "    задержали                           \n",
      "  ______|_______________                 \n",
      " |      |         подозреваемого        \n",
      " |      |               |                \n",
      " |    Кубани         убийстве           \n",
      " |      |       ________|___________     \n",
      " .      На     в                 двойном\n",
      "\n",
      "None\n",
      "    вынес                   \n",
      "  ____|_______________       \n",
      " |    |      |     приговор \n",
      " |    |      |        |      \n",
      " |    |   Ростове   банде   \n",
      " |    |      |        |      \n",
      "суд   .      В    «амазонок»\n",
      "\n",
      "None\n",
      "                   закрасили                      \n",
      "     __________________|____________               \n",
      "    |        |         |         жертвам          \n",
      "    |        |         |            |              \n",
      "    |        |         |         теракта          \n",
      "    |        |         |            |              \n",
      "    |        |         |          метро           \n",
      "    |        |         |       _____|________      \n",
      "Чиновники мемориал     .      в          питерском\n",
      "\n",
      "None\n",
      "     продлил              \n",
      "  ______|____________      \n",
      " |      |      |  контракт\n",
      " |      |      |     |     \n",
      " |      |      |  Гуламом \n",
      " |      |      |     |     \n",
      "Клуб «Наполи»  .     с    \n",
      "\n",
      "None\n"
     ]
    }
   ],
   "source": [
    "for sent_dep in deps:\n",
    "    graph = DependencyGraph(tree_str=sent_dep)\n",
    "    tree = graph.tree()\n",
    "    print(tree.pretty_print())"
   ]
  },
  {
   "cell_type": "code",
   "execution_count": null,
   "metadata": {
    "collapsed": true,
    "deletable": true,
    "editable": true,
    "slideshow": {
     "slide_type": "subslide"
    }
   },
   "outputs": [],
   "source": [
    "Тройки слово-слово-связь:"
   ]
  },
  {
   "cell_type": "code",
   "execution_count": 89,
   "metadata": {
    "collapsed": false,
    "deletable": true,
    "editable": true,
    "slideshow": {
     "slide_type": "fragment"
    }
   },
   "outputs": [
    {
     "name": "stdout",
     "output_type": "stream",
     "text": [
      "[(('испек', 'VERB'), 'dobj', ('Google', 'NOUN')), (('испек', 'VERB'), 'nmod', ('помощью', 'NOUN')), (('помощью', 'NOUN'), 'case', ('с', 'ADP')), (('помощью', 'NOUN'), 'nmod', ('интеллекта', 'NOUN')), (('интеллекта', 'NOUN'), 'amod', ('искусственного', 'ADJ')), (('испек', 'VERB'), 'nsubj', ('печенье', 'NOUN')), (('испек', 'VERB'), 'punct', ('.', 'PUNCT'))]\n",
      "\n",
      "[(('стал', 'VERB'), 'nsubj', ('Овечкин', 'NOUN')), (('стал', 'VERB'), 'nmod', ('звездой', 'NOUN')), (('звездой', 'NOUN'), 'amod', ('первой', 'ADJ')), (('звездой', 'NOUN'), 'nmod', ('дня', 'NOUN')), (('звездой', 'NOUN'), 'nmod', ('НХЛ', 'NOUN')), (('НХЛ', 'NOUN'), 'case', ('в', 'ADP')), (('стал', 'VERB'), 'punct', ('.', 'PUNCT'))]\n",
      "\n",
      "[(('задержали', 'VERB'), 'nmod', ('Кубани', 'NOUN')), (('Кубани', 'NOUN'), 'case', ('На', 'ADP')), (('задержали', 'VERB'), 'dobj', ('подозреваемого', 'NOUN')), (('подозреваемого', 'NOUN'), 'nmod', ('убийстве', 'NOUN')), (('убийстве', 'NOUN'), 'case', ('в', 'ADP')), (('убийстве', 'NOUN'), 'amod', ('двойном', 'ADJ')), (('задержали', 'VERB'), 'punct', ('.', 'PUNCT'))]\n",
      "\n",
      "[(('вынес', 'VERB'), 'nmod', ('Ростове', 'NOUN')), (('Ростове', 'NOUN'), 'case', ('В', 'ADP')), (('вынес', 'VERB'), 'nsubj', ('суд', 'NOUN')), (('вынес', 'VERB'), 'dobj', ('приговор', 'NOUN')), (('приговор', 'NOUN'), 'nmod', ('банде', 'NOUN')), (('банде', 'NOUN'), 'nmod', ('«амазонок»', 'NOUN')), (('вынес', 'VERB'), 'punct', ('.', 'PUNCT'))]\n",
      "\n",
      "[(('закрасили', 'VERB'), 'nsubj', ('Чиновники', 'NOUN')), (('закрасили', 'VERB'), 'dobj', ('мемориал', 'NOUN')), (('закрасили', 'VERB'), 'nmod', ('жертвам', 'NOUN')), (('жертвам', 'NOUN'), 'nmod', ('теракта', 'NOUN')), (('теракта', 'NOUN'), 'nmod', ('метро', 'NOUN')), (('метро', 'NOUN'), 'case', ('в', 'ADP')), (('метро', 'NOUN'), 'amod', ('питерском', 'ADJ')), (('закрасили', 'VERB'), 'punct', ('.', 'PUNCT'))]\n",
      "\n",
      "[(('продлил', 'VERB'), 'nsubj', ('Клуб', 'NOUN')), (('продлил', 'VERB'), 'advmod', ('«Наполи»', 'ADV')), (('продлил', 'VERB'), 'dobj', ('контракт', 'NOUN')), (('контракт', 'NOUN'), 'nmod', ('Гуламом', 'NOUN')), (('Гуламом', 'NOUN'), 'case', ('с', 'ADP')), (('продлил', 'VERB'), 'punct', ('.', 'PUNCT'))]\n",
      "\n"
     ]
    }
   ],
   "source": [
    "for sent_dep in deps:\n",
    "    graph = DependencyGraph(tree_str=sent_dep)\n",
    "    print([triple for triple in (graph.triples())])\n",
    "    print()"
   ]
  },
  {
   "cell_type": "markdown",
   "metadata": {
    "deletable": true,
    "editable": true,
    "slideshow": {
     "slide_type": "subslide"
    }
   },
   "source": [
    "Тройки субьект-объект-глагол:"
   ]
  },
  {
   "cell_type": "code",
   "execution_count": 83,
   "metadata": {
    "collapsed": false,
    "deletable": true,
    "editable": true,
    "slideshow": {
     "slide_type": "fragment"
    }
   },
   "outputs": [
    {
     "name": "stdout",
     "output_type": "stream",
     "text": [
      "испек {'subj': 'печенье', 'obj': 'Google'}\n",
      "стал {'subj': 'Овечкин', 'obj': ''}\n",
      "задержали {'subj': '', 'obj': 'подозреваемого'}\n",
      "вынес {'subj': 'суд', 'obj': 'приговор'}\n",
      "закрасили {'subj': 'Чиновники', 'obj': 'мемориал'}\n",
      "продлил {'subj': 'Клуб', 'obj': 'контракт'}\n"
     ]
    }
   ],
   "source": [
    "for sent_dep in deps:\n",
    "    graph = DependencyGraph(tree_str=sent_dep)\n",
    "    sov = {}\n",
    "    for triple in graph.triples():\n",
    "        if triple:\n",
    "            if triple[0][1] == 'VERB':\n",
    "                sov[triple[0][0]] = {'subj':'','obj':''}\n",
    "    for triple in graph.triples():\n",
    "        if triple:\n",
    "            if triple[1] == 'nsubj':\n",
    "                if triple[0][1] == 'VERB':\n",
    "                    sov[triple[0][0]]['subj']  = triple[2][0]\n",
    "            if triple[1] == 'dobj':\n",
    "                if triple[0][1] == 'VERB':\n",
    "                    sov[triple[0][0]]['obj'] = triple[2][0]\n",
    "\n",
    "    for verb in sov:\n",
    "        print(verb,sov[verb])"
   ]
  },
  {
   "cell_type": "markdown",
   "metadata": {
    "deletable": true,
    "editable": true,
    "slideshow": {
     "slide_type": "slide"
    }
   },
   "source": [
    "## Задание 5\n",
    "Измените код выше так, чтобы учитывались:\n",
    "    1. Однородные члены предложения \n",
    "        * (парк, площадка), (Германия, Щвейцария)\n",
    "    2. Сложные сказуемые \n",
    "        * (начнет продавать), (запретил провозить)\n",
    "    3. Непрямые объекты\n",
    "        * (едет, Польшу), (спел, скандале)"
   ]
  }
 ],
 "metadata": {
  "celltoolbar": "Slideshow",
  "kernelspec": {
   "display_name": "Python 3",
   "language": "python",
   "name": "python3"
  },
  "language_info": {
   "codemirror_mode": {
    "name": "ipython",
    "version": 3
   },
   "file_extension": ".py",
   "mimetype": "text/x-python",
   "name": "python",
   "nbconvert_exporter": "python",
   "pygments_lexer": "ipython3",
   "version": "3.6.0"
  }
 },
 "nbformat": 4,
 "nbformat_minor": 2
}
