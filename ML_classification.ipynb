{
 "cells": [
  {
   "cell_type": "code",
   "execution_count": 1,
   "metadata": {
    "collapsed": true,
    "deletable": true,
    "editable": true,
    "slideshow": {
     "slide_type": "skip"
    }
   },
   "outputs": [],
   "source": [
    "from IPython.display import Image"
   ]
  },
  {
   "cell_type": "markdown",
   "metadata": {
    "deletable": true,
    "editable": true,
    "slideshow": {
     "slide_type": "slide"
    }
   },
   "source": [
    "\n",
    "\n",
    "# Классификация текстов\n",
    "\n",
    "## Екатерина Черняк\n",
    "\n",
    "echernyak@hse.ru\n",
    "\n"
   ]
  },
  {
   "cell_type": "markdown",
   "metadata": {
    "deletable": true,
    "editable": true,
    "slideshow": {
     "slide_type": "slide"
    }
   },
   "source": [
    "## Постановка задачи\n",
    "\n",
    "* $d \\in D$ – документы\n",
    "* $c \\in C$ – классы \n"
   ]
  },
  {
   "cell_type": "markdown",
   "metadata": {
    "deletable": true,
    "editable": true,
    "slideshow": {
     "slide_type": "fragment"
    }
   },
   "source": [
    "* Бинарная классификация: $C = \\{0, 1\\}$ \n",
    "* Многоклассовая классификация [multiclass classification]: $C = \\{0, ..., K\\}$\n",
    "* Многотемная классификация [multi-label classification]: $C = \\{0,1\\}^K$"
   ]
  },
  {
   "cell_type": "markdown",
   "metadata": {
    "deletable": true,
    "editable": true,
    "slideshow": {
     "slide_type": "slide"
    }
   },
   "source": [
    "## Примеры\n",
    "\n",
    "* Фильтрация спама: $C = \\{spam, ham\\}$ – бинарная классификация\n",
    "* Классификация по тональности: $C =  \\{neutral, positive, negative\\}$ – классификация с тремя классами\n",
    "* Рубрикация: $C \\in \\{религия, праздники, спорт, фестивали, ... \\}$ – классификация на несколько тем\n",
    "* Определение авторства:\n",
    "    * Этим ли автором написан текст: $ C = \\{0, 1\\}$?\n",
    "    * Кем из этих авторов написан текст: $ C = \\{a_1, a_2, a_3, ... \\}$?\n",
    "    * Пол автора: $ C = \\{f, m\\}$\n"
   ]
  },
  {
   "cell_type": "markdown",
   "metadata": {
    "deletable": true,
    "editable": true,
    "slideshow": {
     "slide_type": "slide"
    }
   },
   "source": [
    "## Методы классификации\n"
   ]
  },
  {
   "cell_type": "markdown",
   "metadata": {
    "deletable": true,
    "editable": true,
    "slideshow": {
     "slide_type": "subslide"
    }
   },
   "source": [
    "### По правилам\n",
    "\n",
    "* Если в предложении встречается личное местоимение первого лица и глагол с окончанием женского рода, то пол автора = $f$.\n",
    "* Если доля положительно окрашенных прилагательтельных в отзыве больше доли отрицательно окрашенных прилагательных, то отзыв относится к классу $posititive$.\n"
   ]
  },
  {
   "cell_type": "markdown",
   "metadata": {
    "deletable": true,
    "editable": true,
    "slideshow": {
     "slide_type": "subslide"
    }
   },
   "source": [
    "### С использованием алгоритмов машинного обучения \n",
    "\n",
    "$ \\gamma : D \\rightarrow C$ - алгоритм классификации\n",
    "\n",
    "$({D^{train}, C^{train}})$ – обучающее множество \n",
    "\n",
    "$({D^{test}, C^{test}})$ – тестовое множество \n",
    "\n",
    "#### Основные методы\n",
    "* Метод наивного Байеса\n",
    "* Логистическая регрессия \n",
    "* Сверточные нейронные сети\n",
    "* FastText"
   ]
  },
  {
   "cell_type": "markdown",
   "metadata": {
    "deletable": true,
    "editable": true,
    "slideshow": {
     "slide_type": "slide"
    }
   },
   "source": [
    "## Меры качества бинарной классификации \n",
    "\n",
    "<table>\n",
    "  <tr>\n",
    "    <th colspan=\"2\" rowspan=\"2\"></th>\n",
    "    <th colspan=\"2\">gold <br>standart</th>\n",
    "  </tr>\n",
    "  <tr>\n",
    "    <td>positive</td>\n",
    "    <td>negative</td>\n",
    "  </tr>\n",
    "  <tr>\n",
    "    <td rowspan=\"2\">classification <br>output</td>\n",
    "    <td>positive</td>\n",
    "    <td>$tp$</td>\n",
    "    <td>$fp$</td>\n",
    "  </tr>\n",
    "  <tr>\n",
    "    <td>negative</td>\n",
    "    <td>$fn$</td>\n",
    "    <td>$tn$</td>\n",
    "  </tr>\n",
    "</table>\n"
   ]
  },
  {
   "cell_type": "markdown",
   "metadata": {
    "deletable": true,
    "editable": true,
    "slideshow": {
     "slide_type": "fragment"
    }
   },
   "source": [
    "$precision = Pr =  \\frac{tp}{tp+fp} $ – точность \n",
    "\n",
    "$recall = R = \\frac{tp}{tp+fn} $ – полнота \n",
    "\n",
    "$F_2 = \\frac{2 Pr * R}{Pr + R}$ – $F$-мера \n",
    "\n",
    "$accuracy = \\frac{tp + tn}{tp + fp + fn + tn}$ –  аккуратность  "
   ]
  },
  {
   "cell_type": "markdown",
   "metadata": {
    "deletable": true,
    "editable": true,
    "slideshow": {
     "slide_type": "subslide"
    }
   },
   "source": [
    "## Меры качества многоклассовой классификации \n",
    "\n",
    "<table>\n",
    "  <tr>\n",
    "    <th></th>\n",
    "    <th></th>\n",
    "    <th colspan=\"3\">gold <br>standart</th>\n",
    "  </tr>\n",
    "  <tr>\n",
    "    <td></td>\n",
    "    <td></td>\n",
    "    <td>$class_1$</td>\n",
    "    <td>$class_2$</td>\n",
    "    <td>$class_3$</td>\n",
    "  </tr>\n",
    "  <tr>\n",
    "    <td rowspan=\"3\">classification <br>output</td>\n",
    "    <td>$class_1$</td>\n",
    "    <td>$tp_1$</td>\n",
    "    <td>$fp_{12}$</td>\n",
    "    <td>$fp_{13}$</td>\n",
    "  </tr>\n",
    "  <tr>\n",
    "    <td>$class_2$</td>\n",
    "    <td>$fn_{21}$</td>\n",
    "    <td>$tp_2$</td>\n",
    "    <td>$fp_{23}$</td>\n",
    "  </tr>\n",
    "  <tr>\n",
    "    <td>$class_3$</td>\n",
    "    <td>$fn_{31}$</td>\n",
    "    <td>$fn_{32}$</td>\n",
    "    <td>$tp_3$</td>\n",
    "  </tr>\n",
    "</table>\n"
   ]
  },
  {
   "cell_type": "markdown",
   "metadata": {
    "deletable": true,
    "editable": true,
    "slideshow": {
     "slide_type": "subslide"
    }
   },
   "source": [
    "Микро-усреднение:\n",
    "\n",
    "$micro-precision = micro-Pr =  \\frac{\\sum tp_i}{\\sum tp_i + \\sum fp_i} $ \n",
    "\n",
    "$micro-recall = micro-R = \\frac{\\sum tp_i}{\\sum tp_i+ \\sum fn_i } $\n",
    "\n",
    "Макро-усреднение:\n",
    "\n",
    "$macro-precision = macro-Pr =  \\frac{\\sum Pr_i}{|C|} $\n",
    "\n",
    "$macro-recall = macro-R = \\frac{\\sum R_i}{|C|} $ \n",
    "\n",
    "\n",
    "\n"
   ]
  },
  {
   "cell_type": "markdown",
   "metadata": {
    "deletable": true,
    "editable": true,
    "slideshow": {
     "slide_type": "slide"
    }
   },
   "source": [
    "## Метод наивного Байеса  [Multinomial naive Bayes classifier]\n",
    "\n",
    "Требуется оценить вероятность принадлежности документа $d \\in D$ классу $c \\in C$: $p(c|d)$. Каждый документ –  мешок слов, всего слов $|V|$.\n",
    "\t\n",
    "$p(c)$ – априорная вероятность класса $c$\n",
    "   \n",
    "$p(c|d)$ – апостериорная вероятность класса $c$\n",
    "\t\n",
    "\t\n",
    "\n",
    "\n"
   ]
  },
  {
   "cell_type": "markdown",
   "metadata": {
    "deletable": true,
    "editable": true,
    "slideshow": {
     "slide_type": "fragment"
    }
   },
   "source": [
    "$ p(c|d) = \\frac{p(d|c)p(c)}{p(d)} $"
   ]
  },
  {
   "cell_type": "markdown",
   "metadata": {
    "deletable": true,
    "editable": true,
    "slideshow": {
     "slide_type": "fragment"
    }
   },
   "source": [
    "Пусть документ $d$ описан признаками $f_1, \\dots, f_N$.\n",
    "\n",
    "$ c_{NB} = \\arg \\max _{c \\in C} p (c|d) = \\arg \\max_{c \\in C}  \\frac{p(d|c)p(c)}{p(d)} \\propto $\n",
    "\t\n",
    "$ \\propto \\arg \\max_{c \\in C} p(d|c)p(c)  = \\arg \\max_{c \\in C} p(f_1, f_2, \\dots, f_{N} | c)p(c)$"
   ]
  },
  {
   "cell_type": "markdown",
   "metadata": {
    "deletable": true,
    "editable": true,
    "slideshow": {
     "slide_type": "subslide"
    }
   },
   "source": [
    "### Предположение о независимости \n",
    "\n",
    "* Мешок слов: порядок слов не имеет значения\n",
    "* Условная независимость (наивное предположение): вероятности признаков $p(x_i|c_j)$ внутри класса $c_j$ независимы\n",
    "\n",
    "$p(f_1, f_2, \\dots, f_{N} | c) \\times  p(c) =   p(f_1|c) \\times p(f_2|c) \\times \\dots \\times p(f_{N}|c)  \\times p(c)$\n",
    "\n"
   ]
  },
  {
   "cell_type": "markdown",
   "metadata": {
    "deletable": true,
    "editable": true,
    "slideshow": {
     "slide_type": "fragment"
    }
   },
   "source": [
    "$C_{NB}=\\arg \\max_{c \\in C} p(c) \\times \\prod_{1 \\le i \\le N} p(f_i|c) $"
   ]
  },
  {
   "cell_type": "markdown",
   "metadata": {
    "deletable": true,
    "editable": true,
    "slideshow": {
     "slide_type": "fragment"
    }
   },
   "source": [
    "Допустим, что признаки $f_i$ – слова $w_i$, а $\\texttt{positions}$ – все позиции слов в документе.\n",
    "\n",
    "\n",
    "$C_{NB} = p(c) \\times \\prod_{i \\in \\texttt{positions}} p(w_i|c) $"
   ]
  },
  {
   "cell_type": "markdown",
   "metadata": {
    "deletable": true,
    "editable": true,
    "slideshow": {
     "slide_type": "subslide"
    }
   },
   "source": [
    "<img src=\"img/bow.png\" width=\"600\">"
   ]
  },
  {
   "cell_type": "markdown",
   "metadata": {
    "deletable": true,
    "editable": true,
    "slideshow": {
     "slide_type": "subslide"
    }
   },
   "source": [
    "### Обучение наивного Байесовского классификатора\n",
    "\n",
    "#### ММП оценки вероятностей:\n",
    "\t\n",
    "$ \\widehat{p_(c_j)} = \\frac{| \\{d| d \\in c_j\\} |}{|D|} $\n",
    "\t\n",
    "$ \\widehat{p(w_i | c_j)} = \\frac{\\texttt{count}(w_i, c_j)}{\\sum_{w \\in V} \\texttt{count}(w, c_j)} $\n",
    "\t\n",
    "Создаем $|C|$ мегадокументов: каждый документ = все документы в одном классе, склеенные в один мегадокумент и вычисляем частоты $w$ в мегадокументах.\n",
    "\t\n"
   ]
  },
  {
   "cell_type": "markdown",
   "metadata": {
    "deletable": true,
    "editable": true,
    "slideshow": {
     "slide_type": "subslide"
    }
   },
   "source": [
    "#### Проблема нулевых вероятностей:  \n",
    "\n",
    "$\\texttt{count}(w_i, c_j)$ может быть равно нулю. \n",
    "\n",
    "Допустим, что каждое слово встречается как минимум $\\alpha$ раз в мешке слов.\n",
    "\t\n",
    "Преобразование Лапласа: $ \\frac{+\\alpha}{+\\alpha |V|}$\n",
    "\t\n",
    "$ \\widehat{p(w_i | c_j)} = \\frac{\\texttt{count}(w_i, c_j) + \\alpha}{(\\sum_{w \\in V} \\texttt{count}(w, c_j)) + \\alpha |V| } $"
   ]
  },
  {
   "cell_type": "markdown",
   "metadata": {
    "deletable": true,
    "editable": true,
    "slideshow": {
     "slide_type": "subslide"
    }
   },
   "source": [
    "### Пример. Тематическая классификация\n",
    "\t\n",
    "    \n",
    "\n",
    "\n",
    "<table>\n",
    "  <tr>\n",
    "    <th></th>\n",
    "    <th>документ</th>\n",
    "    <th>класс</th>\n",
    "  </tr>\n",
    "  <tr>\n",
    "    <td rowspan=\"4\">обучающее<br>множество</td>\n",
    "    <td>Chinese Beijing Chinese</td>\n",
    "    <td>c</td>\n",
    "  </tr>\n",
    "  <tr>\n",
    "    <td>Chinese Chinese Shanghai</td>\n",
    "    <td>c</td>\n",
    "  </tr>\n",
    "  <tr>\n",
    "    <td>Chinese Macao</td>\n",
    "    <td>c</td>\n",
    "  </tr>\n",
    "  <tr>\n",
    "    <td>Tokyo Japan Chinese</td>\n",
    "    <td>j</td>\n",
    "  </tr>\n",
    "  <tr>\n",
    "    <td>тестовое<br>множество</td>\n",
    "    <td>Chinese Chinese Chinese Tokyo Japan</td>\n",
    "    <td>?</td>\n",
    "  </tr>\n",
    "</table>\n",
    "\n"
   ]
  },
  {
   "cell_type": "markdown",
   "metadata": {
    "deletable": true,
    "editable": true,
    "slideshow": {
     "slide_type": "subslide"
    }
   },
   "source": [
    "\n",
    "$p(c) =\\frac{3}{4}$,$p(j) = \\frac{1}{4}$\n",
    "\n",
    "$p(\\texttt{Chinese|c)}= (5+1)/(8+6)=6/14=3/7$  \n",
    "\n",
    "$p(\\texttt{Chinese|j)}= (1+1)/(3+6)=2/9$  \n",
    "\n",
    "$p(\\texttt{Tokyo|c)}= (0+1)/(8+6)=1/14$  \n",
    "\n",
    "$p(\\texttt{Tokyo|j)}= (1+1)/(3+6)=2/9$  \n",
    "\n",
    "$p(\\texttt{Japan|c)}= (0+1)/(8+6)=1/14$  \n",
    "\n",
    "$p(\\texttt{Japan|j)}= (1+1)/(3+6)=2/9$\n"
   ]
  },
  {
   "cell_type": "markdown",
   "metadata": {
    "deletable": true,
    "editable": true,
    "slideshow": {
     "slide_type": "subslide"
    }
   },
   "source": [
    "$p(c|d_5) = 3/4 \\times (3/7)^3 \\times 1/14 \\times 1/14 \\approx 0.0003$\n",
    "\n",
    "$p(j|d_5) = 1/4 \\times (2/9)^3 \\times 2/9 \\times 2/9 \\approx 0.0001$"
   ]
  },
  {
   "cell_type": "markdown",
   "metadata": {
    "deletable": true,
    "editable": true,
    "slideshow": {
     "slide_type": "subslide"
    }
   },
   "source": [
    "### Мультиномиальный наивный Байсовский классификатор\n",
    "\n",
    "Слова в тексте распределены по мультиномиальному закону:\n",
    "\n",
    "$ p(d |c )={\\frac {(\\sum _{i}x_{i})!}{\\prod _{i}x_{i}!}}\\prod _{i}{p_{ki}}^{x_{i}} $\n"
   ]
  },
  {
   "cell_type": "code",
   "execution_count": 2,
   "metadata": {
    "collapsed": false,
    "deletable": true,
    "editable": true,
    "slideshow": {
     "slide_type": "slide"
    }
   },
   "outputs": [],
   "source": [
    "from sklearn.datasets import fetch_20newsgroups\n",
    "\n",
    "categories = ['alt.atheism', 'soc.religion.christian', 'comp.graphics', 'sci.med']\n",
    "twenty_train = fetch_20newsgroups(subset='train', categories=categories, shuffle=True, random_state=42)"
   ]
  },
  {
   "cell_type": "code",
   "execution_count": 3,
   "metadata": {
    "collapsed": false,
    "deletable": true,
    "editable": true,
    "slideshow": {
     "slide_type": "subslide"
    }
   },
   "outputs": [
    {
     "data": {
      "text/plain": [
       "(2257, 35788)"
      ]
     },
     "execution_count": 3,
     "metadata": {},
     "output_type": "execute_result"
    }
   ],
   "source": [
    "from sklearn.feature_extraction.text import CountVectorizer\n",
    "count_vect = CountVectorizer()\n",
    "X_train_counts = count_vect.fit_transform(twenty_train.data)\n",
    "X_train_counts.shape"
   ]
  },
  {
   "cell_type": "code",
   "execution_count": 4,
   "metadata": {
    "collapsed": true,
    "deletable": true,
    "editable": true,
    "slideshow": {
     "slide_type": "subslide"
    }
   },
   "outputs": [],
   "source": [
    "from sklearn.naive_bayes import MultinomialNB\n",
    "clf = MultinomialNB().fit(X_train_counts, twenty_train.target)"
   ]
  },
  {
   "cell_type": "code",
   "execution_count": 5,
   "metadata": {
    "collapsed": true,
    "deletable": true,
    "editable": true,
    "slideshow": {
     "slide_type": "subslide"
    }
   },
   "outputs": [],
   "source": [
    "import numpy as np\n",
    "from sklearn.metrics import *\n",
    "twenty_test = fetch_20newsgroups(subset='test', categories=categories, \n",
    "                                 shuffle=True, random_state=42)\n",
    "X_test = count_vect.transform(twenty_test.data)\n",
    "predicted = clf.predict(X_test)"
   ]
  },
  {
   "cell_type": "code",
   "execution_count": 6,
   "metadata": {
    "collapsed": false,
    "deletable": true,
    "editable": true,
    "slideshow": {
     "slide_type": "subslide"
    }
   },
   "outputs": [
    {
     "name": "stdout",
     "output_type": "stream",
     "text": [
      "acc=0.9341\n",
      "micro F1=0.9341, micro P=0.9341, micro R=0.9341\n",
      "macro F1=0.9330, macro P=0.9330, macro R=0.9330\n",
      "\n"
     ]
    }
   ],
   "source": [
    "acc = accuracy_score(predicted, twenty_test.target)\n",
    "micro_f1 = f1_score(predicted, twenty_test.target, average = 'micro')\n",
    "micro_p = f1_score(predicted, twenty_test.target, average = 'micro')\n",
    "micro_r = f1_score(predicted, twenty_test.target, average = 'micro')\n",
    "macro_f1 = f1_score(predicted, twenty_test.target, average = 'macro')\n",
    "macro_p = f1_score(predicted, twenty_test.target, average = 'macro')\n",
    "macro_r = f1_score(predicted, twenty_test.target, average = 'macro')\n",
    "print('acc={0:1.4f}'.format(acc))\n",
    "print('micro F1={0:1.4f}, micro P={1:1.4f}, micro R={2:1.4f}'.format(micro_f1, micro_p, micro_r))\n",
    "print('macro F1={0:1.4f}, macro P={1:1.4f}, macro R={2:1.4f}\\n'.format(macro_f1, macro_p, macro_r))"
   ]
  },
  {
   "cell_type": "code",
   "execution_count": 7,
   "metadata": {
    "collapsed": false,
    "deletable": true,
    "editable": true,
    "slideshow": {
     "slide_type": "subslide"
    }
   },
   "outputs": [
    {
     "name": "stdout",
     "output_type": "stream",
     "text": [
      "God is love => soc.religion.christian\n",
      "OpenGL on the GPU is fast => comp.graphics\n"
     ]
    }
   ],
   "source": [
    "docs_new = ['God is love', 'OpenGL on the GPU is fast']\n",
    "X_new_counts = count_vect.transform(docs_new)\n",
    "predicted = clf.predict(X_new_counts)\n",
    "\n",
    "for doc, category in zip(docs_new, predicted):\n",
    "    print('{} => {}'.format(doc, twenty_train.target_names[category]))"
   ]
  },
  {
   "cell_type": "markdown",
   "metadata": {
    "deletable": true,
    "editable": true,
    "slideshow": {
     "slide_type": "slide"
    }
   },
   "source": [
    "## Логистическая регрессия (метод максимальной энтропии [MaxEnt])\n",
    "\n",
    "Требуется оценить вероятность принадлежности документа $d \\in D$ классу $c \\in C$: $p(c|d)$. Пусть заданы признаки  $f_i \\in F$ – множество признаков и  $w_i$ – их веса. \n",
    "\n",
    "Признаки могут зависеть от классов: $f_i(c,d)$  \n",
    "\n",
    "Линейная комбинация этих признаков: $\\sum_{i=1}^k w_i f_i(c,d)$.  "
   ]
  },
  {
   "cell_type": "markdown",
   "metadata": {
    "deletable": true,
    "editable": true,
    "slideshow": {
     "slide_type": "fragment"
    }
   },
   "source": [
    "Как связана $\\sum_{i=1}^k w_i f_i(c,x)$ и $p(c|d)$?\n",
    "\t\n",
    "$p(c|d) = \\frac{1}{Z} e^{\\sum_{i=1}^k w_i f_i(c,d)},$\n",
    "\t\n",
    "где $\\frac{1}{Z} = \\frac{1}{\\sum_{c' \\in C} e^{\\sum_{i=1}^k w_i f_i(c',d)} }.$"
   ]
  },
  {
   "cell_type": "markdown",
   "metadata": {
    "deletable": true,
    "editable": true,
    "slideshow": {
     "slide_type": "subslide"
    }
   },
   "source": [
    "$ \\widehat{c} = \\texttt{argmax}_{c \\in C} p (c|d) = \\texttt{argmax}_{c \\in C} \\frac{e^{\\sum_{i=1}^k w_i f_i(c,d)}}{\\sum_{c' \\in C} e^{\\sum_{i=1}^k w_i f_i(c',d)}}  \\propto  \\texttt{argmax}_{c \\in C} e^{\\sum_{i=1}^k w_i f_i(c,d)}   \\propto  \\texttt{argmax}_{c \\in C} \\sum_{i=1}^k w_i f_i(c,d).  $\n"
   ]
  },
  {
   "cell_type": "markdown",
   "metadata": {
    "deletable": true,
    "editable": true,
    "slideshow": {
     "slide_type": "subslide"
    }
   },
   "source": [
    "### Пример. Классификация по тональности на $C = <+,->$\n",
    "\t\n",
    "Используем индикаторные признаки\n",
    "\t\n",
    "\n",
    "*... there are virtually no surprises, and the writing is second-rate. So why did I enjoy it so much? For one thing, the cast is great ...*\n",
    "\t \n",
    "\n",
    "<table>\n",
    "  <tr>\n",
    "    <th>признак</th>\n",
    "    <th>значение</th>\n",
    "    <th></th>\n",
    "    <th>вес</th>\n",
    "  </tr>\n",
    "  <tr>\n",
    "    <td>$f_1$</td>\n",
    "    <td>1</td>\n",
    "    <td> \"great\" $\\in d$ и $c=+$</td>\n",
    "    <td rowspan=\"2\">1.9</td>\n",
    "  </tr>\n",
    "  <tr>\n",
    "    <td></td>\n",
    "    <td>0</td>\n",
    "    <td>иначе</td>\n",
    "  </tr>\n",
    "  \n",
    "   <tr>\n",
    "    <td>$f_2$</td>\n",
    "    <td>1</td>\n",
    "    <td>\"second-rate\" $\\in d$ и $c=-$</td>\n",
    "    <td rowspan=\"2\">0.9</td>\n",
    "  </tr>\n",
    "  <tr>\n",
    "    <td></td>\n",
    "    <td>0</td>\n",
    "    <td>иначе</td>\n",
    "  </tr>\n",
    "\n",
    "   <tr>\n",
    "    <td>$f_3$</td>\n",
    "    <td>1</td>\n",
    "    <td>\"no\" $\\in d$ и $c=-$ </td>\n",
    "    <td rowspan=\"2\">0.7</td>\n",
    "  </tr>\n",
    "  <tr>\n",
    "    <td></td>\n",
    "    <td>0</td>\n",
    "    <td>иначе</td>\n",
    "  </tr>\n",
    "  \n",
    "   <tr>\n",
    "    <td>$f_4$</td>\n",
    "    <td>1</td>\n",
    "    <td>\"enjoy\" $\\in d$ и $c=-$ </td>\n",
    "    <td rowspan=\"2\">-0.8</td>\n",
    "  </tr>\n",
    "  <tr>\n",
    "    <td></td>\n",
    "    <td>0</td>\n",
    "    <td>иначе</td>\n",
    "  </tr>\n",
    "\n",
    "   <tr>\n",
    "    <td>$f_4$</td>\n",
    "    <td>1</td>\n",
    "    <td>\"great\" $\\in d$ и $c=-$ </td>\n",
    "    <td rowspan=\"2\">-0.6</td>\n",
    "  </tr>\n",
    "  <tr>\n",
    "    <td></td>\n",
    "    <td>0</td>\n",
    "    <td>иначе</td>\n",
    "  </tr>\n",
    "\n",
    "\n",
    "\n",
    "\n",
    "</table>\n",
    "\t\n",
    "\n",
    "\n",
    "\n",
    "\n"
   ]
  },
  {
   "cell_type": "markdown",
   "metadata": {
    "deletable": true,
    "editable": true,
    "slideshow": {
     "slide_type": "subslide"
    }
   },
   "source": [
    "класс $+$:  $1.9 + 0 + 0 + 0 + 0 = 1.9$\n",
    "\t\n",
    "класс $-$: $0 + 0.9 + 0.7 - 0.8 - 0.6 =0.2$"
   ]
  },
  {
   "cell_type": "markdown",
   "metadata": {
    "deletable": true,
    "editable": true,
    "slideshow": {
     "slide_type": "fragment"
    }
   },
   "source": [
    "$p(+|d) = \\frac{e^{1.9}}{e^{1.9}+e^{0.2}}$\n",
    "\t\n",
    "$p(-|d) = \\frac{e^{0.2}}{e^{1.9}+e^{0.2}}$"
   ]
  },
  {
   "cell_type": "markdown",
   "metadata": {
    "deletable": true,
    "editable": true,
    "slideshow": {
     "slide_type": "subslide"
    }
   },
   "source": [
    "### Поиск весов логистической регрессии\n",
    "\n",
    "Для каждой пары $(c,d)$: $ \\widehat{w} = \\texttt{argmax}_{w} \\log p(c|d) $\n",
    "\t\t\n",
    "Максимизация логарифмического правдоподобия: $L(w) =  \\sum_{j} \\log p(c_{j}|d) $\n",
    "\t\n",
    "При использовании индикаторных признаков, методы выпуклой оптимизации позволяют выбрать модель с максимальной энтропией."
   ]
  },
  {
   "cell_type": "code",
   "execution_count": 8,
   "metadata": {
    "collapsed": true,
    "deletable": true,
    "editable": true,
    "slideshow": {
     "slide_type": "slide"
    }
   },
   "outputs": [],
   "source": [
    "from sklearn.linear_model import LogisticRegression\n",
    "clf = LogisticRegression().fit(X_train_counts, twenty_train.target)\n",
    "predicted = clf.predict(X_test)"
   ]
  },
  {
   "cell_type": "code",
   "execution_count": 9,
   "metadata": {
    "collapsed": false,
    "deletable": true,
    "editable": true,
    "slideshow": {
     "slide_type": "subslide"
    }
   },
   "outputs": [
    {
     "name": "stdout",
     "output_type": "stream",
     "text": [
      "acc=0.9008\n",
      "micro F1=0.9008, micro P=0.9008, micro R=0.9008\n",
      "macro F1=0.8978, macro P=0.8978, macro R=0.8978\n",
      "\n"
     ]
    }
   ],
   "source": [
    "acc = accuracy_score(predicted, twenty_test.target)\n",
    "micro_f1 = f1_score(predicted, twenty_test.target, average = 'micro')\n",
    "micro_p = f1_score(predicted, twenty_test.target, average = 'micro')\n",
    "micro_r = f1_score(predicted, twenty_test.target, average = 'micro')\n",
    "macro_f1 = f1_score(predicted, twenty_test.target, average = 'macro')\n",
    "macro_p = f1_score(predicted, twenty_test.target, average = 'macro')\n",
    "macro_r = f1_score(predicted, twenty_test.target, average = 'macro')\n",
    "print('acc={0:1.4f}'.format(acc))\n",
    "print('micro F1={0:1.4f}, micro P={1:1.4f}, micro R={2:1.4f}'.format(micro_f1, micro_p, micro_r))\n",
    "print('macro F1={0:1.4f}, macro P={1:1.4f}, macro R={2:1.4f}\\n'.format(macro_f1, macro_p, macro_r))"
   ]
  },
  {
   "cell_type": "code",
   "execution_count": 10,
   "metadata": {
    "collapsed": false,
    "deletable": true,
    "editable": true,
    "slideshow": {
     "slide_type": "subslide"
    }
   },
   "outputs": [
    {
     "name": "stdout",
     "output_type": "stream",
     "text": [
      "God is love => soc.religion.christian\n",
      "OpenGL on the GPU is fast => comp.graphics\n"
     ]
    }
   ],
   "source": [
    "predicted = clf.predict(X_new_counts)\n",
    "\n",
    "for doc, category in zip(docs_new, predicted):\n",
    "    print('{} => {}'.format(doc, twenty_train.target_names[category]))"
   ]
  },
  {
   "cell_type": "markdown",
   "metadata": {
    "deletable": true,
    "editable": true,
    "slideshow": {
     "slide_type": "slide"
    }
   },
   "source": [
    "# FastText [Joulin et al, 2016]\n",
    "\n",
    "* Архитектура нейронной сети похожа на CBOW [Mikolov et al. (2013)]\n",
    "* Признаками могут быть не только слова, но и $n$-грамы\n",
    "* Входной слой нейронной сети: вектора слов (или  $n$-грам)\n",
    "* На скрытом слое вектора слов суммируются и усредняются\n",
    "* На выходном слое – $softmax$ (или иерархический $softmax$)\n",
    "* Полученное представление текста может быть переиспользовано в других задачах \n",
    "\n",
    "\n",
    "<img src=\"img/ft.png\" width=\"600\">\n",
    "\n",
    "A. Joulin, E. Grave, P. Bojanowski, T. Mikolov, Bag of Tricks for Efficient Text Classification\n",
    "\n",
    "\n",
    "[GitHub](https://github.com/facebookresearch/fastText)"
   ]
  },
  {
   "cell_type": "markdown",
   "metadata": {
    "deletable": true,
    "editable": true,
    "slideshow": {
     "slide_type": "subslide"
    }
   },
   "source": [
    "## Реализация FastText\n",
    "\n",
    "1. [FastText](https://github.com/facebookresearch/fastText)\n",
    "2. [keras](https://github.com/fchollet/keras/blob/master/examples/imdb_fasttext.py)"
   ]
  },
  {
   "cell_type": "markdown",
   "metadata": {
    "deletable": true,
    "editable": true,
    "slideshow": {
     "slide_type": "slide"
    }
   },
   "source": [
    "# Другие методы классификации\n",
    "\n",
    "**Линейные методы**: \n",
    "* Метод опорных векторов [Support vector machine, SVM]\n",
    "\n",
    "**Деревья решений**:\n",
    "* Дерево решений [Decision tree]\n",
    "* Градиентный бустинг [Xgboost]\n",
    "* Случайный лес [Random forest]\n",
    "\n",
    "Общая идея: слова или $n$-грамы (термы) – это признаки, тексты – объекты, т.е. матрица терм-документ\n",
    "\n",
    "\n"
   ]
  },
  {
   "cell_type": "markdown",
   "metadata": {
    "deletable": true,
    "editable": true,
    "slideshow": {
     "slide_type": "slide"
    }
   },
   "source": [
    "# Кроссвалидация\n",
    "\n",
    "![title](img/cv.png)"
   ]
  },
  {
   "cell_type": "markdown",
   "metadata": {
    "deletable": true,
    "editable": true,
    "slideshow": {
     "slide_type": "slide"
    }
   },
   "source": [
    "# Отбор признаков\n",
    "\n"
   ]
  },
  {
   "cell_type": "markdown",
   "metadata": {
    "deletable": true,
    "editable": true,
    "slideshow": {
     "slide_type": "subslide"
    }
   },
   "source": [
    "** Веса **:\n",
    "* $tf-idf$, $\\chi^2$ для взвешивания слов\n",
    "* меры ассоциации биграм для отбора биграм: $(P)PMI$, $t-score$\n",
    "\n",
    "\n"
   ]
  },
  {
   "cell_type": "markdown",
   "metadata": {
    "deletable": true,
    "editable": true,
    "slideshow": {
     "slide_type": "subslide"
    }
   },
   "source": [
    "** Уменьшение количества признаков **:\n",
    "* лемматизация\n",
    "* стемминг\n",
    "* удаление стоп-слов\n",
    "* пороги на частоту ($min\\_tf$)\n",
    "* пороги на документную частоту ($max\\_df$)\n",
    "\n",
    "\n"
   ]
  },
  {
   "cell_type": "markdown",
   "metadata": {
    "deletable": true,
    "editable": true,
    "slideshow": {
     "slide_type": "subslide"
    }
   },
   "source": [
    "** Признаки **:\n",
    "* $n$-грамы \n",
    "* символьные $n$-грамы  (подслова, subwords)\n",
    "* именованные сущности \n",
    "* термины\n",
    "* \"не\\_\" + слово \n",
    "* сохраним $N$ самых частых слов, остальные представим подсловами и символьные $n$-грамы\n",
    "\n"
   ]
  },
  {
   "cell_type": "markdown",
   "metadata": {
    "deletable": true,
    "editable": true,
    "slideshow": {
     "slide_type": "subslide"
    }
   },
   "source": [
    "** Снижение размерности **:\n",
    "* скрытые темы в качестве признаков"
   ]
  },
  {
   "cell_type": "markdown",
   "metadata": {
    "deletable": true,
    "editable": true,
    "slideshow": {
     "slide_type": "slide"
    }
   },
   "source": [
    "# Оптимизация гиперпараметров\n",
    "\n",
    "** Гиперпараметры **:\n",
    "* $n$ - длина $n$-грамы\n",
    "* пороги на частоту ($min\\_tf$)\n",
    "* пороги на документную частоту ($max\\_df$)\n",
    "* $\\alpha$ в преобразовании Лапласа \n",
    "* и др.\n",
    "\n",
    "\n",
    "![title](img/gs.png)"
   ]
  },
  {
   "cell_type": "markdown",
   "metadata": {
    "deletable": true,
    "editable": true,
    "slideshow": {
     "slide_type": "slide"
    }
   },
   "source": [
    "# Конвеер в sklearn"
   ]
  },
  {
   "cell_type": "code",
   "execution_count": 19,
   "metadata": {
    "collapsed": false,
    "deletable": true,
    "editable": true,
    "slideshow": {
     "slide_type": "subslide"
    }
   },
   "outputs": [
    {
     "data": {
      "text/plain": [
       "Pipeline(memory=None,\n",
       "     steps=[('vect', CountVectorizer(analyzer='word', binary=False, decode_error='strict',\n",
       "        dtype=<class 'numpy.int64'>, encoding='utf-8', input='content',\n",
       "        lowercase=True, max_df=1.0, max_features=None, min_df=1,\n",
       "        ngram_range=(2, 3), preprocessor=None, stop_words=None,\n",
       "        strip...inear_tf=False, use_idf=True)), ('clf', MultinomialNB(alpha=1.0, class_prior=None, fit_prior=True))])"
      ]
     },
     "execution_count": 19,
     "metadata": {},
     "output_type": "execute_result"
    }
   ],
   "source": [
    "from sklearn.pipeline import Pipeline\n",
    "from sklearn.feature_extraction.text import TfidfTransformer\n",
    "\n",
    "text_clf = Pipeline([('vect', CountVectorizer(ngram_range = (2,3))), \n",
    "                     ('tfidf', TfidfTransformer()), \n",
    "                     ('clf', MultinomialNB())])\n",
    "text_clf"
   ]
  },
  {
   "cell_type": "code",
   "execution_count": 20,
   "metadata": {
    "collapsed": false,
    "deletable": true,
    "editable": true,
    "slideshow": {
     "slide_type": "subslide"
    }
   },
   "outputs": [],
   "source": [
    "text_clf.fit(twenty_train.data, twenty_train.target)  \n",
    "predicted = text_clf.predict(twenty_test.data)"
   ]
  },
  {
   "cell_type": "code",
   "execution_count": 21,
   "metadata": {
    "collapsed": false,
    "deletable": true,
    "editable": true,
    "slideshow": {
     "slide_type": "subslide"
    }
   },
   "outputs": [
    {
     "name": "stdout",
     "output_type": "stream",
     "text": [
      "acc=0.8216\n",
      "micro F1=0.8216, micro P=0.8216, micro R=0.8216\n",
      "macro F1=0.8222, macro P=0.8222, macro R=0.8222\n",
      "\n"
     ]
    }
   ],
   "source": [
    "acc = accuracy_score(predicted, twenty_test.target)\n",
    "micro_f1 = f1_score(predicted, twenty_test.target, average = 'micro')\n",
    "micro_p = f1_score(predicted, twenty_test.target, average = 'micro')\n",
    "micro_r = f1_score(predicted, twenty_test.target, average = 'micro')\n",
    "macro_f1 = f1_score(predicted, twenty_test.target, average = 'macro')\n",
    "macro_p = f1_score(predicted, twenty_test.target, average = 'macro')\n",
    "macro_r = f1_score(predicted, twenty_test.target, average = 'macro')\n",
    "print('acc={0:1.4f}'.format(acc))\n",
    "print('micro F1={0:1.4f}, micro P={1:1.4f}, micro R={2:1.4f}'.format(micro_f1, micro_p, micro_r))\n",
    "print('macro F1={0:1.4f}, macro P={1:1.4f}, macro R={2:1.4f}\\n'.format(macro_f1, macro_p, macro_r))"
   ]
  },
  {
   "cell_type": "code",
   "execution_count": 22,
   "metadata": {
    "collapsed": false,
    "deletable": true,
    "editable": true,
    "slideshow": {
     "slide_type": "subslide"
    }
   },
   "outputs": [
    {
     "name": "stdout",
     "output_type": "stream",
     "text": [
      "God is love => soc.religion.christian\n",
      "OpenGL on the GPU is fast => comp.graphics\n"
     ]
    }
   ],
   "source": [
    "predicted = clf.predict(X_new_counts)\n",
    "\n",
    "for doc, category in zip(docs_new, predicted):\n",
    "    print('{} => {}'.format(doc, twenty_train.target_names[category]))"
   ]
  },
  {
   "cell_type": "markdown",
   "metadata": {
    "deletable": true,
    "editable": true,
    "slideshow": {
     "slide_type": "slide"
    }
   },
   "source": [
    "# Лабораторная работа\n",
    "\n",
    "Классификация новостных статей"
   ]
  },
  {
   "cell_type": "markdown",
   "metadata": {
    "deletable": true,
    "editable": true,
    "slideshow": {
     "slide_type": "slide"
    }
   },
   "source": [
    "# Как на самом деле делается классификация по тональности \n",
    "\n",
    "* Классификация на уровне предложений: выражено ли в предложении отношение к чему-то?\n",
    "* Если да, то к чему – к каким аспектам?\n",
    "* Построение аггрегированной оценки\n",
    "\n",
    "![title](img/tonsum.png)"
   ]
  }
 ],
 "metadata": {
  "celltoolbar": "Slideshow",
  "kernelspec": {
   "display_name": "Python 3",
   "language": "python",
   "name": "python3"
  },
  "language_info": {
   "codemirror_mode": {
    "name": "ipython",
    "version": 3
   },
   "file_extension": ".py",
   "mimetype": "text/x-python",
   "name": "python",
   "nbconvert_exporter": "python",
   "pygments_lexer": "ipython3",
   "version": "3.6.0"
  }
 },
 "nbformat": 4,
 "nbformat_minor": 2
}
